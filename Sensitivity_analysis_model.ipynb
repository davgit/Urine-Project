{
 "cells": [
  {
   "cell_type": "code",
   "execution_count": 1,
   "metadata": {
    "collapsed": false
   },
   "outputs": [],
   "source": [
    "from __future__ import division\n",
    "import pandas as pd\n",
    "import numpy as np\n",
    "import matplotlib.pyplot as plt\n",
    "import math\n",
    "import statsmodels.formula.api as sm\n",
    "import statsmodels.api as smf\n",
    "from scipy.stats import gamma,norm,rayleigh,describe,scoreatpercentile\n",
    "\n",
    "%matplotlib inline"
   ]
  },
  {
   "cell_type": "code",
   "execution_count": 2,
   "metadata": {
    "collapsed": false
   },
   "outputs": [],
   "source": [
    "from utils.Run_LCA_model import Run_LCA_model\n",
    "from utils.Parameter_values_dict import Parameter_names"
   ]
  },
  {
   "cell_type": "code",
   "execution_count": 3,
   "metadata": {
    "collapsed": false
   },
   "outputs": [],
   "source": [
    "buildings_path = '..\\shapefiles\\\\building_block_people_WGS_3_int.csv'\n",
    "logistics = 'optimal'\n",
    "analysis = 'Sensitivity'\n",
    "n_collection = 1\n",
    "n_regen = 20\n",
    "for direction in ['plus', 'minus']:\n",
    "    Result_Energy_m3 = pd.DataFrame()\n",
    "    Result_GHG_m3 = pd.DataFrame()\n",
    "    Result_COST_m3 = pd.DataFrame()\n",
    "    for param in Parameter_names:\n",
    "        Total_Energy_m3, Total_GHG_m3, Total_COST_m3 = Run_LCA_model(buildings_path, n_regen, n_collection, logistics, analysis, parameter = param, direction = direction)\n",
    "        Total_Energy_m3['param'], Total_GHG_m3['param'], Total_COST_m3['param'] = param, param, param\n",
    "        Result_Energy_m3 = Result_Energy_m3.append(Total_Energy_m3)\n",
    "        Result_GHG_m3 = Result_GHG_m3.append(Total_GHG_m3)\n",
    "        Result_COST_m3 = Result_COST_m3.append(Total_COST_m3)\n",
    "\n",
    "    Result_Energy_m3[\"sum\"] = (Result_Energy_m3.sum(axis=1)) - Result_Energy_m3[\"n_facilities\"]\n",
    "    Result_GHG_m3[\"sum\"] = (Result_GHG_m3.sum(axis=1)) - Result_GHG_m3[\"n_facilities\"]\n",
    "    Result_COST_m3[\"sum\"] = (Result_COST_m3.sum(axis=1)) - Result_COST_m3[\"n_facilities\"]\n",
    "\n",
    "    if direction == 'plus':\n",
    "        Result_Energy_param_plus = Result_Energy_m3[['sum', 'param']]\n",
    "        Result_GHG_param_plus = Result_GHG_m3[['sum', 'param']]\n",
    "        Result_COST_param_plus = Result_GHG_m3[['sum', 'param']]\n",
    "    if direction == 'minus':\n",
    "        Result_Energy_param_minus = Result_Energy_m3[['sum', 'param']]\n",
    "        Result_GHG_param_minus = Result_GHG_m3[['sum', 'param']]\n",
    "        Result_COST_param_minus = Result_GHG_m3[['sum', 'param']]"
   ]
  },
  {
   "cell_type": "code",
   "execution_count": 12,
   "metadata": {
    "collapsed": false
   },
   "outputs": [],
   "source": [
    "Sensitivity_Energy = pd.merge(Result_Energy_param_plus, Result_Energy_param_minus, on = 'param')\n",
    "Sensitivity_GHG = pd.merge(Result_GHG_param_plus, Result_GHG_param_minus, on = 'param')\n",
    "Sensitivity_COST = pd.merge(Result_COST_param_plus, Result_COST_param_minus, on = 'param')"
   ]
  },
  {
   "cell_type": "code",
   "execution_count": 13,
   "metadata": {
    "collapsed": false
   },
   "outputs": [],
   "source": [
    "Sensitivity_Energy['Sensitivity'] = abs(Sensitivity_Energy['sum_y'] - Sensitivity_Energy['sum_x'] )*5\n",
    "Sensitivity_GHG['Sensitivity'] = abs(Sensitivity_GHG['sum_y'] - Sensitivity_GHG['sum_x'] )*5\n",
    "Sensitivity_COST['Sensitivity'] = abs(Sensitivity_COST['sum_y'] - Sensitivity_COST['sum_x'] )*5"
   ]
  },
  {
   "cell_type": "code",
   "execution_count": 14,
   "metadata": {
    "collapsed": false
   },
   "outputs": [
    {
     "name": "stderr",
     "output_type": "stream",
     "text": [
      "C:\\Users\\Olga\\Anaconda3\\lib\\site-packages\\ipykernel\\__main__.py:1: FutureWarning: sort(columns=....) is deprecated, use sort_values(by=.....)\n",
      "  if __name__ == '__main__':\n"
     ]
    },
    {
     "data": {
      "text/html": [
       "<div>\n",
       "<table border=\"1\" class=\"dataframe\">\n",
       "  <thead>\n",
       "    <tr style=\"text-align: right;\">\n",
       "      <th></th>\n",
       "      <th>sum_x</th>\n",
       "      <th>param</th>\n",
       "      <th>sum_y</th>\n",
       "      <th>Sensitivity</th>\n",
       "    </tr>\n",
       "  </thead>\n",
       "  <tbody>\n",
       "    <tr>\n",
       "      <th>9</th>\n",
       "      <td>7.478204</td>\n",
       "      <td>adsorption_density</td>\n",
       "      <td>7.946093</td>\n",
       "      <td>2.339442</td>\n",
       "    </tr>\n",
       "    <tr>\n",
       "      <th>10</th>\n",
       "      <td>7.849602</td>\n",
       "      <td>time_between_catridge_regeneration</td>\n",
       "      <td>7.555980</td>\n",
       "      <td>1.468110</td>\n",
       "    </tr>\n",
       "    <tr>\n",
       "      <th>8</th>\n",
       "      <td>7.568009</td>\n",
       "      <td>resin_lifetime</td>\n",
       "      <td>7.848804</td>\n",
       "      <td>1.403978</td>\n",
       "    </tr>\n",
       "    <tr>\n",
       "      <th>4</th>\n",
       "      <td>7.842573</td>\n",
       "      <td>resin_energy_MJ_kg</td>\n",
       "      <td>7.563009</td>\n",
       "      <td>1.397819</td>\n",
       "    </tr>\n",
       "    <tr>\n",
       "      <th>49</th>\n",
       "      <td>7.788920</td>\n",
       "      <td>sulphuric_acid_energy</td>\n",
       "      <td>7.616662</td>\n",
       "      <td>0.861289</td>\n",
       "    </tr>\n",
       "    <tr>\n",
       "      <th>12</th>\n",
       "      <td>7.631138</td>\n",
       "      <td>urine_production</td>\n",
       "      <td>7.780415</td>\n",
       "      <td>0.746385</td>\n",
       "    </tr>\n",
       "    <tr>\n",
       "      <th>22</th>\n",
       "      <td>7.767069</td>\n",
       "      <td>transport_energy_MJ_km</td>\n",
       "      <td>7.638513</td>\n",
       "      <td>0.642779</td>\n",
       "    </tr>\n",
       "    <tr>\n",
       "      <th>0</th>\n",
       "      <td>7.689503</td>\n",
       "      <td>catridge_diameter</td>\n",
       "      <td>7.717777</td>\n",
       "      <td>0.141369</td>\n",
       "    </tr>\n",
       "  </tbody>\n",
       "</table>\n",
       "</div>"
      ],
      "text/plain": [
       "       sum_x                               param     sum_y  Sensitivity\n",
       "9   7.478204                  adsorption_density  7.946093     2.339442\n",
       "10  7.849602  time_between_catridge_regeneration  7.555980     1.468110\n",
       "8   7.568009                      resin_lifetime  7.848804     1.403978\n",
       "4   7.842573                  resin_energy_MJ_kg  7.563009     1.397819\n",
       "49  7.788920               sulphuric_acid_energy  7.616662     0.861289\n",
       "12  7.631138                    urine_production  7.780415     0.746385\n",
       "22  7.767069              transport_energy_MJ_km  7.638513     0.642779\n",
       "0   7.689503                   catridge_diameter  7.717777     0.141369"
      ]
     },
     "execution_count": 14,
     "metadata": {},
     "output_type": "execute_result"
    }
   ],
   "source": [
    "Sensitivity_Energy.sort(columns='Sensitivity', ascending=False)[:8]"
   ]
  },
  {
   "cell_type": "code",
   "execution_count": 15,
   "metadata": {
    "collapsed": false
   },
   "outputs": [
    {
     "name": "stderr",
     "output_type": "stream",
     "text": [
      "C:\\Users\\Olga\\Anaconda3\\lib\\site-packages\\ipykernel\\__main__.py:1: FutureWarning: sort(columns=....) is deprecated, use sort_values(by=.....)\n",
      "  if __name__ == '__main__':\n"
     ]
    },
    {
     "data": {
      "text/html": [
       "<div>\n",
       "<table border=\"1\" class=\"dataframe\">\n",
       "  <thead>\n",
       "    <tr style=\"text-align: right;\">\n",
       "      <th></th>\n",
       "      <th>sum_x</th>\n",
       "      <th>param</th>\n",
       "      <th>sum_y</th>\n",
       "      <th>Sensitivity</th>\n",
       "    </tr>\n",
       "  </thead>\n",
       "  <tbody>\n",
       "    <tr>\n",
       "      <th>9</th>\n",
       "      <td>1.531875</td>\n",
       "      <td>adsorption_density</td>\n",
       "      <td>1.617265</td>\n",
       "      <td>0.426952</td>\n",
       "    </tr>\n",
       "    <tr>\n",
       "      <th>50</th>\n",
       "      <td>1.594749</td>\n",
       "      <td>sulphuric_acid_GHG</td>\n",
       "      <td>1.550976</td>\n",
       "      <td>0.218869</td>\n",
       "    </tr>\n",
       "    <tr>\n",
       "      <th>10</th>\n",
       "      <td>1.593466</td>\n",
       "      <td>time_between_catridge_regeneration</td>\n",
       "      <td>1.552259</td>\n",
       "      <td>0.206037</td>\n",
       "    </tr>\n",
       "    <tr>\n",
       "      <th>12</th>\n",
       "      <td>1.553360</td>\n",
       "      <td>urine_production</td>\n",
       "      <td>1.593990</td>\n",
       "      <td>0.203152</td>\n",
       "    </tr>\n",
       "    <tr>\n",
       "      <th>23</th>\n",
       "      <td>1.590662</td>\n",
       "      <td>transport_GHG_kg_km</td>\n",
       "      <td>1.555062</td>\n",
       "      <td>0.178000</td>\n",
       "    </tr>\n",
       "    <tr>\n",
       "      <th>8</th>\n",
       "      <td>1.556630</td>\n",
       "      <td>resin_lifetime</td>\n",
       "      <td>1.590448</td>\n",
       "      <td>0.169092</td>\n",
       "    </tr>\n",
       "    <tr>\n",
       "      <th>5</th>\n",
       "      <td>1.589636</td>\n",
       "      <td>resin_GHG_kg_kg</td>\n",
       "      <td>1.556089</td>\n",
       "      <td>0.167738</td>\n",
       "    </tr>\n",
       "    <tr>\n",
       "      <th>0</th>\n",
       "      <td>1.565636</td>\n",
       "      <td>catridge_diameter</td>\n",
       "      <td>1.581011</td>\n",
       "      <td>0.076871</td>\n",
       "    </tr>\n",
       "  </tbody>\n",
       "</table>\n",
       "</div>"
      ],
      "text/plain": [
       "       sum_x                               param     sum_y  Sensitivity\n",
       "9   1.531875                  adsorption_density  1.617265     0.426952\n",
       "50  1.594749                  sulphuric_acid_GHG  1.550976     0.218869\n",
       "10  1.593466  time_between_catridge_regeneration  1.552259     0.206037\n",
       "12  1.553360                    urine_production  1.593990     0.203152\n",
       "23  1.590662                 transport_GHG_kg_km  1.555062     0.178000\n",
       "8   1.556630                      resin_lifetime  1.590448     0.169092\n",
       "5   1.589636                     resin_GHG_kg_kg  1.556089     0.167738\n",
       "0   1.565636                   catridge_diameter  1.581011     0.076871"
      ]
     },
     "execution_count": 15,
     "metadata": {},
     "output_type": "execute_result"
    }
   ],
   "source": [
    "Sensitivity_GHG.sort(columns='Sensitivity', ascending=False)[:8]"
   ]
  },
  {
   "cell_type": "code",
   "execution_count": 16,
   "metadata": {
    "collapsed": false
   },
   "outputs": [
    {
     "name": "stderr",
     "output_type": "stream",
     "text": [
      "C:\\Users\\Olga\\Anaconda3\\lib\\site-packages\\ipykernel\\__main__.py:1: FutureWarning: sort(columns=....) is deprecated, use sort_values(by=.....)\n",
      "  if __name__ == '__main__':\n"
     ]
    },
    {
     "data": {
      "text/html": [
       "<div>\n",
       "<table border=\"1\" class=\"dataframe\">\n",
       "  <thead>\n",
       "    <tr style=\"text-align: right;\">\n",
       "      <th></th>\n",
       "      <th>sum_x</th>\n",
       "      <th>param</th>\n",
       "      <th>sum_y</th>\n",
       "      <th>Sensitivity</th>\n",
       "    </tr>\n",
       "  </thead>\n",
       "  <tbody>\n",
       "    <tr>\n",
       "      <th>9</th>\n",
       "      <td>1.531875</td>\n",
       "      <td>adsorption_density</td>\n",
       "      <td>1.617265</td>\n",
       "      <td>0.426952</td>\n",
       "    </tr>\n",
       "    <tr>\n",
       "      <th>50</th>\n",
       "      <td>1.594749</td>\n",
       "      <td>sulphuric_acid_GHG</td>\n",
       "      <td>1.550976</td>\n",
       "      <td>0.218869</td>\n",
       "    </tr>\n",
       "    <tr>\n",
       "      <th>10</th>\n",
       "      <td>1.593466</td>\n",
       "      <td>time_between_catridge_regeneration</td>\n",
       "      <td>1.552259</td>\n",
       "      <td>0.206037</td>\n",
       "    </tr>\n",
       "    <tr>\n",
       "      <th>12</th>\n",
       "      <td>1.553360</td>\n",
       "      <td>urine_production</td>\n",
       "      <td>1.593990</td>\n",
       "      <td>0.203152</td>\n",
       "    </tr>\n",
       "    <tr>\n",
       "      <th>23</th>\n",
       "      <td>1.590662</td>\n",
       "      <td>transport_GHG_kg_km</td>\n",
       "      <td>1.555062</td>\n",
       "      <td>0.178000</td>\n",
       "    </tr>\n",
       "    <tr>\n",
       "      <th>8</th>\n",
       "      <td>1.556630</td>\n",
       "      <td>resin_lifetime</td>\n",
       "      <td>1.590448</td>\n",
       "      <td>0.169092</td>\n",
       "    </tr>\n",
       "    <tr>\n",
       "      <th>5</th>\n",
       "      <td>1.589636</td>\n",
       "      <td>resin_GHG_kg_kg</td>\n",
       "      <td>1.556089</td>\n",
       "      <td>0.167738</td>\n",
       "    </tr>\n",
       "    <tr>\n",
       "      <th>0</th>\n",
       "      <td>1.565636</td>\n",
       "      <td>catridge_diameter</td>\n",
       "      <td>1.581011</td>\n",
       "      <td>0.076871</td>\n",
       "    </tr>\n",
       "  </tbody>\n",
       "</table>\n",
       "</div>"
      ],
      "text/plain": [
       "       sum_x                               param     sum_y  Sensitivity\n",
       "9   1.531875                  adsorption_density  1.617265     0.426952\n",
       "50  1.594749                  sulphuric_acid_GHG  1.550976     0.218869\n",
       "10  1.593466  time_between_catridge_regeneration  1.552259     0.206037\n",
       "12  1.553360                    urine_production  1.593990     0.203152\n",
       "23  1.590662                 transport_GHG_kg_km  1.555062     0.178000\n",
       "8   1.556630                      resin_lifetime  1.590448     0.169092\n",
       "5   1.589636                     resin_GHG_kg_kg  1.556089     0.167738\n",
       "0   1.565636                   catridge_diameter  1.581011     0.076871"
      ]
     },
     "execution_count": 16,
     "metadata": {},
     "output_type": "execute_result"
    }
   ],
   "source": [
    "Sensitivity_COST.sort(columns='Sensitivity', ascending=False)[:8]"
   ]
  },
  {
   "cell_type": "code",
   "execution_count": null,
   "metadata": {
    "collapsed": true
   },
   "outputs": [],
   "source": []
  },
  {
   "cell_type": "code",
   "execution_count": null,
   "metadata": {
    "collapsed": true
   },
   "outputs": [],
   "source": []
  }
 ],
 "metadata": {
  "anaconda-cloud": {},
  "kernelspec": {
   "display_name": "Python [Root]",
   "language": "python",
   "name": "Python [Root]"
  },
  "language_info": {
   "codemirror_mode": {
    "name": "ipython",
    "version": 3
   },
   "file_extension": ".py",
   "mimetype": "text/x-python",
   "name": "python",
   "nbconvert_exporter": "python",
   "pygments_lexer": "ipython3",
   "version": "3.5.2"
  }
 },
 "nbformat": 4,
 "nbformat_minor": 0
}
