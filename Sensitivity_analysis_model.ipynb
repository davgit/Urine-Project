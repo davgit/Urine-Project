{
 "cells": [
  {
   "cell_type": "code",
   "execution_count": 1,
   "metadata": {
    "collapsed": false
   },
   "outputs": [],
   "source": [
    "from __future__ import division\n",
    "import pandas as pd\n",
    "import numpy as np\n",
    "import matplotlib.pyplot as plt\n",
    "import math\n",
    "import statsmodels.formula.api as sm\n",
    "import statsmodels.api as smf\n",
    "from scipy.stats import gamma,norm,rayleigh,describe,scoreatpercentile\n",
    "\n",
    "%matplotlib inline"
   ]
  },
  {
   "cell_type": "code",
   "execution_count": 2,
   "metadata": {
    "collapsed": false
   },
   "outputs": [],
   "source": [
    "from utils.Run_LCA_model import Run_LCA_model\n",
    "from utils.Parameter_values_dict import Parameter_names"
   ]
  },
  {
   "cell_type": "code",
   "execution_count": 3,
   "metadata": {
    "collapsed": false
   },
   "outputs": [],
   "source": [
    "buildings_path = '..\\shapefiles\\\\building_block_people_WGS_3_int.csv'\n",
    "logistics = 'optimal'\n",
    "analysis = 'Sensitivity'\n",
    "n_collection = 1\n",
    "n_regen = 20\n",
    "for direction in ['plus', 'minus']:\n",
    "    Result_Energy_m3 = pd.DataFrame()\n",
    "    Result_GHG_m3 = pd.DataFrame()\n",
    "    Result_COST_m3 = pd.DataFrame()\n",
    "    for param in Parameter_names:\n",
    "        Total_Energy_m3, Total_GHG_m3, Total_COST_m3 = Run_LCA_model(buildings_path, n_regen, n_collection, logistics, analysis, parameter = param, direction = direction)\n",
    "        Total_Energy_m3['param'], Total_GHG_m3['param'], Total_COST_m3['param'] = param, param, param\n",
    "        Result_Energy_m3 = Result_Energy_m3.append(Total_Energy_m3)\n",
    "        Result_GHG_m3 = Result_GHG_m3.append(Total_GHG_m3)\n",
    "        Result_COST_m3 = Result_COST_m3.append(Total_COST_m3)\n",
    "\n",
    "    Result_Energy_m3[\"sum\"] = (Result_Energy_m3.sum(axis=1)) - Result_Energy_m3[\"n_facilities\"]\n",
    "    Result_GHG_m3[\"sum\"] = (Result_GHG_m3.sum(axis=1)) - Result_GHG_m3[\"n_facilities\"]\n",
    "    Result_COST_m3[\"sum\"] = (Result_COST_m3.sum(axis=1)) - Result_COST_m3[\"n_facilities\"]\n",
    "\n",
    "    if direction == 'plus':\n",
    "        Result_Energy_param_plus = Result_Energy_m3[['sum', 'param']]\n",
    "        Result_GHG_param_plus = Result_GHG_m3[['sum', 'param']]\n",
    "        Result_COST_param_plus = Result_COST_m3[['sum', 'param']]\n",
    "    if direction == 'minus':\n",
    "        Result_Energy_param_minus = Result_Energy_m3[['sum', 'param']]\n",
    "        Result_GHG_param_minus = Result_GHG_m3[['sum', 'param']]\n",
    "        Result_COST_param_minus = Result_COST_m3[['sum', 'param']]"
   ]
  },
  {
   "cell_type": "code",
   "execution_count": 4,
   "metadata": {
    "collapsed": false
   },
   "outputs": [],
   "source": [
    "Sensitivity_Energy = pd.merge(Result_Energy_param_plus, Result_Energy_param_minus, on = 'param')\n",
    "Sensitivity_GHG = pd.merge(Result_GHG_param_plus, Result_GHG_param_minus, on = 'param')\n",
    "Sensitivity_COST = pd.merge(Result_COST_param_plus, Result_COST_param_minus, on = 'param')"
   ]
  },
  {
   "cell_type": "code",
   "execution_count": 5,
   "metadata": {
    "collapsed": false
   },
   "outputs": [],
   "source": [
    "Sensitivity_Energy['Sensitivity'] = abs(Sensitivity_Energy['sum_y'] - Sensitivity_Energy['sum_x'])*5\n",
    "Sensitivity_GHG['Sensitivity'] = abs(Sensitivity_GHG['sum_y'] - Sensitivity_GHG['sum_x'])*5\n",
    "Sensitivity_COST['Sensitivity'] = abs(Sensitivity_COST['sum_y'] - Sensitivity_COST['sum_x'])*5"
   ]
  },
  {
   "cell_type": "code",
   "execution_count": 6,
   "metadata": {
    "collapsed": false
   },
   "outputs": [
    {
     "name": "stderr",
     "output_type": "stream",
     "text": [
      "C:\\Users\\Olga\\Anaconda3\\lib\\site-packages\\ipykernel\\__main__.py:1: FutureWarning: sort(columns=....) is deprecated, use sort_values(by=.....)\n",
      "  if __name__ == '__main__':\n"
     ]
    },
    {
     "data": {
      "text/html": [
       "<div>\n",
       "<table border=\"1\" class=\"dataframe\">\n",
       "  <thead>\n",
       "    <tr style=\"text-align: right;\">\n",
       "      <th></th>\n",
       "      <th>sum_x</th>\n",
       "      <th>param</th>\n",
       "      <th>sum_y</th>\n",
       "      <th>Sensitivity</th>\n",
       "    </tr>\n",
       "  </thead>\n",
       "  <tbody>\n",
       "    <tr>\n",
       "      <th>10</th>\n",
       "      <td>14.104632</td>\n",
       "      <td>adsorption_density</td>\n",
       "      <td>14.793534</td>\n",
       "      <td>3.444511</td>\n",
       "    </tr>\n",
       "    <tr>\n",
       "      <th>53</th>\n",
       "      <td>14.753411</td>\n",
       "      <td>sulphuric_acid_energy</td>\n",
       "      <td>14.127883</td>\n",
       "      <td>3.127643</td>\n",
       "    </tr>\n",
       "    <tr>\n",
       "      <th>11</th>\n",
       "      <td>14.611236</td>\n",
       "      <td>time_between_catridge_regeneration</td>\n",
       "      <td>14.270059</td>\n",
       "      <td>1.705890</td>\n",
       "    </tr>\n",
       "    <tr>\n",
       "      <th>9</th>\n",
       "      <td>14.305903</td>\n",
       "      <td>resin_lifetime</td>\n",
       "      <td>14.586620</td>\n",
       "      <td>1.403588</td>\n",
       "    </tr>\n",
       "    <tr>\n",
       "      <th>5</th>\n",
       "      <td>14.580362</td>\n",
       "      <td>resin_energy_MJ_kg</td>\n",
       "      <td>14.300932</td>\n",
       "      <td>1.397151</td>\n",
       "    </tr>\n",
       "    <tr>\n",
       "      <th>2</th>\n",
       "      <td>14.355511</td>\n",
       "      <td>PVC_lifetime</td>\n",
       "      <td>14.549001</td>\n",
       "      <td>0.967451</td>\n",
       "    </tr>\n",
       "    <tr>\n",
       "      <th>23</th>\n",
       "      <td>14.507703</td>\n",
       "      <td>transport_energy_MJ_km</td>\n",
       "      <td>14.373592</td>\n",
       "      <td>0.670555</td>\n",
       "    </tr>\n",
       "    <tr>\n",
       "      <th>13</th>\n",
       "      <td>14.393311</td>\n",
       "      <td>urine_production</td>\n",
       "      <td>14.503503</td>\n",
       "      <td>0.550964</td>\n",
       "    </tr>\n",
       "  </tbody>\n",
       "</table>\n",
       "</div>"
      ],
      "text/plain": [
       "        sum_x                               param      sum_y  Sensitivity\n",
       "10  14.104632                  adsorption_density  14.793534     3.444511\n",
       "53  14.753411               sulphuric_acid_energy  14.127883     3.127643\n",
       "11  14.611236  time_between_catridge_regeneration  14.270059     1.705890\n",
       "9   14.305903                      resin_lifetime  14.586620     1.403588\n",
       "5   14.580362                  resin_energy_MJ_kg  14.300932     1.397151\n",
       "2   14.355511                        PVC_lifetime  14.549001     0.967451\n",
       "23  14.507703              transport_energy_MJ_km  14.373592     0.670555\n",
       "13  14.393311                    urine_production  14.503503     0.550964"
      ]
     },
     "execution_count": 6,
     "metadata": {},
     "output_type": "execute_result"
    }
   ],
   "source": [
    "Sensitivity_Energy.sort(columns='Sensitivity', ascending=False)[:8]"
   ]
  },
  {
   "cell_type": "code",
   "execution_count": 7,
   "metadata": {
    "collapsed": false
   },
   "outputs": [
    {
     "name": "stderr",
     "output_type": "stream",
     "text": [
      "C:\\Users\\Olga\\Anaconda3\\lib\\site-packages\\ipykernel\\__main__.py:1: FutureWarning: sort(columns=....) is deprecated, use sort_values(by=.....)\n",
      "  if __name__ == '__main__':\n"
     ]
    },
    {
     "data": {
      "text/html": [
       "<div>\n",
       "<table border=\"1\" class=\"dataframe\">\n",
       "  <thead>\n",
       "    <tr style=\"text-align: right;\">\n",
       "      <th></th>\n",
       "      <th>sum_x</th>\n",
       "      <th>param</th>\n",
       "      <th>sum_y</th>\n",
       "      <th>Sensitivity</th>\n",
       "    </tr>\n",
       "  </thead>\n",
       "  <tbody>\n",
       "    <tr>\n",
       "      <th>13</th>\n",
       "      <td>4.036752</td>\n",
       "      <td>urine_production</td>\n",
       "      <td>4.428987</td>\n",
       "      <td>1.961176</td>\n",
       "    </tr>\n",
       "    <tr>\n",
       "      <th>0</th>\n",
       "      <td>2.964649</td>\n",
       "      <td>percent_served</td>\n",
       "      <td>2.688437</td>\n",
       "      <td>1.381062</td>\n",
       "    </tr>\n",
       "    <tr>\n",
       "      <th>54</th>\n",
       "      <td>4.284726</td>\n",
       "      <td>sulphuric_acid_GHG</td>\n",
       "      <td>4.125768</td>\n",
       "      <td>0.794789</td>\n",
       "    </tr>\n",
       "    <tr>\n",
       "      <th>10</th>\n",
       "      <td>4.137351</td>\n",
       "      <td>adsorption_density</td>\n",
       "      <td>4.276552</td>\n",
       "      <td>0.696003</td>\n",
       "    </tr>\n",
       "    <tr>\n",
       "      <th>24</th>\n",
       "      <td>4.256122</td>\n",
       "      <td>transport_GHG_kg_km</td>\n",
       "      <td>4.154372</td>\n",
       "      <td>0.508750</td>\n",
       "    </tr>\n",
       "    <tr>\n",
       "      <th>2</th>\n",
       "      <td>4.167599</td>\n",
       "      <td>PVC_lifetime</td>\n",
       "      <td>4.253164</td>\n",
       "      <td>0.427823</td>\n",
       "    </tr>\n",
       "    <tr>\n",
       "      <th>11</th>\n",
       "      <td>4.227344</td>\n",
       "      <td>time_between_catridge_regeneration</td>\n",
       "      <td>4.183151</td>\n",
       "      <td>0.220967</td>\n",
       "    </tr>\n",
       "    <tr>\n",
       "      <th>9</th>\n",
       "      <td>4.189005</td>\n",
       "      <td>resin_lifetime</td>\n",
       "      <td>4.222843</td>\n",
       "      <td>0.169186</td>\n",
       "    </tr>\n",
       "  </tbody>\n",
       "</table>\n",
       "</div>"
      ],
      "text/plain": [
       "       sum_x                               param     sum_y  Sensitivity\n",
       "13  4.036752                    urine_production  4.428987     1.961176\n",
       "0   2.964649                      percent_served  2.688437     1.381062\n",
       "54  4.284726                  sulphuric_acid_GHG  4.125768     0.794789\n",
       "10  4.137351                  adsorption_density  4.276552     0.696003\n",
       "24  4.256122                 transport_GHG_kg_km  4.154372     0.508750\n",
       "2   4.167599                        PVC_lifetime  4.253164     0.427823\n",
       "11  4.227344  time_between_catridge_regeneration  4.183151     0.220967\n",
       "9   4.189005                      resin_lifetime  4.222843     0.169186"
      ]
     },
     "execution_count": 7,
     "metadata": {},
     "output_type": "execute_result"
    }
   ],
   "source": [
    "Sensitivity_GHG.sort(columns='Sensitivity', ascending=False)[:8]"
   ]
  },
  {
   "cell_type": "code",
   "execution_count": 8,
   "metadata": {
    "collapsed": false
   },
   "outputs": [
    {
     "name": "stderr",
     "output_type": "stream",
     "text": [
      "C:\\Users\\Olga\\Anaconda3\\lib\\site-packages\\ipykernel\\__main__.py:1: FutureWarning: sort(columns=....) is deprecated, use sort_values(by=.....)\n",
      "  if __name__ == '__main__':\n"
     ]
    },
    {
     "data": {
      "text/html": [
       "<div>\n",
       "<table border=\"1\" class=\"dataframe\">\n",
       "  <thead>\n",
       "    <tr style=\"text-align: right;\">\n",
       "      <th></th>\n",
       "      <th>sum_x</th>\n",
       "      <th>param</th>\n",
       "      <th>sum_y</th>\n",
       "      <th>Sensitivity</th>\n",
       "    </tr>\n",
       "  </thead>\n",
       "  <tbody>\n",
       "    <tr>\n",
       "      <th>13</th>\n",
       "      <td>16.494009</td>\n",
       "      <td>urine_production</td>\n",
       "      <td>19.993146</td>\n",
       "      <td>17.495687</td>\n",
       "    </tr>\n",
       "    <tr>\n",
       "      <th>58</th>\n",
       "      <td>18.609809</td>\n",
       "      <td>sulphuric_acid_cost</td>\n",
       "      <td>17.384509</td>\n",
       "      <td>6.126501</td>\n",
       "    </tr>\n",
       "    <tr>\n",
       "      <th>14</th>\n",
       "      <td>17.557928</td>\n",
       "      <td>household_size</td>\n",
       "      <td>18.490354</td>\n",
       "      <td>4.662129</td>\n",
       "    </tr>\n",
       "    <tr>\n",
       "      <th>72</th>\n",
       "      <td>18.422707</td>\n",
       "      <td>facility_cost_regression</td>\n",
       "      <td>17.571612</td>\n",
       "      <td>4.255475</td>\n",
       "    </tr>\n",
       "    <tr>\n",
       "      <th>0</th>\n",
       "      <td>14.227422</td>\n",
       "      <td>percent_served</td>\n",
       "      <td>13.389233</td>\n",
       "      <td>4.190946</td>\n",
       "    </tr>\n",
       "    <tr>\n",
       "      <th>10</th>\n",
       "      <td>17.858000</td>\n",
       "      <td>adsorption_density</td>\n",
       "      <td>18.143306</td>\n",
       "      <td>1.426529</td>\n",
       "    </tr>\n",
       "    <tr>\n",
       "      <th>11</th>\n",
       "      <td>18.033420</td>\n",
       "      <td>time_between_catridge_regeneration</td>\n",
       "      <td>17.960899</td>\n",
       "      <td>0.362605</td>\n",
       "    </tr>\n",
       "    <tr>\n",
       "      <th>9</th>\n",
       "      <td>17.964869</td>\n",
       "      <td>resin_lifetime</td>\n",
       "      <td>18.032140</td>\n",
       "      <td>0.336357</td>\n",
       "    </tr>\n",
       "  </tbody>\n",
       "</table>\n",
       "</div>"
      ],
      "text/plain": [
       "        sum_x                               param      sum_y  Sensitivity\n",
       "13  16.494009                    urine_production  19.993146    17.495687\n",
       "58  18.609809                 sulphuric_acid_cost  17.384509     6.126501\n",
       "14  17.557928                      household_size  18.490354     4.662129\n",
       "72  18.422707            facility_cost_regression  17.571612     4.255475\n",
       "0   14.227422                      percent_served  13.389233     4.190946\n",
       "10  17.858000                  adsorption_density  18.143306     1.426529\n",
       "11  18.033420  time_between_catridge_regeneration  17.960899     0.362605\n",
       "9   17.964869                      resin_lifetime  18.032140     0.336357"
      ]
     },
     "execution_count": 8,
     "metadata": {},
     "output_type": "execute_result"
    }
   ],
   "source": [
    "Sensitivity_COST.sort(columns='Sensitivity', ascending=False)[:8]"
   ]
  },
  {
   "cell_type": "code",
   "execution_count": null,
   "metadata": {
    "collapsed": true
   },
   "outputs": [],
   "source": []
  },
  {
   "cell_type": "code",
   "execution_count": null,
   "metadata": {
    "collapsed": true
   },
   "outputs": [],
   "source": []
  }
 ],
 "metadata": {
  "anaconda-cloud": {},
  "kernelspec": {
   "display_name": "Python [conda root]",
   "language": "python",
   "name": "conda-root-py"
  },
  "language_info": {
   "codemirror_mode": {
    "name": "ipython",
    "version": 3
   },
   "file_extension": ".py",
   "mimetype": "text/x-python",
   "name": "python",
   "nbconvert_exporter": "python",
   "pygments_lexer": "ipython3",
   "version": "3.5.2"
  }
 },
 "nbformat": 4,
 "nbformat_minor": 0
}
