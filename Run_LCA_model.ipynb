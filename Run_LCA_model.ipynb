{
 "cells": [
  {
   "cell_type": "code",
   "execution_count": 1,
   "metadata": {
    "collapsed": false
   },
   "outputs": [],
   "source": [
    "from __future__ import division\n",
    "import pandas as pd\n",
    "import numpy as np\n",
    "import matplotlib.pyplot as plt\n",
    "import math\n",
    "import statsmodels.formula.api as sm\n",
    "import statsmodels.api as smf\n",
    "%matplotlib inline"
   ]
  },
  {
   "cell_type": "code",
   "execution_count": 2,
   "metadata": {
    "collapsed": false
   },
   "outputs": [],
   "source": [
    "from utils.Run_LCA_model import Run_LCA_model"
   ]
  },
  {
   "cell_type": "markdown",
   "metadata": {},
   "source": [
    "## Set your inputs\n",
    "\n",
    "* Path to shapefile with building data and population\n",
    "* logistics scenario to run (choose from: 'optimal', 'grid', 'random')\n",
    "* Max number of regeneration facilities\n",
    "* Number of fertilizer collection facilities"
   ]
  },
  {
   "cell_type": "code",
   "execution_count": 11,
   "metadata": {
    "collapsed": true
   },
   "outputs": [],
   "source": [
    "#buildings_path = '..\\shapefiles\\\\building_block_people_WGS_3_int.csv'\n",
    "buildings_path = '..\\shapefiles\\\\building_block_people_WGS_3_empl.csv'\n",
    "logistics = 'grid'\n",
    "analysis = 'Normal'\n",
    "total_num_regeneration = 100\n",
    "n_collection = 1"
   ]
  },
  {
   "cell_type": "code",
   "execution_count": 12,
   "metadata": {
    "collapsed": false
   },
   "outputs": [
    {
     "name": "stdout",
     "output_type": "stream",
     "text": [
      "Start calculating distances...\n",
      "calc distances took time 39.05440020561218\n",
      "Total_people = 690322.5\n",
      "truck_num = 324.45000000000005\n",
      "dist = 168237.5612608427\n",
      "2\n",
      "Start calculating distances...\n",
      "calc distances took time 36.59932017326355\n",
      "Total_people = 690322.5\n",
      "truck_num = 324.47\n",
      "dist = 145256.9936401495\n",
      "7\n",
      "Start calculating distances...\n",
      "calc distances took time 32.15073776245117\n",
      "Total_people = 690322.5\n",
      "truck_num = 324.48\n",
      "dist = 136575.63964536437\n",
      "12\n",
      "Start calculating distances...\n",
      "calc distances took time 35.9690682888031\n",
      "Total_people = 690322.5\n",
      "truck_num = 324.5199999999999\n",
      "dist = 128203.01281405674\n",
      "22\n",
      "Start calculating distances...\n",
      "calc distances took time 52.30702257156372\n",
      "Total_people = 690322.5\n",
      "truck_num = 324.54\n",
      "dist = 121964.04414045114\n",
      "32\n",
      "Start calculating distances...\n",
      "calc distances took time 51.32602667808533\n",
      "Total_people = 690322.5\n",
      "truck_num = 324.62\n",
      "dist = 117942.44036271951\n",
      "42\n",
      "Start calculating distances...\n",
      "calc distances took time 52.5451922416687\n",
      "Total_people = 690322.5\n",
      "truck_num = 324.65\n",
      "dist = 117631.13323499582\n",
      "52\n",
      "Start calculating distances...\n",
      "calc distances took time 40.90433168411255\n",
      "Total_people = 690322.5\n",
      "truck_num = 324.63000000000005\n",
      "dist = 114526.29767252044\n",
      "62\n",
      "Start calculating distances...\n",
      "calc distances took time 42.62797403335571\n",
      "Total_people = 690322.5\n",
      "truck_num = 325.68000000000006\n",
      "dist = 112973.93287707219\n",
      "72\n",
      "Start calculating distances...\n",
      "calc distances took time 57.17061924934387\n",
      "Total_people = 690322.5\n",
      "truck_num = 325.73999999999995\n",
      "dist = 111427.59577732929\n",
      "82\n",
      "Start calculating distances...\n",
      "calc distances took time 40.041266202926636\n",
      "Total_people = 690322.5\n",
      "truck_num = 325.83\n",
      "dist = 109861.19122137023\n",
      "92\n"
     ]
    }
   ],
   "source": [
    "Result_Energy_m3 = pd.DataFrame()\n",
    "Result_GHG_m3 = pd.DataFrame()\n",
    "Result_COST_m3 = pd.DataFrame()\n",
    "i=2\n",
    "while i < total_num_regeneration:\n",
    "    n_regen = i\n",
    "    Total_Energy_m3, Total_GHG_m3, Total_COST_m3 = Run_LCA_model(buildings_path, n_regen, n_collection, logistics, analysis)\n",
    "    Result_Energy_m3 = Result_Energy_m3.append(Total_Energy_m3)\n",
    "    Result_GHG_m3 = Result_GHG_m3.append(Total_GHG_m3)\n",
    "    Result_COST_m3 = Result_COST_m3.append(Total_COST_m3)\n",
    "    print (i)\n",
    "    if i<10:\n",
    "        i = i + 5\n",
    "    else:\n",
    "        i = i+10"
   ]
  },
  {
   "cell_type": "code",
   "execution_count": 13,
   "metadata": {
    "collapsed": false
   },
   "outputs": [],
   "source": [
    "Result_Energy_m3[\"sum\"] = (Result_Energy_m3.sum(axis=1)) - Result_Energy_m3[\"n_facilities\"]\n",
    "Result_GHG_m3[\"sum\"] = (Result_GHG_m3.sum(axis=1)) - Result_GHG_m3[\"n_facilities\"]\n",
    "Result_COST_m3[\"sum\"] = (Result_COST_m3.sum(axis=1)) - Result_COST_m3[\"n_facilities\"]"
   ]
  },
  {
   "cell_type": "code",
   "execution_count": 14,
   "metadata": {
    "collapsed": false
   },
   "outputs": [],
   "source": [
    "Result_Energy_m3.to_csv('results/Energy_m3_%s.csv'% (logistics)) \n",
    "Result_GHG_m3.to_csv('results/GHG_m3_%s.csv'% (logistics)) \n",
    "Result_COST_m3.to_csv('results/COST_m3_%s.csv'% (logistics)) "
   ]
  },
  {
   "cell_type": "code",
   "execution_count": null,
   "metadata": {
    "collapsed": true
   },
   "outputs": [],
   "source": []
  }
 ],
 "metadata": {
  "anaconda-cloud": {},
  "kernelspec": {
   "display_name": "Python [conda root]",
   "language": "python",
   "name": "conda-root-py"
  },
  "language_info": {
   "codemirror_mode": {
    "name": "ipython",
    "version": 3
   },
   "file_extension": ".py",
   "mimetype": "text/x-python",
   "name": "python",
   "nbconvert_exporter": "python",
   "pygments_lexer": "ipython3",
   "version": "3.5.2"
  }
 },
 "nbformat": 4,
 "nbformat_minor": 0
}
