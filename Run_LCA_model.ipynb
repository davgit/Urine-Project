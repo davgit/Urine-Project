{
 "cells": [
  {
   "cell_type": "code",
   "execution_count": 1,
   "metadata": {
    "collapsed": false
   },
   "outputs": [],
   "source": [
    "from __future__ import division\n",
    "import pandas as pd\n",
    "import numpy as np\n",
    "import matplotlib.pyplot as plt\n",
    "import math\n",
    "import statsmodels.formula.api as sm\n",
    "import statsmodels.api as smf\n",
    "%matplotlib inline"
   ]
  },
  {
   "cell_type": "code",
   "execution_count": 2,
   "metadata": {
    "collapsed": false
   },
   "outputs": [],
   "source": [
    "from Parameters import *\n",
    "from Run_LCA_model import Run_LCA_model"
   ]
  },
  {
   "cell_type": "code",
   "execution_count": 12,
   "metadata": {
    "collapsed": false
   },
   "outputs": [
    {
     "name": "stdout",
     "output_type": "stream",
     "text": [
      "Start calculating distances for scheduled...\n",
      "calc distances took time 20.74286699295044\n",
      "2\n",
      "Start calculating distances for scheduled...\n",
      "calc distances took time 19.186011791229248\n",
      "4\n",
      "Start calculating distances for scheduled...\n",
      "calc distances took time 20.615972757339478\n",
      "6\n",
      "Start calculating distances for scheduled...\n",
      "calc distances took time 24.36211609840393\n",
      "8\n",
      "Start calculating distances for scheduled...\n",
      "calc distances took time 21.149975776672363\n",
      "10\n",
      "Start calculating distances for scheduled...\n",
      "calc distances took time 19.397613525390625\n",
      "15\n",
      "Start calculating distances for scheduled...\n",
      "calc distances took time 18.270267009735107\n",
      "20\n",
      "Start calculating distances for scheduled...\n",
      "calc distances took time 20.83747625350952\n",
      "25\n",
      "Start calculating distances for scheduled...\n",
      "calc distances took time 20.586974620819092\n",
      "30\n",
      "Start calculating distances for scheduled...\n",
      "calc distances took time 19.28960943222046\n",
      "35\n",
      "Start calculating distances for scheduled...\n",
      "calc distances took time 21.216609954833984\n",
      "40\n",
      "Start calculating distances for scheduled...\n",
      "calc distances took time 21.675286531448364\n",
      "45\n",
      "Start calculating distances for scheduled...\n",
      "calc distances took time 19.594178438186646\n",
      "50\n",
      "Start calculating distances for scheduled...\n",
      "calc distances took time 18.551854372024536\n",
      "55\n",
      "Start calculating distances for scheduled...\n",
      "calc distances took time 17.746985912322998\n",
      "60\n",
      "Start calculating distances for scheduled...\n",
      "calc distances took time 25.335383415222168\n",
      "65\n",
      "Start calculating distances for scheduled...\n",
      "calc distances took time 22.339781522750854\n",
      "70\n",
      "Start calculating distances for scheduled...\n",
      "calc distances took time 17.890824556350708\n",
      "75\n",
      "Start calculating distances for scheduled...\n",
      "calc distances took time 17.90205693244934\n",
      "80\n",
      "Start calculating distances for scheduled...\n",
      "calc distances took time 17.875561714172363\n",
      "85\n",
      "Start calculating distances for scheduled...\n",
      "calc distances took time 18.72212553024292\n",
      "90\n",
      "Start calculating distances for scheduled...\n",
      "calc distances took time 18.278589963912964\n",
      "95\n"
     ]
    }
   ],
   "source": [
    "buildings_path = '..\\shapefiles\\\\building_block_people_WGS_3_int.csv'\n",
    "schedule = 'scheduled' \n",
    "logistics = 'random'\n",
    "n_collection = 1\n",
    "Result_Energy_m3 = pd.DataFrame()\n",
    "Result_GHG_m3 = pd.DataFrame()\n",
    "Result_COST_m3 = pd.DataFrame()\n",
    "i=2\n",
    "while i < 100:\n",
    "    n_regen = i\n",
    "    Total_Energy_m3, Total_GHG_m3, Total_COST_m3= Run_LCA_model(buildings_path, n_regen, n_collection, schedule, logistics)\n",
    "    Result_Energy_m3 = Result_Energy_m3.append(Total_Energy_m3)\n",
    "    Result_GHG_m3 = Result_GHG_m3.append(Total_GHG_m3)\n",
    "    Result_COST_m3 = Result_COST_m3.append(Total_COST_m3)\n",
    "    print (i)\n",
    "    if i<10:\n",
    "        i = i + 2\n",
    "    else:\n",
    "        i = i+5"
   ]
  },
  {
   "cell_type": "code",
   "execution_count": 13,
   "metadata": {
    "collapsed": false
   },
   "outputs": [],
   "source": [
    "Result_Energy_m3[\"sum\"] = (Result_Energy_m3.sum(axis=1)) - Result_Energy_m3[\"n_facilities\"]\n",
    "Result_GHG_m3[\"sum\"] = (Result_GHG_m3.sum(axis=1)) - Result_GHG_m3[\"n_facilities\"]\n",
    "Result_COST_m3[\"sum\"] = (Result_COST_m3.sum(axis=1)) - Result_COST_m3[\"n_facilities\"]"
   ]
  },
  {
   "cell_type": "code",
   "execution_count": 14,
   "metadata": {
    "collapsed": false
   },
   "outputs": [],
   "source": [
    "Result_Energy_m3.to_csv('../results/Energy_m3_%s.csv'% (logistics)) \n",
    "Result_GHG_m3.to_csv('../results/GHG_m3_%s.csv'% (logistics)) \n",
    "Result_COST_m3.to_csv('../results/COST_m3_%s.csv'% (logistics)) "
   ]
  },
  {
   "cell_type": "code",
   "execution_count": null,
   "metadata": {
    "collapsed": true
   },
   "outputs": [],
   "source": []
  }
 ],
 "metadata": {
  "anaconda-cloud": {},
  "kernelspec": {
   "display_name": "Python [Root]",
   "language": "python",
   "name": "Python [Root]"
  },
  "language_info": {
   "codemirror_mode": {
    "name": "ipython",
    "version": 3
   },
   "file_extension": ".py",
   "mimetype": "text/x-python",
   "name": "python",
   "nbconvert_exporter": "python",
   "pygments_lexer": "ipython3",
   "version": "3.5.2"
  }
 },
 "nbformat": 4,
 "nbformat_minor": 0
}
