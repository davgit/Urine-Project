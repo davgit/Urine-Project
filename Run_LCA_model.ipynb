{
 "cells": [
  {
   "cell_type": "code",
   "execution_count": 1,
   "metadata": {
    "collapsed": true
   },
   "outputs": [],
   "source": [
    "from __future__ import division\n",
    "import pandas as pd\n",
    "import numpy as np\n",
    "import matplotlib.pyplot as plt\n",
    "import math\n",
    "%matplotlib inline"
   ]
  },
  {
   "cell_type": "code",
   "execution_count": null,
   "metadata": {
    "collapsed": false
   },
   "outputs": [],
   "source": [
    "from Parameters import *\n",
    "from Run_LCA_model import Run_LCA_model"
   ]
  },
  {
   "cell_type": "code",
   "execution_count": null,
   "metadata": {
    "collapsed": false
   },
   "outputs": [],
   "source": [
    "buildings_path = '..\\shapefiles\\\\building_block_people_WGS_3.csv'\n",
    "schedule = 'scheduled' \n",
    "logistics = 'optimal'\n",
    "n_collection = 1\n",
    "Result_Energy_m3 = pd.DataFrame()\n",
    "Result_GHG_m3 = pd.DataFrame()\n",
    "i=2\n",
    "while i < 100:\n",
    "    n_regen = i\n",
    "    Total_Energy_m3, Total_GHG_m3 = Run_LCA_model(buildings_path, n_regen, n_collection, schedule, logistics)\n",
    "    Result_Energy_m3 = Result_Energy_m3.append(Total_Energy_m3)\n",
    "    Result_GHG_m3 = Result_GHG_m3.append(Total_GHG_m3)\n",
    "    i = i+10"
   ]
  },
  {
   "cell_type": "code",
   "execution_count": null,
   "metadata": {
    "collapsed": true
   },
   "outputs": [],
   "source": [
    "Result_Energy_m3"
   ]
  },
  {
   "cell_type": "code",
   "execution_count": null,
   "metadata": {
    "collapsed": false
   },
   "outputs": [],
   "source": [
    "Result_Energy_m3"
   ]
  },
  {
   "cell_type": "code",
   "execution_count": null,
   "metadata": {
    "collapsed": false
   },
   "outputs": [],
   "source": [
    "Result_Energy_m3[\"sum\"] = (Result_Energy_m3.sum(axis=1)) - Result_Energy_m3[\"n_facilities\"]\n",
    "Result_GHG_m3[\"sum\"] = (Result_GHG_m3.sum(axis=1)) - Result_GHG_m3[\"n_facilities\"]"
   ]
  },
  {
   "cell_type": "markdown",
   "metadata": {
    "collapsed": true
   },
   "source": [
    "Result_Energy_m3 = pd.read_csv('Energy_result.csv')\n",
    "Result_GHG_m3 = pd.read_csv('GHG_result.csv')"
   ]
  },
  {
   "cell_type": "code",
   "execution_count": null,
   "metadata": {
    "collapsed": true
   },
   "outputs": [],
   "source": [
    "Result_Energy_m3=pd.read_csv('Energy_result_unscheduled.csv')\n",
    "Result_GHG_m3=pd.read_csv('GHG_result_unscheduled.csv')"
   ]
  },
  {
   "cell_type": "code",
   "execution_count": null,
   "metadata": {
    "collapsed": false
   },
   "outputs": [],
   "source": [
    "fig = plt.figure(figsize=(9,6))\n",
    "plt.plot(Result_Energy_m3[\"n_facilities\"], Result_Energy_m3[\"sum\"], 'ro', markersize=11)\n",
    "plt.xticks(fontsize = 18)\n",
    "plt.xlim(0,70)\n",
    "#plt.ylim(50,100)\n",
    "plt.xlabel('Decentralization (# of facilities)', fontsize = 20)\n",
    "plt.yticks(fontsize = 18)\n",
    "plt.ylabel('Unit Energy ($kWh$/$m^3$)', fontsize = 20)"
   ]
  },
  {
   "cell_type": "code",
   "execution_count": null,
   "metadata": {
    "collapsed": false
   },
   "outputs": [],
   "source": [
    "fig = plt.figure(figsize=(9,6))\n",
    "plt.plot(Result_GHG_m3[\"n_facilities\"], Result_GHG_m3[\"sum\"], 'ro', markersize=11)\n",
    "plt.xticks(fontsize = 18)\n",
    "plt.xlim(0,100)\n",
    "#plt.ylim(3.5,4.5)\n",
    "plt.xlabel('Decentralization (# of facilities)', fontsize = 20)\n",
    "plt.yticks(fontsize = 18)\n",
    "plt.ylabel('Unit GHG emissions ($kgCO_2(eq)/m^3$)', fontsize = 20)"
   ]
  },
  {
   "cell_type": "code",
   "execution_count": null,
   "metadata": {
    "collapsed": true
   },
   "outputs": [],
   "source": []
  },
  {
   "cell_type": "code",
   "execution_count": null,
   "metadata": {
    "collapsed": false
   },
   "outputs": [],
   "source": [
    "Result_Energy_m3_plot = Result_Energy_m3[1:2].drop('sum',1).drop('n_facilities',1)\n",
    "Result_GHG_m3_plot = Result_GHG_m3[1:2].drop('sum',1).drop('n_facilities',1)"
   ]
  },
  {
   "cell_type": "code",
   "execution_count": null,
   "metadata": {
    "collapsed": false
   },
   "outputs": [],
   "source": [
    "Result_Energy_m3_plot['other'] = (Result_Energy_m3_plot['Resin transport'] + Result_Energy_m3_plot['Catridge transport']+\n",
    "                                  Result_Energy_m3_plot['Tank transport'] + Result_Energy_m3_plot['Pump transport'] +\n",
    "                                  Result_Energy_m3_plot['Acid transport']+ Result_Energy_m3_plot['Tank manufacturing'] +\n",
    "                                 Result_Energy_m3_plot['Pump manufacturing'])\n",
    "Result_GHG_m3_plot['other'] = (Result_GHG_m3_plot['Resin transport'] + Result_GHG_m3_plot['Catridge transport']+\n",
    "                                  Result_GHG_m3_plot['Tank transport'] + Result_GHG_m3_plot['Pump transport'] +\n",
    "                                  Result_GHG_m3_plot['Acid transport'] + Result_GHG_m3_plot['Tank manufacturing'] +\n",
    "                                 Result_GHG_m3_plot['Pump manufacturing'])\n",
    "\n",
    "Result_Energy_m3_plot = Result_Energy_m3_plot.drop(['Unnamed: 0','Resin transport', 'Catridge transport', \n",
    "                                                    'Tank transport', 'Pump transport', 'Acid transport', 'Tank manufacturing',\n",
    "                                                   'Pump manufacturing'] , 1)\n",
    "Result_GHG_m3_plot = Result_GHG_m3_plot.drop(['Unnamed: 0', 'Resin transport', 'Catridge transport', \n",
    "                                                    'Tank transport', 'Pump transport', 'Acid transport', 'Tank manufacturing',\n",
    "                                                   'Pump manufacturing'] , 1)"
   ]
  },
  {
   "cell_type": "code",
   "execution_count": null,
   "metadata": {
    "collapsed": false
   },
   "outputs": [],
   "source": [
    "fig = plt.figure(figsize=(8, 5))\n",
    "ax = fig.add_subplot(1,2, 1)\n",
    "a=Result_Energy_m3_plot.plot(kind='bar', stacked = True, ax=ax, legend=False,colormap='PRGn')\n",
    "plt.xticks(fontsize=14)\n",
    "plt.yticks(fontsize=14)\n",
    "plt.ylabel('Unit Energy ($kWh$/$m^3$)',fontsize=18)\n",
    "ax = fig.add_subplot(1,2, 2)\n",
    "b=Result_GHG_m3_plot.plot(kind='bar', stacked = True, secondary_y=True, ax=ax, legend=False,colormap='PRGn')\n",
    "plt.xticks(fontsize=14)\n",
    "plt.yticks(fontsize=14)\n",
    "plt.ylabel('Unit GHG emissions ($kgCO_2(eq)/m^3$)',fontsize=18)\n",
    "b.legend(loc='lower center', bbox_to_anchor=(-0.1, 1.05),ncol=2, fancybox=True, shadow=True,fontsize=16)\n",
    "fig.tight_layout()"
   ]
  },
  {
   "cell_type": "code",
   "execution_count": null,
   "metadata": {
    "collapsed": true
   },
   "outputs": [],
   "source": []
  },
  {
   "cell_type": "code",
   "execution_count": null,
   "metadata": {
    "collapsed": true
   },
   "outputs": [],
   "source": []
  }
 ],
 "metadata": {
  "kernelspec": {
   "display_name": "Python 2",
   "language": "python",
   "name": "python2"
  },
  "language_info": {
   "codemirror_mode": {
    "name": "ipython",
    "version": 2
   },
   "file_extension": ".py",
   "mimetype": "text/x-python",
   "name": "python",
   "nbconvert_exporter": "python",
   "pygments_lexer": "ipython2",
   "version": "2.7.11"
  }
 },
 "nbformat": 4,
 "nbformat_minor": 0
}
