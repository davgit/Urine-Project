{
 "cells": [
  {
   "cell_type": "code",
   "execution_count": 1,
   "metadata": {
    "collapsed": true
   },
   "outputs": [],
   "source": [
    "from __future__ import division\n",
    "import pandas as pd\n",
    "import numpy as np\n",
    "import matplotlib.pyplot as plt\n",
    "import math\n",
    "%matplotlib inline"
   ]
  },
  {
   "cell_type": "code",
   "execution_count": 2,
   "metadata": {
    "collapsed": false
   },
   "outputs": [],
   "source": [
    "from Parameters import *\n",
    "from Run_LCA_model import Run_LCA_model"
   ]
  },
  {
   "cell_type": "code",
   "execution_count": 3,
   "metadata": {
    "collapsed": false
   },
   "outputs": [
    {
     "ename": "KeyboardInterrupt",
     "evalue": "",
     "output_type": "error",
     "traceback": [
      "\u001b[1;31m---------------------------------------------------------------------------\u001b[0m",
      "\u001b[1;31mKeyboardInterrupt\u001b[0m                         Traceback (most recent call last)",
      "\u001b[1;32m<ipython-input-3-51e52967908b>\u001b[0m in \u001b[0;36m<module>\u001b[1;34m()\u001b[0m\n\u001b[0;32m      8\u001b[0m \u001b[1;32mwhile\u001b[0m \u001b[0mi\u001b[0m \u001b[1;33m<\u001b[0m \u001b[1;36m100\u001b[0m\u001b[1;33m:\u001b[0m\u001b[1;33m\u001b[0m\u001b[0m\n\u001b[0;32m      9\u001b[0m     \u001b[0mn_regen\u001b[0m \u001b[1;33m=\u001b[0m \u001b[0mi\u001b[0m\u001b[1;33m\u001b[0m\u001b[0m\n\u001b[1;32m---> 10\u001b[1;33m     \u001b[0mTotal_Energy_m3\u001b[0m\u001b[1;33m,\u001b[0m \u001b[0mTotal_GHG_m3\u001b[0m \u001b[1;33m=\u001b[0m \u001b[0mRun_LCA_model\u001b[0m\u001b[1;33m(\u001b[0m\u001b[0mbuildings_path\u001b[0m\u001b[1;33m,\u001b[0m \u001b[0mn_regen\u001b[0m\u001b[1;33m,\u001b[0m \u001b[0mn_collection\u001b[0m\u001b[1;33m,\u001b[0m \u001b[0mschedule\u001b[0m\u001b[1;33m,\u001b[0m \u001b[0mlogistics\u001b[0m\u001b[1;33m)\u001b[0m\u001b[1;33m\u001b[0m\u001b[0m\n\u001b[0m\u001b[0;32m     11\u001b[0m     \u001b[0mResult_Energy_m3\u001b[0m \u001b[1;33m=\u001b[0m \u001b[0mResult_Energy_m3\u001b[0m\u001b[1;33m.\u001b[0m\u001b[0mappend\u001b[0m\u001b[1;33m(\u001b[0m\u001b[0mTotal_Energy_m3\u001b[0m\u001b[1;33m)\u001b[0m\u001b[1;33m\u001b[0m\u001b[0m\n\u001b[0;32m     12\u001b[0m     \u001b[0mResult_GHG_m3\u001b[0m \u001b[1;33m=\u001b[0m \u001b[0mResult_GHG_m3\u001b[0m\u001b[1;33m.\u001b[0m\u001b[0mappend\u001b[0m\u001b[1;33m(\u001b[0m\u001b[0mTotal_GHG_m3\u001b[0m\u001b[1;33m)\u001b[0m\u001b[1;33m\u001b[0m\u001b[0m\n",
      "\u001b[1;32mC:\\Users\\Olga\\Documents\\RENUWIT\\Urine_separation\\Urine-Project\\Run_LCA_model.pyc\u001b[0m in \u001b[0;36mRun_LCA_model\u001b[1;34m(path, n_regen, n_collection, schedule, logistics)\u001b[0m\n\u001b[0;32m     13\u001b[0m \u001b[1;33m\u001b[0m\u001b[0m\n\u001b[0;32m     14\u001b[0m         \u001b[0mLogistics\u001b[0m \u001b[1;33m=\u001b[0m \u001b[0mlogistics_model\u001b[0m\u001b[1;33m(\u001b[0m\u001b[0mpath\u001b[0m\u001b[1;33m,\u001b[0m \u001b[0mn_regen\u001b[0m\u001b[1;33m,\u001b[0m \u001b[0mn_collection\u001b[0m\u001b[1;33m,\u001b[0m \u001b[0mschedule\u001b[0m\u001b[1;33m,\u001b[0m \u001b[0mlogistics\u001b[0m\u001b[1;33m)\u001b[0m\u001b[1;33m\u001b[0m\u001b[0m\n\u001b[1;32m---> 15\u001b[1;33m         \u001b[0mdistance_regeneration\u001b[0m\u001b[1;33m,\u001b[0m \u001b[0mdistance_collection\u001b[0m \u001b[1;33m=\u001b[0m \u001b[0mLogistics\u001b[0m\u001b[1;33m.\u001b[0m\u001b[0mlogistics_distances\u001b[0m\u001b[1;33m(\u001b[0m\u001b[1;33m)\u001b[0m\u001b[1;33m\u001b[0m\u001b[0m\n\u001b[0m\u001b[0;32m     16\u001b[0m \u001b[1;33m\u001b[0m\u001b[0m\n\u001b[0;32m     17\u001b[0m         \u001b[0mTotal_Energy\u001b[0m \u001b[1;33m=\u001b[0m \u001b[0mpd\u001b[0m\u001b[1;33m.\u001b[0m\u001b[0mDataFrame\u001b[0m\u001b[1;33m(\u001b[0m\u001b[1;33m)\u001b[0m\u001b[1;33m\u001b[0m\u001b[0m\n",
      "\u001b[1;32mC:\\Users\\Olga\\Documents\\RENUWIT\\Urine_separation\\Urine-Project\\logistics_model.pyc\u001b[0m in \u001b[0;36mlogistics_distances\u001b[1;34m(self)\u001b[0m\n\u001b[0;32m     70\u001b[0m \u001b[1;33m\u001b[0m\u001b[0m\n\u001b[0;32m     71\u001b[0m                 \u001b[1;32mif\u001b[0m \u001b[0mself\u001b[0m\u001b[1;33m.\u001b[0m\u001b[0mschedule\u001b[0m \u001b[1;33m==\u001b[0m \u001b[1;34m'scheduled'\u001b[0m\u001b[1;33m:\u001b[0m\u001b[1;33m\u001b[0m\u001b[0m\n\u001b[1;32m---> 72\u001b[1;33m                         \u001b[0mdistance_regeneration\u001b[0m \u001b[1;33m=\u001b[0m \u001b[0mfind_distance_regeneration_scheduled\u001b[0m\u001b[1;33m(\u001b[0m\u001b[0mbuilding_virtual_buildings_df\u001b[0m\u001b[1;33m,\u001b[0m \u001b[0mk_means_labels_regen\u001b[0m\u001b[1;33m)\u001b[0m\u001b[1;33m\u001b[0m\u001b[0m\n\u001b[0m\u001b[0;32m     73\u001b[0m                         \u001b[0mdistance_regeneration\u001b[0m\u001b[1;33m[\u001b[0m\u001b[1;34m'total_dist_m'\u001b[0m\u001b[1;33m]\u001b[0m \u001b[1;33m=\u001b[0m \u001b[0mdistance_regeneration\u001b[0m\u001b[1;33m[\u001b[0m\u001b[1;34m'total_dist_m'\u001b[0m\u001b[1;33m]\u001b[0m\u001b[1;33m*\u001b[0m\u001b[1;36m365\u001b[0m\u001b[1;33m/\u001b[0m\u001b[0mtime_between_catridge_regeneration\u001b[0m\u001b[1;33m\u001b[0m\u001b[0m\n\u001b[0;32m     74\u001b[0m \u001b[1;33m\u001b[0m\u001b[0m\n",
      "\u001b[1;32mC:\\Users\\Olga\\Documents\\RENUWIT\\Urine_separation\\Urine-Project\\logistics_functions.py\u001b[0m in \u001b[0;36mfind_distance_regeneration_scheduled\u001b[1;34m(dataframe, k_means_labels)\u001b[0m\n\u001b[0;32m     96\u001b[0m             \u001b[0mtotal_distance_schedule\u001b[0m \u001b[1;33m=\u001b[0m \u001b[1;36m0\u001b[0m\u001b[1;33m\u001b[0m\u001b[0m\n\u001b[0;32m     97\u001b[0m         \u001b[1;32melse\u001b[0m\u001b[1;33m:\u001b[0m\u001b[1;33m\u001b[0m\u001b[0m\n\u001b[1;32m---> 98\u001b[1;33m             \u001b[0mtotal_distance_schedule\u001b[0m \u001b[1;33m=\u001b[0m \u001b[0mtotal_distance\u001b[0m\u001b[1;33m(\u001b[0m\u001b[0moptimized_travelling_salesman\u001b[0m\u001b[1;33m(\u001b[0m\u001b[0mcluster_center_meters\u001b[0m\u001b[1;33m[\u001b[0m\u001b[0mi\u001b[0m\u001b[1;33m]\u001b[0m\u001b[1;33m)\u001b[0m\u001b[1;33m)\u001b[0m\u001b[1;33m/\u001b[0m\u001b[1;36m1000\u001b[0m\u001b[1;33m\u001b[0m\u001b[0m\n\u001b[0m\u001b[0;32m     99\u001b[0m         \u001b[0mtotal_peop\u001b[0m \u001b[1;33m=\u001b[0m \u001b[0msize_all\u001b[0m\u001b[1;33m[\u001b[0m\u001b[0mi\u001b[0m\u001b[1;33m]\u001b[0m\u001b[1;33m[\u001b[0m\u001b[1;34m'num_people_int'\u001b[0m\u001b[1;33m]\u001b[0m\u001b[1;33m.\u001b[0m\u001b[0msum\u001b[0m\u001b[1;33m(\u001b[0m\u001b[1;33m)\u001b[0m\u001b[1;33m\u001b[0m\u001b[0m\n\u001b[0;32m    100\u001b[0m         \u001b[0mtotals\u001b[0m \u001b[1;33m=\u001b[0m \u001b[1;33m(\u001b[0m\u001b[0mi\u001b[0m\u001b[1;33m,\u001b[0m \u001b[0mtotal_peop\u001b[0m\u001b[1;33m,\u001b[0m \u001b[0mtotal_distance_schedule\u001b[0m\u001b[1;33m)\u001b[0m\u001b[1;33m\u001b[0m\u001b[0m\n",
      "\u001b[1;32mC:\\Users\\Olga\\Documents\\RENUWIT\\Urine_separation\\Urine-Project\\logistics_functions.py\u001b[0m in \u001b[0;36moptimized_travelling_salesman\u001b[1;34m(points, start)\u001b[0m\n\u001b[0;32m    213\u001b[0m     \u001b[0mmust_visit\u001b[0m\u001b[1;33m.\u001b[0m\u001b[0mremove\u001b[0m\u001b[1;33m(\u001b[0m\u001b[0mstart\u001b[0m\u001b[1;33m)\u001b[0m\u001b[1;33m\u001b[0m\u001b[0m\n\u001b[0;32m    214\u001b[0m     \u001b[1;32mwhile\u001b[0m \u001b[0mmust_visit\u001b[0m\u001b[1;33m:\u001b[0m\u001b[1;33m\u001b[0m\u001b[0m\n\u001b[1;32m--> 215\u001b[1;33m         \u001b[0mnearest\u001b[0m \u001b[1;33m=\u001b[0m \u001b[0mmin\u001b[0m\u001b[1;33m(\u001b[0m\u001b[0mmust_visit\u001b[0m\u001b[1;33m,\u001b[0m \u001b[0mkey\u001b[0m\u001b[1;33m=\u001b[0m\u001b[1;32mlambda\u001b[0m \u001b[0mx\u001b[0m\u001b[1;33m:\u001b[0m \u001b[0mdistance\u001b[0m\u001b[1;33m(\u001b[0m\u001b[0mpath\u001b[0m\u001b[1;33m[\u001b[0m\u001b[1;33m-\u001b[0m\u001b[1;36m1\u001b[0m\u001b[1;33m]\u001b[0m\u001b[1;33m,\u001b[0m \u001b[0mx\u001b[0m\u001b[1;33m)\u001b[0m\u001b[1;33m)\u001b[0m\u001b[1;33m\u001b[0m\u001b[0m\n\u001b[0m\u001b[0;32m    216\u001b[0m         \u001b[0mpath\u001b[0m\u001b[1;33m.\u001b[0m\u001b[0mappend\u001b[0m\u001b[1;33m(\u001b[0m\u001b[0mnearest\u001b[0m\u001b[1;33m)\u001b[0m\u001b[1;33m\u001b[0m\u001b[0m\n\u001b[0;32m    217\u001b[0m         \u001b[0mmust_visit\u001b[0m\u001b[1;33m.\u001b[0m\u001b[0mremove\u001b[0m\u001b[1;33m(\u001b[0m\u001b[0mnearest\u001b[0m\u001b[1;33m)\u001b[0m\u001b[1;33m\u001b[0m\u001b[0m\n",
      "\u001b[1;32mC:\\Users\\Olga\\Documents\\RENUWIT\\Urine_separation\\Urine-Project\\logistics_functions.py\u001b[0m in \u001b[0;36m<lambda>\u001b[1;34m(x)\u001b[0m\n\u001b[0;32m    213\u001b[0m     \u001b[0mmust_visit\u001b[0m\u001b[1;33m.\u001b[0m\u001b[0mremove\u001b[0m\u001b[1;33m(\u001b[0m\u001b[0mstart\u001b[0m\u001b[1;33m)\u001b[0m\u001b[1;33m\u001b[0m\u001b[0m\n\u001b[0;32m    214\u001b[0m     \u001b[1;32mwhile\u001b[0m \u001b[0mmust_visit\u001b[0m\u001b[1;33m:\u001b[0m\u001b[1;33m\u001b[0m\u001b[0m\n\u001b[1;32m--> 215\u001b[1;33m         \u001b[0mnearest\u001b[0m \u001b[1;33m=\u001b[0m \u001b[0mmin\u001b[0m\u001b[1;33m(\u001b[0m\u001b[0mmust_visit\u001b[0m\u001b[1;33m,\u001b[0m \u001b[0mkey\u001b[0m\u001b[1;33m=\u001b[0m\u001b[1;32mlambda\u001b[0m \u001b[0mx\u001b[0m\u001b[1;33m:\u001b[0m \u001b[0mdistance\u001b[0m\u001b[1;33m(\u001b[0m\u001b[0mpath\u001b[0m\u001b[1;33m[\u001b[0m\u001b[1;33m-\u001b[0m\u001b[1;36m1\u001b[0m\u001b[1;33m]\u001b[0m\u001b[1;33m,\u001b[0m \u001b[0mx\u001b[0m\u001b[1;33m)\u001b[0m\u001b[1;33m)\u001b[0m\u001b[1;33m\u001b[0m\u001b[0m\n\u001b[0m\u001b[0;32m    216\u001b[0m         \u001b[0mpath\u001b[0m\u001b[1;33m.\u001b[0m\u001b[0mappend\u001b[0m\u001b[1;33m(\u001b[0m\u001b[0mnearest\u001b[0m\u001b[1;33m)\u001b[0m\u001b[1;33m\u001b[0m\u001b[0m\n\u001b[0;32m    217\u001b[0m         \u001b[0mmust_visit\u001b[0m\u001b[1;33m.\u001b[0m\u001b[0mremove\u001b[0m\u001b[1;33m(\u001b[0m\u001b[0mnearest\u001b[0m\u001b[1;33m)\u001b[0m\u001b[1;33m\u001b[0m\u001b[0m\n",
      "\u001b[1;32mC:\\Users\\Olga\\Documents\\RENUWIT\\Urine_separation\\Urine-Project\\logistics_functions.py\u001b[0m in \u001b[0;36mdistance\u001b[1;34m(point1, point2)\u001b[0m\n\u001b[0;32m    179\u001b[0m     \u001b[1;31m# Returns the Euclidean distance of two points in the Cartesian Plane.\u001b[0m\u001b[1;33m\u001b[0m\u001b[1;33m\u001b[0m\u001b[0m\n\u001b[0;32m    180\u001b[0m     \"\"\"\n\u001b[1;32m--> 181\u001b[1;33m     \u001b[1;32mreturn\u001b[0m \u001b[1;33m(\u001b[0m\u001b[1;33m(\u001b[0m\u001b[0mpoint1\u001b[0m\u001b[1;33m[\u001b[0m\u001b[1;36m0\u001b[0m\u001b[1;33m]\u001b[0m \u001b[1;33m-\u001b[0m \u001b[0mpoint2\u001b[0m\u001b[1;33m[\u001b[0m\u001b[1;36m0\u001b[0m\u001b[1;33m]\u001b[0m\u001b[1;33m)\u001b[0m\u001b[1;33m**\u001b[0m\u001b[1;36m2\u001b[0m \u001b[1;33m+\u001b[0m \u001b[1;33m(\u001b[0m\u001b[0mpoint1\u001b[0m\u001b[1;33m[\u001b[0m\u001b[1;36m1\u001b[0m\u001b[1;33m]\u001b[0m \u001b[1;33m-\u001b[0m \u001b[0mpoint2\u001b[0m\u001b[1;33m[\u001b[0m\u001b[1;36m1\u001b[0m\u001b[1;33m]\u001b[0m\u001b[1;33m)\u001b[0m\u001b[1;33m**\u001b[0m\u001b[1;36m2\u001b[0m\u001b[1;33m)\u001b[0m \u001b[1;33m**\u001b[0m \u001b[1;36m0.5\u001b[0m\u001b[1;33m\u001b[0m\u001b[0m\n\u001b[0m\u001b[0;32m    182\u001b[0m \u001b[1;33m\u001b[0m\u001b[0m\n\u001b[0;32m    183\u001b[0m \u001b[1;33m\u001b[0m\u001b[0m\n",
      "\u001b[1;31mKeyboardInterrupt\u001b[0m: "
     ]
    }
   ],
   "source": [
    "buildings_path = '..\\shapefiles\\\\building_block_people_WGS_2.csv'\n",
    "schedule = 'scheduled' \n",
    "logistics = 'random'\n",
    "n_collection = 1\n",
    "Result_Energy_m3 = pd.DataFrame()\n",
    "Result_GHG_m3 = pd.DataFrame()\n",
    "i=2\n",
    "while i < 100:\n",
    "    n_regen = i\n",
    "    Total_Energy_m3, Total_GHG_m3 = Run_LCA_model(buildings_path, n_regen, n_collection, schedule, logistics)\n",
    "    Result_Energy_m3 = Result_Energy_m3.append(Total_Energy_m3)\n",
    "    Result_GHG_m3 = Result_GHG_m3.append(Total_GHG_m3)\n",
    "    i = i+10"
   ]
  },
  {
   "cell_type": "code",
   "execution_count": 4,
   "metadata": {
    "collapsed": false
   },
   "outputs": [
    {
     "data": {
      "text/html": [
       "<div>\n",
       "<table border=\"1\" class=\"dataframe\">\n",
       "  <thead>\n",
       "    <tr style=\"text-align: right;\">\n",
       "      <th></th>\n",
       "      <th>Resin manufacturing</th>\n",
       "      <th>Resin transport</th>\n",
       "      <th>Catridge manufacturing</th>\n",
       "      <th>Catridge transport</th>\n",
       "      <th>Tank manufacturing</th>\n",
       "      <th>Tank transport</th>\n",
       "      <th>Pump operation</th>\n",
       "      <th>Pump manufacturing</th>\n",
       "      <th>Pump transport</th>\n",
       "      <th>Acid manufacturing</th>\n",
       "      <th>Acid transport</th>\n",
       "      <th>Logistics_regen</th>\n",
       "      <th>Logistics_collect</th>\n",
       "      <th>n_facilities</th>\n",
       "    </tr>\n",
       "  </thead>\n",
       "  <tbody>\n",
       "    <tr>\n",
       "      <th>0</th>\n",
       "      <td>8.405088</td>\n",
       "      <td>0.001101</td>\n",
       "      <td>3.68634</td>\n",
       "      <td>0.000220</td>\n",
       "      <td>0.004062</td>\n",
       "      <td>0.000440</td>\n",
       "      <td>35.337386</td>\n",
       "      <td>0.052314</td>\n",
       "      <td>0.000440</td>\n",
       "      <td>0.947219</td>\n",
       "      <td>0.011007</td>\n",
       "      <td>6.523153</td>\n",
       "      <td>0.013579</td>\n",
       "      <td>2</td>\n",
       "    </tr>\n",
       "    <tr>\n",
       "      <th>0</th>\n",
       "      <td>8.405088</td>\n",
       "      <td>0.003393</td>\n",
       "      <td>3.68634</td>\n",
       "      <td>0.000679</td>\n",
       "      <td>0.004181</td>\n",
       "      <td>0.001357</td>\n",
       "      <td>14.597740</td>\n",
       "      <td>0.045954</td>\n",
       "      <td>0.001357</td>\n",
       "      <td>0.947219</td>\n",
       "      <td>0.033933</td>\n",
       "      <td>5.341739</td>\n",
       "      <td>0.020603</td>\n",
       "      <td>12</td>\n",
       "    </tr>\n",
       "    <tr>\n",
       "      <th>0</th>\n",
       "      <td>8.405088</td>\n",
       "      <td>0.006103</td>\n",
       "      <td>3.68634</td>\n",
       "      <td>0.001221</td>\n",
       "      <td>0.004280</td>\n",
       "      <td>0.002441</td>\n",
       "      <td>9.860403</td>\n",
       "      <td>0.051898</td>\n",
       "      <td>0.002441</td>\n",
       "      <td>0.947219</td>\n",
       "      <td>0.061035</td>\n",
       "      <td>5.290881</td>\n",
       "      <td>0.019968</td>\n",
       "      <td>22</td>\n",
       "    </tr>\n",
       "    <tr>\n",
       "      <th>0</th>\n",
       "      <td>8.405088</td>\n",
       "      <td>0.008909</td>\n",
       "      <td>3.68634</td>\n",
       "      <td>0.001782</td>\n",
       "      <td>0.004348</td>\n",
       "      <td>0.003563</td>\n",
       "      <td>8.405033</td>\n",
       "      <td>0.058365</td>\n",
       "      <td>0.003563</td>\n",
       "      <td>0.947219</td>\n",
       "      <td>0.089087</td>\n",
       "      <td>5.346371</td>\n",
       "      <td>0.030918</td>\n",
       "      <td>32</td>\n",
       "    </tr>\n",
       "    <tr>\n",
       "      <th>0</th>\n",
       "      <td>8.405088</td>\n",
       "      <td>0.011745</td>\n",
       "      <td>3.68634</td>\n",
       "      <td>0.002349</td>\n",
       "      <td>0.004422</td>\n",
       "      <td>0.004698</td>\n",
       "      <td>6.515247</td>\n",
       "      <td>0.067054</td>\n",
       "      <td>0.004698</td>\n",
       "      <td>0.947219</td>\n",
       "      <td>0.117455</td>\n",
       "      <td>5.359881</td>\n",
       "      <td>0.034378</td>\n",
       "      <td>42</td>\n",
       "    </tr>\n",
       "    <tr>\n",
       "      <th>0</th>\n",
       "      <td>8.405088</td>\n",
       "      <td>0.014530</td>\n",
       "      <td>3.68634</td>\n",
       "      <td>0.002906</td>\n",
       "      <td>0.004436</td>\n",
       "      <td>0.005812</td>\n",
       "      <td>6.774033</td>\n",
       "      <td>0.063155</td>\n",
       "      <td>0.005812</td>\n",
       "      <td>0.947219</td>\n",
       "      <td>0.145303</td>\n",
       "      <td>5.425832</td>\n",
       "      <td>0.040073</td>\n",
       "      <td>52</td>\n",
       "    </tr>\n",
       "    <tr>\n",
       "      <th>0</th>\n",
       "      <td>8.405088</td>\n",
       "      <td>0.018346</td>\n",
       "      <td>3.68634</td>\n",
       "      <td>0.003669</td>\n",
       "      <td>0.004523</td>\n",
       "      <td>0.007339</td>\n",
       "      <td>5.030999</td>\n",
       "      <td>0.065993</td>\n",
       "      <td>0.007339</td>\n",
       "      <td>0.947219</td>\n",
       "      <td>0.183464</td>\n",
       "      <td>5.410635</td>\n",
       "      <td>0.042101</td>\n",
       "      <td>62</td>\n",
       "    </tr>\n",
       "    <tr>\n",
       "      <th>0</th>\n",
       "      <td>8.405088</td>\n",
       "      <td>0.019663</td>\n",
       "      <td>3.68634</td>\n",
       "      <td>0.003933</td>\n",
       "      <td>0.004533</td>\n",
       "      <td>0.007865</td>\n",
       "      <td>6.496315</td>\n",
       "      <td>0.054736</td>\n",
       "      <td>0.007865</td>\n",
       "      <td>0.947219</td>\n",
       "      <td>0.196627</td>\n",
       "      <td>5.468221</td>\n",
       "      <td>0.047036</td>\n",
       "      <td>72</td>\n",
       "    </tr>\n",
       "    <tr>\n",
       "      <th>0</th>\n",
       "      <td>8.405088</td>\n",
       "      <td>0.022416</td>\n",
       "      <td>3.68634</td>\n",
       "      <td>0.004483</td>\n",
       "      <td>0.004609</td>\n",
       "      <td>0.008966</td>\n",
       "      <td>4.171370</td>\n",
       "      <td>0.060013</td>\n",
       "      <td>0.008966</td>\n",
       "      <td>0.947219</td>\n",
       "      <td>0.224157</td>\n",
       "      <td>5.420531</td>\n",
       "      <td>0.052792</td>\n",
       "      <td>82</td>\n",
       "    </tr>\n",
       "  </tbody>\n",
       "</table>\n",
       "</div>"
      ],
      "text/plain": [
       "   Resin manufacturing  Resin transport  Catridge manufacturing  \\\n",
       "0             8.405088         0.001101                 3.68634   \n",
       "0             8.405088         0.003393                 3.68634   \n",
       "0             8.405088         0.006103                 3.68634   \n",
       "0             8.405088         0.008909                 3.68634   \n",
       "0             8.405088         0.011745                 3.68634   \n",
       "0             8.405088         0.014530                 3.68634   \n",
       "0             8.405088         0.018346                 3.68634   \n",
       "0             8.405088         0.019663                 3.68634   \n",
       "0             8.405088         0.022416                 3.68634   \n",
       "\n",
       "   Catridge transport  Tank manufacturing  Tank transport  Pump operation  \\\n",
       "0            0.000220            0.004062        0.000440       35.337386   \n",
       "0            0.000679            0.004181        0.001357       14.597740   \n",
       "0            0.001221            0.004280        0.002441        9.860403   \n",
       "0            0.001782            0.004348        0.003563        8.405033   \n",
       "0            0.002349            0.004422        0.004698        6.515247   \n",
       "0            0.002906            0.004436        0.005812        6.774033   \n",
       "0            0.003669            0.004523        0.007339        5.030999   \n",
       "0            0.003933            0.004533        0.007865        6.496315   \n",
       "0            0.004483            0.004609        0.008966        4.171370   \n",
       "\n",
       "   Pump manufacturing  Pump transport  Acid manufacturing  Acid transport  \\\n",
       "0            0.052314        0.000440            0.947219        0.011007   \n",
       "0            0.045954        0.001357            0.947219        0.033933   \n",
       "0            0.051898        0.002441            0.947219        0.061035   \n",
       "0            0.058365        0.003563            0.947219        0.089087   \n",
       "0            0.067054        0.004698            0.947219        0.117455   \n",
       "0            0.063155        0.005812            0.947219        0.145303   \n",
       "0            0.065993        0.007339            0.947219        0.183464   \n",
       "0            0.054736        0.007865            0.947219        0.196627   \n",
       "0            0.060013        0.008966            0.947219        0.224157   \n",
       "\n",
       "   Logistics_regen  Logistics_collect  n_facilities  \n",
       "0         6.523153           0.013579             2  \n",
       "0         5.341739           0.020603            12  \n",
       "0         5.290881           0.019968            22  \n",
       "0         5.346371           0.030918            32  \n",
       "0         5.359881           0.034378            42  \n",
       "0         5.425832           0.040073            52  \n",
       "0         5.410635           0.042101            62  \n",
       "0         5.468221           0.047036            72  \n",
       "0         5.420531           0.052792            82  "
      ]
     },
     "execution_count": 4,
     "metadata": {},
     "output_type": "execute_result"
    }
   ],
   "source": [
    "Result_Energy_m3"
   ]
  },
  {
   "cell_type": "code",
   "execution_count": 5,
   "metadata": {
    "collapsed": false
   },
   "outputs": [],
   "source": [
    "Result_Energy_m3[\"sum\"] = (Result_Energy_m3.sum(axis=1)) - Result_Energy_m3[\"n_facilities\"]\n",
    "Result_GHG_m3[\"sum\"] = (Result_GHG_m3.sum(axis=1)) - Result_GHG_m3[\"n_facilities\"]"
   ]
  },
  {
   "cell_type": "markdown",
   "metadata": {
    "collapsed": true
   },
   "source": [
    "Result_Energy_m3 = pd.read_csv('Energy_result.csv')\n",
    "Result_GHG_m3 = pd.read_csv('GHG_result.csv')"
   ]
  },
  {
   "cell_type": "code",
   "execution_count": null,
   "metadata": {
    "collapsed": true
   },
   "outputs": [],
   "source": [
    "Result_Energy_m3=pd.read_csv('Energy_result_unscheduled.csv')\n",
    "Result_GHG_m3=pd.read_csv('GHG_result_unscheduled.csv')"
   ]
  },
  {
   "cell_type": "code",
   "execution_count": 6,
   "metadata": {
    "collapsed": false
   },
   "outputs": [
    {
     "data": {
      "text/plain": [
       "<matplotlib.text.Text at 0x221b9198>"
      ]
     },
     "execution_count": 6,
     "metadata": {},
     "output_type": "execute_result"
    },
    {
     "data": {
      "image/png": "[encoded data removed]",
      "text/plain": [
       "<matplotlib.figure.Figure at 0x22194588>"
      ]
     },
     "metadata": {},
     "output_type": "display_data"
    }
   ],
   "source": [
    "fig = plt.figure(figsize=(9,6))\n",
    "plt.plot(Result_Energy_m3[\"n_facilities\"], Result_Energy_m3[\"sum\"], 'ro', markersize=11)\n",
    "plt.xticks(fontsize = 18)\n",
    "plt.xlim(0,70)\n",
    "#plt.ylim(50,100)\n",
    "plt.xlabel('Decentralization (# of facilities)', fontsize = 20)\n",
    "plt.yticks(fontsize = 18)\n",
    "plt.ylabel('Unit Energy ($kWh$/$m^3$)', fontsize = 20)"
   ]
  },
  {
   "cell_type": "code",
   "execution_count": null,
   "metadata": {
    "collapsed": false
   },
   "outputs": [],
   "source": [
    "fig = plt.figure(figsize=(9,6))\n",
    "plt.plot(Result_GHG_m3[\"n_facilities\"], Result_GHG_m3[\"sum\"], 'ro', markersize=11)\n",
    "plt.xticks(fontsize = 18)\n",
    "plt.xlim(0,100)\n",
    "#plt.ylim(3.5,4.5)\n",
    "plt.xlabel('Decentralization (# of facilities)', fontsize = 20)\n",
    "plt.yticks(fontsize = 18)\n",
    "plt.ylabel('Unit GHG emissions ($kgCO_2(eq)/m^3$)', fontsize = 20)"
   ]
  },
  {
   "cell_type": "code",
   "execution_count": null,
   "metadata": {
    "collapsed": true
   },
   "outputs": [],
   "source": []
  },
  {
   "cell_type": "code",
   "execution_count": 7,
   "metadata": {
    "collapsed": false
   },
   "outputs": [],
   "source": [
    "Result_Energy_m3_plot = Result_Energy_m3[1:2].drop('sum',1).drop('n_facilities',1)\n",
    "Result_GHG_m3_plot = Result_GHG_m3[1:2].drop('sum',1).drop('n_facilities',1)"
   ]
  },
  {
   "cell_type": "code",
   "execution_count": 8,
   "metadata": {
    "collapsed": false
   },
   "outputs": [
    {
     "ename": "ValueError",
     "evalue": "labels ['Unnamed: 0'] not contained in axis",
     "output_type": "error",
     "traceback": [
      "\u001b[1;31m---------------------------------------------------------------------------\u001b[0m",
      "\u001b[1;31mValueError\u001b[0m                                Traceback (most recent call last)",
      "\u001b[1;32m<ipython-input-8-863e0cf6caa9>\u001b[0m in \u001b[0;36m<module>\u001b[1;34m()\u001b[0m\n\u001b[0;32m     10\u001b[0m Result_Energy_m3_plot = Result_Energy_m3_plot.drop(['Unnamed: 0','Resin transport', 'Catridge transport', \n\u001b[0;32m     11\u001b[0m                                                     \u001b[1;34m'Tank transport'\u001b[0m\u001b[1;33m,\u001b[0m \u001b[1;34m'Pump transport'\u001b[0m\u001b[1;33m,\u001b[0m \u001b[1;34m'Acid transport'\u001b[0m\u001b[1;33m,\u001b[0m \u001b[1;34m'Tank manufacturing'\u001b[0m\u001b[1;33m,\u001b[0m\u001b[1;33m\u001b[0m\u001b[0m\n\u001b[1;32m---> 12\u001b[1;33m                                                    'Pump manufacturing'] , 1)\n\u001b[0m\u001b[0;32m     13\u001b[0m Result_GHG_m3_plot = Result_GHG_m3_plot.drop(['Unnamed: 0', 'Resin transport', 'Catridge transport', \n\u001b[0;32m     14\u001b[0m                                                     \u001b[1;34m'Tank transport'\u001b[0m\u001b[1;33m,\u001b[0m \u001b[1;34m'Pump transport'\u001b[0m\u001b[1;33m,\u001b[0m \u001b[1;34m'Acid transport'\u001b[0m\u001b[1;33m,\u001b[0m \u001b[1;34m'Tank manufacturing'\u001b[0m\u001b[1;33m,\u001b[0m\u001b[1;33m\u001b[0m\u001b[0m\n",
      "\u001b[1;32mC:\\Users\\Olga\\Anaconda2\\lib\\site-packages\\pandas\\core\\generic.pyc\u001b[0m in \u001b[0;36mdrop\u001b[1;34m(self, labels, axis, level, inplace, errors)\u001b[0m\n\u001b[0;32m   1615\u001b[0m                 \u001b[0mnew_axis\u001b[0m \u001b[1;33m=\u001b[0m \u001b[0maxis\u001b[0m\u001b[1;33m.\u001b[0m\u001b[0mdrop\u001b[0m\u001b[1;33m(\u001b[0m\u001b[0mlabels\u001b[0m\u001b[1;33m,\u001b[0m \u001b[0mlevel\u001b[0m\u001b[1;33m=\u001b[0m\u001b[0mlevel\u001b[0m\u001b[1;33m,\u001b[0m \u001b[0merrors\u001b[0m\u001b[1;33m=\u001b[0m\u001b[0merrors\u001b[0m\u001b[1;33m)\u001b[0m\u001b[1;33m\u001b[0m\u001b[0m\n\u001b[0;32m   1616\u001b[0m             \u001b[1;32melse\u001b[0m\u001b[1;33m:\u001b[0m\u001b[1;33m\u001b[0m\u001b[0m\n\u001b[1;32m-> 1617\u001b[1;33m                 \u001b[0mnew_axis\u001b[0m \u001b[1;33m=\u001b[0m \u001b[0maxis\u001b[0m\u001b[1;33m.\u001b[0m\u001b[0mdrop\u001b[0m\u001b[1;33m(\u001b[0m\u001b[0mlabels\u001b[0m\u001b[1;33m,\u001b[0m \u001b[0merrors\u001b[0m\u001b[1;33m=\u001b[0m\u001b[0merrors\u001b[0m\u001b[1;33m)\u001b[0m\u001b[1;33m\u001b[0m\u001b[0m\n\u001b[0m\u001b[0;32m   1618\u001b[0m             \u001b[0mdropped\u001b[0m \u001b[1;33m=\u001b[0m \u001b[0mself\u001b[0m\u001b[1;33m.\u001b[0m\u001b[0mreindex\u001b[0m\u001b[1;33m(\u001b[0m\u001b[1;33m**\u001b[0m\u001b[1;33m{\u001b[0m\u001b[0maxis_name\u001b[0m\u001b[1;33m:\u001b[0m \u001b[0mnew_axis\u001b[0m\u001b[1;33m}\u001b[0m\u001b[1;33m)\u001b[0m\u001b[1;33m\u001b[0m\u001b[0m\n\u001b[0;32m   1619\u001b[0m             \u001b[1;32mtry\u001b[0m\u001b[1;33m:\u001b[0m\u001b[1;33m\u001b[0m\u001b[0m\n",
      "\u001b[1;32mC:\\Users\\Olga\\Anaconda2\\lib\\site-packages\\pandas\\core\\index.pyc\u001b[0m in \u001b[0;36mdrop\u001b[1;34m(self, labels, errors)\u001b[0m\n\u001b[0;32m   2801\u001b[0m         \u001b[1;32mif\u001b[0m \u001b[0mmask\u001b[0m\u001b[1;33m.\u001b[0m\u001b[0many\u001b[0m\u001b[1;33m(\u001b[0m\u001b[1;33m)\u001b[0m\u001b[1;33m:\u001b[0m\u001b[1;33m\u001b[0m\u001b[0m\n\u001b[0;32m   2802\u001b[0m             \u001b[1;32mif\u001b[0m \u001b[0merrors\u001b[0m \u001b[1;33m!=\u001b[0m \u001b[1;34m'ignore'\u001b[0m\u001b[1;33m:\u001b[0m\u001b[1;33m\u001b[0m\u001b[0m\n\u001b[1;32m-> 2803\u001b[1;33m                 \u001b[1;32mraise\u001b[0m \u001b[0mValueError\u001b[0m\u001b[1;33m(\u001b[0m\u001b[1;34m'labels %s not contained in axis'\u001b[0m \u001b[1;33m%\u001b[0m \u001b[0mlabels\u001b[0m\u001b[1;33m[\u001b[0m\u001b[0mmask\u001b[0m\u001b[1;33m]\u001b[0m\u001b[1;33m)\u001b[0m\u001b[1;33m\u001b[0m\u001b[0m\n\u001b[0m\u001b[0;32m   2804\u001b[0m             \u001b[0mindexer\u001b[0m \u001b[1;33m=\u001b[0m \u001b[0mindexer\u001b[0m\u001b[1;33m[\u001b[0m\u001b[1;33m~\u001b[0m\u001b[0mmask\u001b[0m\u001b[1;33m]\u001b[0m\u001b[1;33m\u001b[0m\u001b[0m\n\u001b[0;32m   2805\u001b[0m         \u001b[1;32mreturn\u001b[0m \u001b[0mself\u001b[0m\u001b[1;33m.\u001b[0m\u001b[0mdelete\u001b[0m\u001b[1;33m(\u001b[0m\u001b[0mindexer\u001b[0m\u001b[1;33m)\u001b[0m\u001b[1;33m\u001b[0m\u001b[0m\n",
      "\u001b[1;31mValueError\u001b[0m: labels ['Unnamed: 0'] not contained in axis"
     ]
    }
   ],
   "source": [
    "Result_Energy_m3_plot['other'] = (Result_Energy_m3_plot['Resin transport'] + Result_Energy_m3_plot['Catridge transport']+\n",
    "                                  Result_Energy_m3_plot['Tank transport'] + Result_Energy_m3_plot['Pump transport'] +\n",
    "                                  Result_Energy_m3_plot['Acid transport']+ Result_Energy_m3_plot['Tank manufacturing'] +\n",
    "                                 Result_Energy_m3_plot['Pump manufacturing'])\n",
    "Result_GHG_m3_plot['other'] = (Result_GHG_m3_plot['Resin transport'] + Result_GHG_m3_plot['Catridge transport']+\n",
    "                                  Result_GHG_m3_plot['Tank transport'] + Result_GHG_m3_plot['Pump transport'] +\n",
    "                                  Result_GHG_m3_plot['Acid transport'] + Result_GHG_m3_plot['Tank manufacturing'] +\n",
    "                                 Result_GHG_m3_plot['Pump manufacturing'])\n",
    "\n",
    "Result_Energy_m3_plot = Result_Energy_m3_plot.drop(['Unnamed: 0','Resin transport', 'Catridge transport', \n",
    "                                                    'Tank transport', 'Pump transport', 'Acid transport', 'Tank manufacturing',\n",
    "                                                   'Pump manufacturing'] , 1)\n",
    "Result_GHG_m3_plot = Result_GHG_m3_plot.drop(['Unnamed: 0', 'Resin transport', 'Catridge transport', \n",
    "                                                    'Tank transport', 'Pump transport', 'Acid transport', 'Tank manufacturing',\n",
    "                                                   'Pump manufacturing'] , 1)"
   ]
  },
  {
   "cell_type": "code",
   "execution_count": null,
   "metadata": {
    "collapsed": false
   },
   "outputs": [],
   "source": [
    "fig = plt.figure(figsize=(8, 5))\n",
    "ax = fig.add_subplot(1,2, 1)\n",
    "a=Result_Energy_m3_plot.plot(kind='bar', stacked = True, ax=ax, legend=False,colormap='PRGn')\n",
    "plt.xticks(fontsize=14)\n",
    "plt.yticks(fontsize=14)\n",
    "plt.ylabel('Unit Energy ($kWh$/$m^3$)',fontsize=18)\n",
    "ax = fig.add_subplot(1,2, 2)\n",
    "b=Result_GHG_m3_plot.plot(kind='bar', stacked = True, secondary_y=True, ax=ax, legend=False,colormap='PRGn')\n",
    "plt.xticks(fontsize=14)\n",
    "plt.yticks(fontsize=14)\n",
    "plt.ylabel('Unit GHG emissions ($kgCO_2(eq)/m^3$)',fontsize=18)\n",
    "b.legend(loc='lower center', bbox_to_anchor=(-0.1, 1.05),ncol=2, fancybox=True, shadow=True,fontsize=16)\n",
    "fig.tight_layout()"
   ]
  },
  {
   "cell_type": "code",
   "execution_count": null,
   "metadata": {
    "collapsed": true
   },
   "outputs": [],
   "source": []
  },
  {
   "cell_type": "code",
   "execution_count": null,
   "metadata": {
    "collapsed": true
   },
   "outputs": [],
   "source": []
  }
 ],
 "metadata": {
  "kernelspec": {
   "display_name": "Python 2",
   "language": "python",
   "name": "python2"
  },
  "language_info": {
   "codemirror_mode": {
    "name": "ipython",
    "version": 2
   },
   "file_extension": ".py",
   "mimetype": "text/x-python",
   "name": "python",
   "nbconvert_exporter": "python",
   "pygments_lexer": "ipython2",
   "version": "2.7.11"
  }
 },
 "nbformat": 4,
 "nbformat_minor": 0
}
