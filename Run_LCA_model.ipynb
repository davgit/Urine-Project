{
 "cells": [
  {
   "cell_type": "code",
   "execution_count": 1,
   "metadata": {
    "collapsed": true
   },
   "outputs": [],
   "source": [
    "from __future__ import division\n",
    "import pandas as pd\n",
    "import numpy as np\n",
    "import matplotlib.pyplot as plt\n",
    "import math\n",
    "%matplotlib inline"
   ]
  },
  {
   "cell_type": "code",
   "execution_count": 2,
   "metadata": {
    "collapsed": false
   },
   "outputs": [],
   "source": [
    "from Parameters import *\n",
    "from Run_LCA_model import Run_LCA_model"
   ]
  },
  {
   "cell_type": "code",
   "execution_count": 3,
   "metadata": {
    "collapsed": false
   },
   "outputs": [
    {
     "name": "stdout",
     "output_type": "stream",
     "text": [
      "Start calculating distances for scheduled...\n",
      "calc distances took time 329.128999949\n",
      "2\n",
      "Start calculating distances for scheduled...\n",
      "calc distances took time 166.601000071\n",
      "12\n",
      "Start calculating distances for scheduled...\n",
      "calc distances took time 93.5429999828\n",
      "22\n",
      "Start calculating distances for scheduled...\n",
      "calc distances took time 72.4200000763\n",
      "32\n",
      "Start calculating distances for scheduled...\n",
      "calc distances took time 54.9779999256\n",
      "42\n",
      "Start calculating distances for scheduled...\n",
      "calc distances took time 47.9429998398\n",
      "52\n",
      "Start calculating distances for scheduled...\n",
      "calc distances took time 43.8330001831\n",
      "62\n",
      "Start calculating distances for scheduled...\n",
      "calc distances took time 38.2850000858\n",
      "72\n",
      "Start calculating distances for scheduled...\n",
      "calc distances took time 35.237000227\n",
      "82\n",
      "Start calculating distances for scheduled...\n",
      "calc distances took time 31.1600000858\n",
      "92\n"
     ]
    }
   ],
   "source": [
    "buildings_path = '..\\shapefiles\\\\building_block_people_WGS_3_subset.csv'\n",
    "schedule = 'scheduled' \n",
    "logistics = 'optimal'\n",
    "n_collection = 1\n",
    "Result_Energy = pd.DataFrame()\n",
    "Result_GHG = pd.DataFrame()\n",
    "Result_Energy_m3 = pd.DataFrame()\n",
    "Result_GHG_m3 = pd.DataFrame()\n",
    "i=2\n",
    "while i < 100:\n",
    "    n_regen = i\n",
    "    Total_Energy_total, Total_GHG_total, Total_Energy_m3, Total_GHG_m3 = Run_LCA_model(buildings_path, n_regen, n_collection, schedule, logistics)\n",
    "    Result_Energy_m3 = Result_Energy_m3.append(Total_Energy_m3)\n",
    "    Result_GHG_m3 = Result_GHG_m3.append(Total_GHG_m3)\n",
    "    Result_Energy = Result_Energy_m3.append(Total_Energy_total)\n",
    "    Result_GHG = Result_GHG_m3.append(Total_GHG_total)\n",
    "    print i\n",
    "    i = i+10"
   ]
  },
  {
   "cell_type": "code",
   "execution_count": 15,
   "metadata": {
    "collapsed": false
   },
   "outputs": [
    {
     "data": {
      "text/html": [
       "<div>\n",
       "<table border=\"1\" class=\"dataframe\">\n",
       "  <thead>\n",
       "    <tr style=\"text-align: right;\">\n",
       "      <th></th>\n",
       "      <th>Resin manufacturing</th>\n",
       "      <th>Resin transport</th>\n",
       "      <th>Catridge manufacturing</th>\n",
       "      <th>Catridge transport</th>\n",
       "      <th>Tank manufacturing</th>\n",
       "      <th>Tank transport</th>\n",
       "      <th>Pump operation</th>\n",
       "      <th>Pump manufacturing</th>\n",
       "      <th>Pump transport</th>\n",
       "      <th>Acid manufacturing</th>\n",
       "      <th>Acid transport</th>\n",
       "      <th>Logistics_regen</th>\n",
       "      <th>Logistics_collect</th>\n",
       "      <th>n_facilities</th>\n",
       "      <th>sum</th>\n",
       "    </tr>\n",
       "  </thead>\n",
       "  <tbody>\n",
       "    <tr>\n",
       "      <th>0</th>\n",
       "      <td>8.405088</td>\n",
       "      <td>0.004225</td>\n",
       "      <td>3.68634</td>\n",
       "      <td>0.000845</td>\n",
       "      <td>0.004236</td>\n",
       "      <td>0.001690</td>\n",
       "      <td>0.00099</td>\n",
       "      <td>0.001296</td>\n",
       "      <td>0.001690</td>\n",
       "      <td>0.947219</td>\n",
       "      <td>0.042248</td>\n",
       "      <td>28.678218</td>\n",
       "      <td>0.051669</td>\n",
       "      <td>2</td>\n",
       "      <td>41.825752</td>\n",
       "    </tr>\n",
       "    <tr>\n",
       "      <th>0</th>\n",
       "      <td>8.405088</td>\n",
       "      <td>0.015661</td>\n",
       "      <td>3.68634</td>\n",
       "      <td>0.003132</td>\n",
       "      <td>0.004541</td>\n",
       "      <td>0.006264</td>\n",
       "      <td>0.00099</td>\n",
       "      <td>0.004806</td>\n",
       "      <td>0.006264</td>\n",
       "      <td>0.947219</td>\n",
       "      <td>0.156607</td>\n",
       "      <td>22.267435</td>\n",
       "      <td>0.111120</td>\n",
       "      <td>12</td>\n",
       "      <td>35.615466</td>\n",
       "    </tr>\n",
       "    <tr>\n",
       "      <th>0</th>\n",
       "      <td>8.405088</td>\n",
       "      <td>0.030747</td>\n",
       "      <td>3.68634</td>\n",
       "      <td>0.006149</td>\n",
       "      <td>0.004794</td>\n",
       "      <td>0.012299</td>\n",
       "      <td>0.00099</td>\n",
       "      <td>0.009435</td>\n",
       "      <td>0.012299</td>\n",
       "      <td>0.947219</td>\n",
       "      <td>0.307470</td>\n",
       "      <td>22.915403</td>\n",
       "      <td>0.178531</td>\n",
       "      <td>22</td>\n",
       "      <td>36.516763</td>\n",
       "    </tr>\n",
       "    <tr>\n",
       "      <th>0</th>\n",
       "      <td>8.405088</td>\n",
       "      <td>0.043968</td>\n",
       "      <td>3.68634</td>\n",
       "      <td>0.008794</td>\n",
       "      <td>0.004966</td>\n",
       "      <td>0.017587</td>\n",
       "      <td>0.00099</td>\n",
       "      <td>0.013492</td>\n",
       "      <td>0.017587</td>\n",
       "      <td>0.947219</td>\n",
       "      <td>0.439683</td>\n",
       "      <td>22.820181</td>\n",
       "      <td>0.192136</td>\n",
       "      <td>32</td>\n",
       "      <td>36.598031</td>\n",
       "    </tr>\n",
       "    <tr>\n",
       "      <th>0</th>\n",
       "      <td>8.405088</td>\n",
       "      <td>0.057927</td>\n",
       "      <td>3.68634</td>\n",
       "      <td>0.011585</td>\n",
       "      <td>0.005129</td>\n",
       "      <td>0.023171</td>\n",
       "      <td>0.00099</td>\n",
       "      <td>0.017776</td>\n",
       "      <td>0.023171</td>\n",
       "      <td>0.947219</td>\n",
       "      <td>0.579267</td>\n",
       "      <td>22.956383</td>\n",
       "      <td>0.249455</td>\n",
       "      <td>42</td>\n",
       "      <td>36.963499</td>\n",
       "    </tr>\n",
       "    <tr>\n",
       "      <th>0</th>\n",
       "      <td>8.405088</td>\n",
       "      <td>0.071176</td>\n",
       "      <td>3.68634</td>\n",
       "      <td>0.014235</td>\n",
       "      <td>0.005258</td>\n",
       "      <td>0.028470</td>\n",
       "      <td>0.00099</td>\n",
       "      <td>0.021841</td>\n",
       "      <td>0.028470</td>\n",
       "      <td>0.947219</td>\n",
       "      <td>0.711761</td>\n",
       "      <td>22.789273</td>\n",
       "      <td>0.266425</td>\n",
       "      <td>52</td>\n",
       "      <td>36.976546</td>\n",
       "    </tr>\n",
       "    <tr>\n",
       "      <th>0</th>\n",
       "      <td>8.405088</td>\n",
       "      <td>0.084513</td>\n",
       "      <td>3.68634</td>\n",
       "      <td>0.016903</td>\n",
       "      <td>0.005378</td>\n",
       "      <td>0.033805</td>\n",
       "      <td>0.00099</td>\n",
       "      <td>0.025934</td>\n",
       "      <td>0.033805</td>\n",
       "      <td>0.947219</td>\n",
       "      <td>0.845130</td>\n",
       "      <td>22.657194</td>\n",
       "      <td>0.331768</td>\n",
       "      <td>62</td>\n",
       "      <td>37.074065</td>\n",
       "    </tr>\n",
       "    <tr>\n",
       "      <th>0</th>\n",
       "      <td>8.405088</td>\n",
       "      <td>0.097993</td>\n",
       "      <td>3.68634</td>\n",
       "      <td>0.019599</td>\n",
       "      <td>0.005480</td>\n",
       "      <td>0.039197</td>\n",
       "      <td>0.00099</td>\n",
       "      <td>0.030070</td>\n",
       "      <td>0.039197</td>\n",
       "      <td>0.947219</td>\n",
       "      <td>0.979933</td>\n",
       "      <td>22.554332</td>\n",
       "      <td>0.323199</td>\n",
       "      <td>72</td>\n",
       "      <td>37.128639</td>\n",
       "    </tr>\n",
       "    <tr>\n",
       "      <th>0</th>\n",
       "      <td>8.405088</td>\n",
       "      <td>0.111781</td>\n",
       "      <td>3.68634</td>\n",
       "      <td>0.022356</td>\n",
       "      <td>0.005580</td>\n",
       "      <td>0.044712</td>\n",
       "      <td>0.00099</td>\n",
       "      <td>0.034301</td>\n",
       "      <td>0.044712</td>\n",
       "      <td>0.947219</td>\n",
       "      <td>1.117808</td>\n",
       "      <td>22.705784</td>\n",
       "      <td>0.337652</td>\n",
       "      <td>82</td>\n",
       "      <td>37.464323</td>\n",
       "    </tr>\n",
       "    <tr>\n",
       "      <th>0</th>\n",
       "      <td>8.405088</td>\n",
       "      <td>0.125854</td>\n",
       "      <td>3.68634</td>\n",
       "      <td>0.025171</td>\n",
       "      <td>0.005682</td>\n",
       "      <td>0.050342</td>\n",
       "      <td>0.00099</td>\n",
       "      <td>0.038620</td>\n",
       "      <td>0.050342</td>\n",
       "      <td>0.947219</td>\n",
       "      <td>1.258540</td>\n",
       "      <td>22.780585</td>\n",
       "      <td>0.375098</td>\n",
       "      <td>92</td>\n",
       "      <td>37.749868</td>\n",
       "    </tr>\n",
       "  </tbody>\n",
       "</table>\n",
       "</div>"
      ],
      "text/plain": [
       "   Resin manufacturing  Resin transport  Catridge manufacturing  \\\n",
       "0             8.405088         0.004225                 3.68634   \n",
       "0             8.405088         0.015661                 3.68634   \n",
       "0             8.405088         0.030747                 3.68634   \n",
       "0             8.405088         0.043968                 3.68634   \n",
       "0             8.405088         0.057927                 3.68634   \n",
       "0             8.405088         0.071176                 3.68634   \n",
       "0             8.405088         0.084513                 3.68634   \n",
       "0             8.405088         0.097993                 3.68634   \n",
       "0             8.405088         0.111781                 3.68634   \n",
       "0             8.405088         0.125854                 3.68634   \n",
       "\n",
       "   Catridge transport  Tank manufacturing  Tank transport  Pump operation  \\\n",
       "0            0.000845            0.004236        0.001690         0.00099   \n",
       "0            0.003132            0.004541        0.006264         0.00099   \n",
       "0            0.006149            0.004794        0.012299         0.00099   \n",
       "0            0.008794            0.004966        0.017587         0.00099   \n",
       "0            0.011585            0.005129        0.023171         0.00099   \n",
       "0            0.014235            0.005258        0.028470         0.00099   \n",
       "0            0.016903            0.005378        0.033805         0.00099   \n",
       "0            0.019599            0.005480        0.039197         0.00099   \n",
       "0            0.022356            0.005580        0.044712         0.00099   \n",
       "0            0.025171            0.005682        0.050342         0.00099   \n",
       "\n",
       "   Pump manufacturing  Pump transport  Acid manufacturing  Acid transport  \\\n",
       "0            0.001296        0.001690            0.947219        0.042248   \n",
       "0            0.004806        0.006264            0.947219        0.156607   \n",
       "0            0.009435        0.012299            0.947219        0.307470   \n",
       "0            0.013492        0.017587            0.947219        0.439683   \n",
       "0            0.017776        0.023171            0.947219        0.579267   \n",
       "0            0.021841        0.028470            0.947219        0.711761   \n",
       "0            0.025934        0.033805            0.947219        0.845130   \n",
       "0            0.030070        0.039197            0.947219        0.979933   \n",
       "0            0.034301        0.044712            0.947219        1.117808   \n",
       "0            0.038620        0.050342            0.947219        1.258540   \n",
       "\n",
       "   Logistics_regen  Logistics_collect  n_facilities        sum  \n",
       "0        28.678218           0.051669             2  41.825752  \n",
       "0        22.267435           0.111120            12  35.615466  \n",
       "0        22.915403           0.178531            22  36.516763  \n",
       "0        22.820181           0.192136            32  36.598031  \n",
       "0        22.956383           0.249455            42  36.963499  \n",
       "0        22.789273           0.266425            52  36.976546  \n",
       "0        22.657194           0.331768            62  37.074065  \n",
       "0        22.554332           0.323199            72  37.128639  \n",
       "0        22.705784           0.337652            82  37.464323  \n",
       "0        22.780585           0.375098            92  37.749868  "
      ]
     },
     "execution_count": 15,
     "metadata": {},
     "output_type": "execute_result"
    }
   ],
   "source": [
    "Result_Energy_m3"
   ]
  },
  {
   "cell_type": "code",
   "execution_count": 4,
   "metadata": {
    "collapsed": false
   },
   "outputs": [],
   "source": [
    "Result_Energy_m3[\"sum\"] = (Result_Energy_m3.sum(axis=1)) - Result_Energy_m3[\"n_facilities\"]\n",
    "Result_GHG_m3[\"sum\"] = (Result_GHG_m3.sum(axis=1)) - Result_GHG_m3[\"n_facilities\"]"
   ]
  },
  {
   "cell_type": "code",
   "execution_count": null,
   "metadata": {
    "collapsed": false
   },
   "outputs": [],
   "source": [
    "Result_Energy_m3"
   ]
  },
  {
   "cell_type": "markdown",
   "metadata": {
    "collapsed": true
   },
   "source": [
    "Result_Energy_m3 = pd.read_csv('Energy_result.csv')\n",
    "Result_GHG_m3 = pd.read_csv('GHG_result.csv')"
   ]
  },
  {
   "cell_type": "markdown",
   "metadata": {
    "collapsed": true
   },
   "source": [
    "Result_Energy_m3=pd.read_csv('Energy_result_unscheduled.csv')\n",
    "Result_GHG_m3=pd.read_csv('GHG_result_unscheduled.csv')"
   ]
  },
  {
   "cell_type": "code",
   "execution_count": 5,
   "metadata": {
    "collapsed": false
   },
   "outputs": [
    {
     "data": {
      "text/plain": [
       "<matplotlib.text.Text at 0xb3b7400>"
      ]
     },
     "execution_count": 5,
     "metadata": {},
     "output_type": "execute_result"
    },
    {
     "data": {
      "image/png": "[encoded data removed]",
      "text/plain": [
       "<matplotlib.figure.Figure at 0xbf914a8>"
      ]
     },
     "metadata": {},
     "output_type": "display_data"
    }
   ],
   "source": [
    "fig = plt.figure(figsize=(9,6))\n",
    "plt.plot(Result_Energy_m3[\"n_facilities\"], Result_Energy_m3[\"sum\"], 'ro', markersize=11)\n",
    "plt.xticks(fontsize = 18)\n",
    "plt.xlim(0,70)\n",
    "#plt.ylim(50,100)\n",
    "plt.xlabel('Decentralization (# of facilities)', fontsize = 20)\n",
    "plt.yticks(fontsize = 18)\n",
    "plt.ylabel('Unit Energy ($kWh$/$m^3$)', fontsize = 20)"
   ]
  },
  {
   "cell_type": "code",
   "execution_count": 6,
   "metadata": {
    "collapsed": false
   },
   "outputs": [
    {
     "data": {
      "text/plain": [
       "<matplotlib.text.Text at 0xb524588>"
      ]
     },
     "execution_count": 6,
     "metadata": {},
     "output_type": "execute_result"
    },
    {
     "data": {
      "image/png": "[encoded data removed]",
      "text/plain": [
       "<matplotlib.figure.Figure at 0xb8d6ba8>"
      ]
     },
     "metadata": {},
     "output_type": "display_data"
    }
   ],
   "source": [
    "fig = plt.figure(figsize=(9,6))\n",
    "plt.plot(Result_GHG_m3[\"n_facilities\"], Result_GHG_m3[\"sum\"], 'ro', markersize=11)\n",
    "plt.xticks(fontsize = 18)\n",
    "plt.xlim(0,100)\n",
    "#plt.ylim(3.5,4.5)\n",
    "plt.xlabel('Decentralization (# of facilities)', fontsize = 20)\n",
    "plt.yticks(fontsize = 18)\n",
    "plt.ylabel('Unit GHG emissions ($kgCO_2(eq)/m^3$)', fontsize = 20)"
   ]
  },
  {
   "cell_type": "code",
   "execution_count": 7,
   "metadata": {
    "collapsed": false
   },
   "outputs": [],
   "source": [
    "Result_Energy_m3_plot = Result_Energy_m3[4:5].drop('sum',1).drop('n_facilities',1)\n",
    "Result_GHG_m3_plot = Result_GHG_m3[4:5].drop('sum',1).drop('n_facilities',1)"
   ]
  },
  {
   "cell_type": "code",
   "execution_count": 8,
   "metadata": {
    "collapsed": false
   },
   "outputs": [],
   "source": [
    "Result_Energy_m3_plot['other'] = (Result_Energy_m3_plot['Resin transport'] + Result_Energy_m3_plot['Catridge transport']+\n",
    "                                  Result_Energy_m3_plot['Tank transport'] + Result_Energy_m3_plot['Pump transport'] +\n",
    "                                  Result_Energy_m3_plot['Acid transport']+ Result_Energy_m3_plot['Tank manufacturing'] +\n",
    "                                 Result_Energy_m3_plot['Pump manufacturing'])\n",
    "Result_GHG_m3_plot['other'] = (Result_GHG_m3_plot['Resin transport'] + Result_GHG_m3_plot['Catridge transport']+\n",
    "                                  Result_GHG_m3_plot['Tank transport'] + Result_GHG_m3_plot['Pump transport'] +\n",
    "                                  Result_GHG_m3_plot['Acid transport'] + Result_GHG_m3_plot['Tank manufacturing'] +\n",
    "                                 Result_GHG_m3_plot['Pump manufacturing'])\n",
    "\n",
    "Result_Energy_m3_plot = Result_Energy_m3_plot.drop(['Resin transport', 'Catridge transport', \n",
    "                                                    'Tank transport', 'Pump transport', 'Acid transport', 'Tank manufacturing',\n",
    "                                                   'Pump manufacturing'] , 1)\n",
    "Result_GHG_m3_plot = Result_GHG_m3_plot.drop(['Resin transport', 'Catridge transport', \n",
    "                                                    'Tank transport', 'Pump transport', 'Acid transport', 'Tank manufacturing',\n",
    "                                                   'Pump manufacturing'] , 1)"
   ]
  },
  {
   "cell_type": "code",
   "execution_count": null,
   "metadata": {
    "collapsed": false
   },
   "outputs": [],
   "source": [
    "fig = plt.figure(figsize=(8, 5))\n",
    "ax = fig.add_subplot(1,2, 1)\n",
    "a=Result_Energy_m3_plot.plot(kind='bar', stacked = True, ax=ax, legend=False,colormap='PRGn')\n",
    "plt.xticks(fontsize=14)\n",
    "plt.yticks(fontsize=14)\n",
    "plt.ylabel('Unit Energy ($kWh$/$m^3$)',fontsize=18)\n",
    "ax = fig.add_subplot(1,2, 2)\n",
    "b=Result_GHG_m3_plot.plot(kind='bar', stacked = True, secondary_y=True, ax=ax, legend=False,colormap='PRGn')\n",
    "plt.xticks(fontsize=14)\n",
    "plt.yticks(fontsize=14)\n",
    "plt.ylabel('Unit GHG emissions ($kgCO_2(eq)/m^3$)',fontsize=18)\n",
    "b.legend(loc='lower center', bbox_to_anchor=(-0.1, 1.05),ncol=2, fancybox=True, shadow=True,fontsize=16)\n",
    "fig.tight_layout()"
   ]
  },
  {
   "cell_type": "code",
   "execution_count": null,
   "metadata": {
    "collapsed": true
   },
   "outputs": [],
   "source": []
  },
  {
   "cell_type": "code",
   "execution_count": null,
   "metadata": {
    "collapsed": true
   },
   "outputs": [],
   "source": []
  }
 ],
 "metadata": {
  "kernelspec": {
   "display_name": "Python 2",
   "language": "python",
   "name": "python2"
  },
  "language_info": {
   "codemirror_mode": {
    "name": "ipython",
    "version": 2
   },
   "file_extension": ".py",
   "mimetype": "text/x-python",
   "name": "python",
   "nbconvert_exporter": "python",
   "pygments_lexer": "ipython2",
   "version": "2.7.11"
  }
 },
 "nbformat": 4,
 "nbformat_minor": 0
}
