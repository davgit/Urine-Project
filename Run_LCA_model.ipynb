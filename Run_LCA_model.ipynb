{
 "cells": [
  {
   "cell_type": "code",
   "execution_count": 1,
   "metadata": {
    "collapsed": false
   },
   "outputs": [],
   "source": [
    "from __future__ import division\n",
    "import pandas as pd\n",
    "import numpy as np\n",
    "import matplotlib.pyplot as plt\n",
    "import math\n",
    "import statsmodels.formula.api as sm\n",
    "import statsmodels.api as smf\n",
    "%matplotlib inline"
   ]
  },
  {
   "cell_type": "code",
   "execution_count": 2,
   "metadata": {
    "collapsed": false
   },
   "outputs": [],
   "source": [
    "from utils.Run_LCA_model import Run_LCA_model"
   ]
  },
  {
   "cell_type": "markdown",
   "metadata": {},
   "source": [
    "## Set your inputs\n",
    "\n",
    "* Path to shapefile with building data and population\n",
    "* logistics scenario to run (choose from: 'optimal', 'grid', 'random')\n",
    "* Max number of regeneration facilities\n",
    "* Number of fertilizer collection facilities"
   ]
  },
  {
   "cell_type": "code",
   "execution_count": 7,
   "metadata": {
    "collapsed": true
   },
   "outputs": [],
   "source": [
    "#buildings_path = '..\\shapefiles\\\\building_block_people_WGS_3_int.csv'\n",
    "buildings_path = '..\\shapefiles\\\\building_block_people_WGS_3_empl.csv'\n",
    "logistics = 'random'\n",
    "analysis = 'Normal'\n",
    "total_num_regeneration = 100\n",
    "n_collection = 1"
   ]
  },
  {
   "cell_type": "code",
   "execution_count": 8,
   "metadata": {
    "collapsed": false
   },
   "outputs": [
    {
     "name": "stdout",
     "output_type": "stream",
     "text": [
      "Start calculating distances...\n",
      "calc distances took time 19.110196113586426\n",
      "Total_people = 690322.5\n",
      "truck_num = 324.45\n",
      "dist = 184948.916999063\n",
      "2\n",
      "Start calculating distances...\n",
      "calc distances took time 18.448671340942383\n",
      "Total_people = 690322.5\n",
      "truck_num = 324.46\n",
      "dist = 146728.42653568156\n",
      "7\n",
      "Start calculating distances...\n",
      "calc distances took time 18.212082386016846\n",
      "Total_people = 690322.5\n",
      "truck_num = 324.47999999999996\n",
      "dist = 140218.2857546442\n",
      "12\n",
      "Start calculating distances...\n",
      "calc distances took time 18.223929405212402\n",
      "Total_people = 690322.5\n",
      "truck_num = 324.53\n",
      "dist = 138158.82613524445\n",
      "22\n",
      "Start calculating distances...\n",
      "calc distances took time 19.16513681411743\n",
      "Total_people = 690322.5\n",
      "truck_num = 324.54999999999995\n",
      "dist = 124657.83669819812\n",
      "32\n",
      "Start calculating distances...\n",
      "calc distances took time 19.001113891601562\n",
      "Total_people = 690322.5\n",
      "truck_num = 324.59\n",
      "dist = 120226.31101075328\n",
      "42\n",
      "Start calculating distances...\n",
      "calc distances took time 19.189693689346313\n",
      "Total_people = 690322.5\n",
      "truck_num = 324.64000000000004\n",
      "dist = 119166.08479182362\n",
      "52\n",
      "Start calculating distances...\n",
      "calc distances took time 19.74603247642517\n",
      "Total_people = 690322.5\n",
      "truck_num = 324.68000000000006\n",
      "dist = 116342.31541434299\n",
      "62\n",
      "Start calculating distances...\n",
      "calc distances took time 19.269838571548462\n",
      "Total_people = 690322.5\n",
      "truck_num = 324.74000000000007\n",
      "dist = 114098.83615276382\n",
      "72\n",
      "Start calculating distances...\n",
      "calc distances took time 19.739389657974243\n",
      "Total_people = 690322.5\n",
      "truck_num = 324.74999999999994\n",
      "dist = 111774.2026820899\n",
      "82\n",
      "Start calculating distances...\n",
      "calc distances took time 20.315119743347168\n",
      "Total_people = 690322.5\n",
      "truck_num = 324.78999999999996\n",
      "dist = 110719.40538148966\n",
      "92\n"
     ]
    }
   ],
   "source": [
    "Result_Energy_m3 = pd.DataFrame()\n",
    "Result_GHG_m3 = pd.DataFrame()\n",
    "Result_COST_m3 = pd.DataFrame()\n",
    "i=2\n",
    "while i < total_num_regeneration:\n",
    "    n_regen = i\n",
    "    Total_Energy_m3, Total_GHG_m3, Total_COST_m3 = Run_LCA_model(buildings_path, n_regen, n_collection, logistics, analysis)\n",
    "    Result_Energy_m3 = Result_Energy_m3.append(Total_Energy_m3)\n",
    "    Result_GHG_m3 = Result_GHG_m3.append(Total_GHG_m3)\n",
    "    Result_COST_m3 = Result_COST_m3.append(Total_COST_m3)\n",
    "    print (i)\n",
    "    if i<10:\n",
    "        i = i + 5\n",
    "    else:\n",
    "        i = i+10"
   ]
  },
  {
   "cell_type": "code",
   "execution_count": 9,
   "metadata": {
    "collapsed": false
   },
   "outputs": [],
   "source": [
    "Result_Energy_m3[\"sum\"] = (Result_Energy_m3.sum(axis=1)) - Result_Energy_m3[\"n_facilities\"]\n",
    "Result_GHG_m3[\"sum\"] = (Result_GHG_m3.sum(axis=1)) - Result_GHG_m3[\"n_facilities\"]\n",
    "Result_COST_m3[\"sum\"] = (Result_COST_m3.sum(axis=1)) - Result_COST_m3[\"n_facilities\"]"
   ]
  },
  {
   "cell_type": "code",
   "execution_count": 10,
   "metadata": {
    "collapsed": false
   },
   "outputs": [],
   "source": [
    "Result_Energy_m3.to_csv('results/Energy_m3_%s.csv'% (logistics)) \n",
    "Result_GHG_m3.to_csv('results/GHG_m3_%s.csv'% (logistics)) \n",
    "Result_COST_m3.to_csv('results/COST_m3_%s.csv'% (logistics)) "
   ]
  },
  {
   "cell_type": "code",
   "execution_count": null,
   "metadata": {
    "collapsed": true
   },
   "outputs": [],
   "source": []
  }
 ],
 "metadata": {
  "anaconda-cloud": {},
  "kernelspec": {
   "display_name": "Python [Root]",
   "language": "python",
   "name": "Python [Root]"
  },
  "language_info": {
   "codemirror_mode": {
    "name": "ipython",
    "version": 3
   },
   "file_extension": ".py",
   "mimetype": "text/x-python",
   "name": "python",
   "nbconvert_exporter": "python",
   "pygments_lexer": "ipython3",
   "version": "3.5.2"
  }
 },
 "nbformat": 4,
 "nbformat_minor": 0
}
