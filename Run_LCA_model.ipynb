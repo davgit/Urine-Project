{
 "cells": [
  {
   "cell_type": "code",
   "execution_count": 1,
   "metadata": {
    "collapsed": false
   },
   "outputs": [],
   "source": [
    "from __future__ import division\n",
    "import pandas as pd\n",
    "import numpy as np\n",
    "import matplotlib.pyplot as plt\n",
    "import math\n",
    "import statsmodels.formula.api as sm\n",
    "import statsmodels.api as smf\n",
    "%matplotlib inline"
   ]
  },
  {
   "cell_type": "code",
   "execution_count": null,
   "metadata": {
    "collapsed": false
   },
   "outputs": [],
   "source": [
    "from Parameters import *\n",
    "from Run_LCA_model import Run_LCA_model"
   ]
  },
  {
   "cell_type": "code",
   "execution_count": null,
   "metadata": {
    "collapsed": false
   },
   "outputs": [
    {
     "name": "stdout",
     "output_type": "stream",
     "text": [
      "Start calculating distances for scheduled...\n",
      "calc distances took time 8.18610167503357\n",
      "2\n",
      "Start calculating distances for scheduled...\n",
      "calc distances took time 12.553321361541748\n",
      "4\n",
      "Start calculating distances for scheduled...\n"
     ]
    }
   ],
   "source": [
    "buildings_path = '..\\shapefiles\\\\building_block_people_WGS_3_int.csv'\n",
    "schedule = 'scheduled' \n",
    "logistics = 'grid'\n",
    "n_collection = 1\n",
    "Result_Energy = pd.DataFrame()\n",
    "Result_GHG = pd.DataFrame()\n",
    "Result_Energy_m3 = pd.DataFrame()\n",
    "Result_GHG_m3 = pd.DataFrame()\n",
    "i=2\n",
    "while i < 100:\n",
    "    n_regen = i\n",
    "    Total_Energy_total, Total_GHG_total, Total_Energy_m3, Total_GHG_m3 = Run_LCA_model(buildings_path, n_regen, n_collection, schedule, logistics)\n",
    "    Result_Energy_m3 = Result_Energy_m3.append(Total_Energy_m3)\n",
    "    Result_GHG_m3 = Result_GHG_m3.append(Total_GHG_m3)\n",
    "    Result_Energy = Result_Energy.append(Total_Energy_total)\n",
    "    Result_GHG = Result_GHG.append(Total_GHG_total)\n",
    "    print (i)\n",
    "    if i<10:\n",
    "        i = i + 2\n",
    "    else:\n",
    "        i = i+10"
   ]
  },
  {
   "cell_type": "code",
   "execution_count": null,
   "metadata": {
    "collapsed": false
   },
   "outputs": [],
   "source": [
    "Result_Energy"
   ]
  },
  {
   "cell_type": "code",
   "execution_count": null,
   "metadata": {
    "collapsed": false
   },
   "outputs": [],
   "source": [
    "Result_Energy_m3[\"sum\"] = (Result_Energy_m3.sum(axis=1)) - Result_Energy_m3[\"n_facilities\"]\n",
    "Result_GHG_m3[\"sum\"] = (Result_GHG_m3.sum(axis=1)) - Result_GHG_m3[\"n_facilities\"]"
   ]
  },
  {
   "cell_type": "code",
   "execution_count": null,
   "metadata": {
    "collapsed": false
   },
   "outputs": [],
   "source": [
    "Result_Energy_m3"
   ]
  },
  {
   "cell_type": "markdown",
   "metadata": {
    "collapsed": true
   },
   "source": [
    "Result_Energy_m3 = pd.read_csv('Energy_result.csv')\n",
    "Result_GHG_m3 = pd.read_csv('GHG_result.csv')"
   ]
  },
  {
   "cell_type": "markdown",
   "metadata": {
    "collapsed": true
   },
   "source": [
    "Result_Energy_m3=pd.read_csv('Energy_result_unscheduled.csv')\n",
    "Result_GHG_m3=pd.read_csv('GHG_result_unscheduled.csv')"
   ]
  },
  {
   "cell_type": "code",
   "execution_count": null,
   "metadata": {
    "collapsed": false
   },
   "outputs": [],
   "source": [
    "fig = plt.figure(figsize=(9,6))\n",
    "plt.plot(Result_Energy_m3[\"n_facilities\"], Result_Energy_m3[\"sum\"], 'ro', markersize=11)\n",
    "plt.xticks(fontsize = 18)\n",
    "plt.xlim(0,100)\n",
    "#plt.ylim(50,100)\n",
    "plt.xlabel('Decentralization (# of facilities)', fontsize = 20)\n",
    "plt.yticks(fontsize = 18)\n",
    "plt.ylabel('Unit Energy ($kWh$/$m^3$)', fontsize = 20)"
   ]
  },
  {
   "cell_type": "code",
   "execution_count": null,
   "metadata": {
    "collapsed": false
   },
   "outputs": [],
   "source": [
    "fig = plt.figure(figsize=(9,6))\n",
    "plt.plot(Result_GHG_m3[\"n_facilities\"], Result_GHG_m3[\"sum\"], 'ro', markersize=11)\n",
    "plt.xticks(fontsize = 18)\n",
    "plt.xlim(0,100)\n",
    "#plt.ylim(3.5,4.5)\n",
    "plt.xlabel('Decentralization (# of facilities)', fontsize = 20)\n",
    "plt.yticks(fontsize = 18)\n",
    "plt.ylabel('Unit GHG emissions ($kgCO_2(eq)/m^3$)', fontsize = 20)"
   ]
  },
  {
   "cell_type": "code",
   "execution_count": null,
   "metadata": {
    "collapsed": false
   },
   "outputs": [],
   "source": [
    "Result_Energy_m3_plot = Result_Energy_m3.drop('sum',1).drop('n_facilities',1)\n",
    "Result_GHG_m3_plot = Result_GHG_m3.drop('sum',1).drop('n_facilities',1)"
   ]
  },
  {
   "cell_type": "code",
   "execution_count": null,
   "metadata": {
    "collapsed": false
   },
   "outputs": [],
   "source": [
    "Result_Energy_m3_plot['other'] = (Result_Energy_m3_plot['Resin transport'] + Result_Energy_m3_plot['Catridge transport']+\n",
    "                                  Result_Energy_m3_plot['Tank transport'] + Result_Energy_m3_plot['Pump transport'] +\n",
    "                                  Result_Energy_m3_plot['Acid transport']+ Result_Energy_m3_plot['Tank manufacturing'] +\n",
    "                                 Result_Energy_m3_plot['Pump manufacturing'])\n",
    "Result_GHG_m3_plot['other'] = (Result_GHG_m3_plot['Resin transport'] + Result_GHG_m3_plot['Catridge transport']+\n",
    "                                  Result_GHG_m3_plot['Tank transport'] + Result_GHG_m3_plot['Pump transport'] +\n",
    "                                  Result_GHG_m3_plot['Acid transport'] + Result_GHG_m3_plot['Tank manufacturing'] +\n",
    "                                 Result_GHG_m3_plot['Pump manufacturing'])\n",
    "\n",
    "Result_Energy_m3_plot = Result_Energy_m3_plot.drop(['Resin transport', 'Catridge transport', \n",
    "                                                    'Tank transport', 'Pump transport', 'Acid transport', 'Tank manufacturing',\n",
    "                                                   'Pump manufacturing'] , 1)\n",
    "Result_GHG_m3_plot = Result_GHG_m3_plot.drop(['Resin transport', 'Catridge transport', \n",
    "                                                    'Tank transport', 'Pump transport', 'Acid transport', 'Tank manufacturing',\n",
    "                                                   'Pump manufacturing'] , 1)"
   ]
  },
  {
   "cell_type": "code",
   "execution_count": null,
   "metadata": {
    "collapsed": true
   },
   "outputs": [],
   "source": [
    "Result_Energy_m3_plot_low = Result_Energy_m3_plot[0:1]\n",
    "Result_GHG_m3_plot_low = Result_GHG_m3_plot[0:1]\n",
    "Result_Energy_m3_plot_high = Result_Energy_m3_plot[8:9]\n",
    "Result_GHG_m3_plot_high = Result_GHG_m3_plot[8:9]"
   ]
  },
  {
   "cell_type": "code",
   "execution_count": null,
   "metadata": {
    "collapsed": false
   },
   "outputs": [],
   "source": [
    "fig = plt.figure(figsize=(12, 6))\n",
    "ax = fig.add_subplot(1,5, 1)\n",
    "a=Result_Energy_m3_plot_low.plot(kind='bar', stacked = True, ax=ax, legend=False,colormap='PRGn')\n",
    "plt.xticks(fontsize=14)\n",
    "plt.yticks(fontsize=14)\n",
    "plt.ylim(0, 25)\n",
    "plt.ylabel('Unit Energy ($kWh$/$m^3$)',fontsize=18)\n",
    "ax = fig.add_subplot(1,5, 2)\n",
    "b=Result_GHG_m3_plot_low.plot(kind='bar', stacked = True, secondary_y=True, ax=ax, legend=False,colormap='PRGn')\n",
    "plt.xticks(fontsize=14)\n",
    "plt.yticks(fontsize=14)\n",
    "plt.ylim(0, 1.8)\n",
    "plt.ylabel('Unit GHG emissions ($kgCO_2(eq)/m^3$)',fontsize=18)\n",
    "b.legend(loc='lower center', bbox_to_anchor=(1.5, 1.05),ncol=2, fancybox=True, shadow=True,fontsize=16)\n",
    "ax = fig.add_subplot(1,5, 4)\n",
    "c=Result_Energy_m3_plot_high.plot(kind='bar', stacked = True,ax=ax, legend=False,colormap='PRGn')\n",
    "plt.ylim(0, 25)\n",
    "plt.ylabel('Unit Energy ($kWh$/$m^3$)',fontsize=18)\n",
    "plt.xticks(fontsize=14)\n",
    "plt.yticks(fontsize=14)\n",
    "ax = fig.add_subplot(1,5, 5)\n",
    "d=Result_GHG_m3_plot_high.plot(kind='bar', stacked = True, ax=ax, secondary_y=True, legend=False,colormap='PRGn')\n",
    "plt.ylim(0, 1.8)\n",
    "#fig.tight_layout()\n",
    "plt.ylabel('Unit GHG emissions ($kgCO_2(eq)/m^3$)',fontsize=18)\n",
    "plt.subplots_adjust(left=None, bottom=None, right=None, top=None, wspace=0.05, hspace=None)\n",
    "plt.xticks(fontsize=14)\n",
    "plt.yticks(fontsize=14)"
   ]
  },
  {
   "cell_type": "code",
   "execution_count": null,
   "metadata": {
    "collapsed": false
   },
   "outputs": [],
   "source": [
    "Result_Energy_m3.to_csv('../results/Energy_m3_%s.csv'% (logistics)) \n",
    "Result_GHG_m3.to_csv('../results/GHG_m3_%s.csv'% (logistics)) "
   ]
  },
  {
   "cell_type": "code",
   "execution_count": null,
   "metadata": {
    "collapsed": true
   },
   "outputs": [],
   "source": [
    "Energy_optimal = pd.read_csv('../results/Energy_m3_optimal.csv')\n",
    "Energy_grid = pd.read_csv('../results/Energy_m3_grid.csv')\n",
    "Energy_random = pd.read_csv('../results/Energy_m3_random.csv')\n",
    "GHG_optimal = pd.read_csv('../results/GHG_m3_optimal.csv')\n",
    "GHG_grid = pd.read_csv('../results/GHG_m3_grid.csv')\n",
    "GHG_random = pd.read_csv('../results/GHG_m3_random.csv')"
   ]
  },
  {
   "cell_type": "code",
   "execution_count": null,
   "metadata": {
    "collapsed": false
   },
   "outputs": [],
   "source": [
    "Energy_optimal_log= Energy_optimal\n",
    "Energy_optimal_log['logx'] = np.log(Energy_optimal_log['n_facilities'])\n",
    "Energy_optimal_log['logEnergy'] = np.log(Energy_optimal_log['sum'])\n",
    "energy_optimal = np.array(Energy_optimal_log['logEnergy'])\n",
    "scale_optimal = np.array(Energy_optimal_log['logx'])\n",
    "\n",
    "Energy_grid_log= Energy_grid\n",
    "Energy_grid_log['logx'] = np.log(Energy_grid_log['n_facilities'])\n",
    "Energy_grid_log['logEnergy'] = np.log(Energy_grid_log['sum'])\n",
    "energy_grid = np.array(Energy_grid_log['logEnergy'])\n",
    "scale_grid = np.array(Energy_grid_log['logx'])\n",
    "\n",
    "Energy_random_log= Energy_random\n",
    "Energy_random_log['logx'] = np.log(Energy_random_log['n_facilities'])\n",
    "Energy_random_log['logEnergy'] = np.log(Energy_random_log['sum'])\n",
    "energy_random = np.array(Energy_random_log['logEnergy'])\n",
    "scale_random = np.array(Energy_random_log['logx'])\n",
    "\n",
    "GHG_optimal_log = GHG_optimal\n",
    "GHG_optimal_log['logx'] = np.log(GHG_optimal_log['n_facilities'])\n",
    "GHG_optimal_log['logGHG'] = np.log(GHG_optimal_log['sum'])\n",
    "GHG_optimal = np.array(GHG_optimal_log['logGHG'])\n",
    "\n",
    "GHG_grid_log= GHG_grid\n",
    "GHG_grid_log['logx'] = np.log(GHG_grid_log['n_facilities'])\n",
    "GHG_grid_log['logGHG'] = np.log(GHG_grid_log['sum'])\n",
    "GHG_grid = np.array(GHG_grid_log['logGHG'])\n",
    "\n",
    "GHG_random_log= GHG_random\n",
    "GHG_random_log['logx'] = np.log(GHG_random_log['n_facilities'])\n",
    "GHG_random_log['logGHG'] = np.log(GHG_random_log['sum'])\n",
    "GHG_random = np.array(GHG_random_log['logGHG'])\n"
   ]
  },
  {
   "cell_type": "code",
   "execution_count": null,
   "metadata": {
    "collapsed": false
   },
   "outputs": [],
   "source": [
    "X_optimal = smf.add_constant(scale_optimal)\n",
    "model = smf.OLS(energy_optimal , X_optimal)\n",
    "results_optimal_energy = model.fit()\n",
    "\n",
    "X_grid = smf.add_constant(scale_grid)\n",
    "model = smf.OLS(energy_grid , X_grid)\n",
    "results_grid_energy = model.fit()\n",
    "\n",
    "X_random = smf.add_constant(scale_random)\n",
    "model = smf.OLS(energy_random , X_random)\n",
    "results_random_energy = model.fit()\n",
    "\n",
    "X_optimal_GHG = smf.add_constant(scale_optimal)\n",
    "model = smf.OLS(GHG_optimal , X_optimal_GHG)\n",
    "results_optimal_GHG = model.fit()\n",
    "\n",
    "X_grid_GHG = smf.add_constant(scale_grid)\n",
    "model = smf.OLS(GHG_grid , X_grid_GHG)\n",
    "results_grid_GHG = model.fit()\n",
    "\n",
    "X_random_GHG = smf.add_constant(scale_random)\n",
    "model = smf.OLS(GHG_random , X_random_GHG)\n",
    "results_random_GHG = model.fit()"
   ]
  },
  {
   "cell_type": "code",
   "execution_count": null,
   "metadata": {
    "collapsed": false
   },
   "outputs": [],
   "source": [
    "x1 = np.linspace(0,100, 500) # 100 linearly spaced numbers\n",
    "y1_optimal = (x1**(results_optimal_energy.params[1]))*math.exp(results_optimal_energy.params[0])\n",
    "aa=zip(x1,y1_optimal)\n",
    "pl_optimal=pd.DataFrame(aa)\n",
    "pl_optimal.columns=['x','iso-distant']\n",
    "\n",
    "y1_grid = (x1**(results_grid_energy.params[1]))*math.exp(results_grid_energy.params[0])\n",
    "aa=zip(x1,y1_grid)\n",
    "pl_grid=pd.DataFrame(aa)\n",
    "pl_grid.columns=['x','grid']\n",
    "\n",
    "y1_random = (x1**(results_random_energy.params[1]))*math.exp(results_random_energy.params[0])\n",
    "aa=zip(x1,y1_random)\n",
    "pl_random=pd.DataFrame(aa)\n",
    "pl_random.columns=['x','random']\n",
    "\n",
    "y1_optimal_GHG = (x1**(results_optimal_GHG.params[1]))*math.exp(results_optimal_GHG.params[0])\n",
    "aa=zip(x1,y1_optimal_GHG)\n",
    "pl_optimal_GHG=pd.DataFrame(aa)\n",
    "pl_optimal_GHG.columns=['x','iso-distant']\n",
    "\n",
    "y1_grid_GHG = (x1**(results_grid_GHG.params[1]))*math.exp(results_grid_GHG.params[0]) \n",
    "aa=zip(x1,y1_grid_GHG)\n",
    "pl_grid_GHG=pd.DataFrame(aa)\n",
    "pl_grid_GHG.columns=['x','grid']\n",
    "\n",
    "y1_random_GHG = (x1**(results_random_GHG.params[1]))*math.exp(results_grid_GHG.params[0]) \n",
    "aa=zip(x1,y1_random_GHG)\n",
    "pl_random_GHG=pd.DataFrame(aa)\n",
    "pl_random_GHG.columns=['x','random']"
   ]
  },
  {
   "cell_type": "code",
   "execution_count": null,
   "metadata": {
    "collapsed": false
   },
   "outputs": [],
   "source": [
    "fig, ax = plt.subplots(nrows=1, ncols=1 ,figsize=(8, 6))\n",
    "f = pl_optimal.plot( x='x', y='iso-distant',fontsize=16, c='r', ax=ax, linewidth=4)\n",
    "g = pl_grid.plot( x='x', y='grid',fontsize=16, c='b',linestyle='--', ax=ax, linewidth=4)\n",
    "h = pl_random.plot( x='x', y='random',fontsize=16, c='g', ax=ax, linewidth=4)\n",
    "h.legend(fontsize=18)\n",
    "plt.ylim(20,27)\n",
    "plt.grid(which='major', color='grey', linestyle='--', alpha = 0.5)\n",
    "plt.ylabel('Unit Energy ($kWh$/$m^3$)',fontsize=20)\n",
    "plt.xlabel('Decentralization (# of facilities)', fontsize = 20)"
   ]
  },
  {
   "cell_type": "code",
   "execution_count": null,
   "metadata": {
    "collapsed": false
   },
   "outputs": [],
   "source": [
    "fig, ax = plt.subplots(nrows=1, ncols=1 ,figsize=(8, 6))\n",
    "f = pl_optimal_GHG.plot( x='x', y='iso-distant',fontsize=16, c='r', ax=ax, linewidth=4)\n",
    "g = pl_grid_GHG.plot( x='x', y='grid',fontsize=16, c='b',linestyle='--', ax=ax, linewidth=4)\n",
    "h = pl_random_GHG.plot( x='x', y='random',fontsize=16, c='g', ax=ax, linewidth=4)\n",
    "h.legend(fontsize=18)\n",
    "plt.ylim(1.35, 2)\n",
    "plt.grid(which='major', color='grey', linestyle='--', alpha = 0.5)\n",
    "plt.ylabel('Unit GHG emissions ($kgCO_2(eq)/m^3$)',fontsize=20)\n",
    "plt.xlabel('Decentralization (# of facilities)', fontsize = 20)"
   ]
  },
  {
   "cell_type": "code",
   "execution_count": null,
   "metadata": {
    "collapsed": true
   },
   "outputs": [],
   "source": []
  },
  {
   "cell_type": "code",
   "execution_count": null,
   "metadata": {
    "collapsed": true
   },
   "outputs": [],
   "source": []
  },
  {
   "cell_type": "code",
   "execution_count": null,
   "metadata": {
    "collapsed": true
   },
   "outputs": [],
   "source": []
  }
 ],
 "metadata": {
  "kernelspec": {
   "display_name": "Python [Root]",
   "language": "python",
   "name": "Python [Root]"
  },
  "language_info": {
   "codemirror_mode": {
    "name": "ipython",
    "version": 3
   },
   "file_extension": ".py",
   "mimetype": "text/x-python",
   "name": "python",
   "nbconvert_exporter": "python",
   "pygments_lexer": "ipython3",
   "version": "3.5.2"
  }
 },
 "nbformat": 4,
 "nbformat_minor": 0
}
