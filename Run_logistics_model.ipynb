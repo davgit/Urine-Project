{
 "cells": [
  {
   "cell_type": "code",
   "execution_count": 1,
   "metadata": {
    "collapsed": true
   },
   "outputs": [],
   "source": [
    "from __future__ import division\n",
    "from sklearn.cluster import  MiniBatchKMeans, KMeans, DBSCAN\n",
    "import numpy as np\n",
    "import matplotlib.pyplot as plt\n",
    "import scipy.io\n",
    "import pandas as pd\n",
    "import math\n",
    "from pylab import *\n",
    "from scipy.spatial.distance import cdist\n",
    "from scipy import spatial\n",
    "from mpl_toolkits.mplot3d import Axes3D"
   ]
  },
  {
   "cell_type": "code",
   "execution_count": 2,
   "metadata": {
    "collapsed": false
   },
   "outputs": [],
   "source": [
    "from Parameters import *\n",
    "from logistics_functions import *\n",
    "from Parameters import time_between_catridge_regeneration, collection_times_per_year"
   ]
  },
  {
   "cell_type": "code",
   "execution_count": 3,
   "metadata": {
    "collapsed": true
   },
   "outputs": [],
   "source": [
    "n_regen = 30\n",
    "n_collection = 1\n",
    "schedule = 'scheduled'\n",
    "path = '..\\shapefiles\\\\building_block_people_WGS_2.csv'\n",
    "nx = int(sqrt(30))\n",
    "ny = int(ceil(n_regen/nx))"
   ]
  },
  {
   "cell_type": "code",
   "execution_count": 4,
   "metadata": {
    "collapsed": false
   },
   "outputs": [],
   "source": [
    "bounding_box = [37.729445, 37.797265, -122.387494, -122.500237]\n",
    "Xgrid = make_grid(bounding_box, nx, ny)\n",
    "grid_coord=[]\n",
    "\n",
    "for row in Xgrid:\n",
    "    xgrid=row[0]\n",
    "    ygrid=row[1]\n",
    "    grid_coords = (xgrid, ygrid)\n",
    "    grid_coord.append(grid_coords)\n",
    "\n",
    "grid_coord_df=pd.DataFrame(grid_coord, columns=['lat', 'lon'])"
   ]
  },
  {
   "cell_type": "code",
   "execution_count": 5,
   "metadata": {
    "collapsed": false
   },
   "outputs": [],
   "source": [
    "building_virtual_buildings_df = get_virtual_buildings(path)\n",
    "building_SF_points=building_virtual_buildings_df[['lat_lat','lon_lon']]"
   ]
  },
  {
   "cell_type": "code",
   "execution_count": 6,
   "metadata": {
    "collapsed": false
   },
   "outputs": [],
   "source": [
    "tree = spatial.KDTree(list(zip(grid_coord_df['lat'], grid_coord_df['lon'])))"
   ]
  },
  {
   "cell_type": "code",
   "execution_count": 7,
   "metadata": {
    "collapsed": false
   },
   "outputs": [],
   "source": [
    "building_SF_points_array = list(zip(building_SF_points['lat_lat'],building_SF_points['lon_lon']))"
   ]
  },
  {
   "cell_type": "code",
   "execution_count": 8,
   "metadata": {
    "collapsed": false
   },
   "outputs": [],
   "source": [
    "k_means_labels_regen = tree.query(building_SF_points_array)[1]"
   ]
  },
  {
   "cell_type": "code",
   "execution_count": 9,
   "metadata": {
    "collapsed": false
   },
   "outputs": [],
   "source": [
    "k_means_labels_collection, k_means_cluster_centers_collection = clustering(grid_coord, n_collection)"
   ]
  },
  {
   "cell_type": "code",
   "execution_count": 10,
   "metadata": {
    "collapsed": false
   },
   "outputs": [],
   "source": [
    "def logistics_distances(building_virtual_buildings_df, k_means_labels_regen, k_means_cluster_centers_regen, schedule):\n",
    "    if schedule == 'scheduled':\n",
    "        distance_regeneration = find_distance_regeneration_scheduled(building_virtual_buildings_df, k_means_labels_regen)\n",
    "        distance_regeneration['total_dist_m'] = distance_regeneration['total_dist_m']*365/time_between_catridge_regeneration\n",
    "\n",
    "    elif schedule == 'unscheduled':\n",
    "        distance_regeneration = find_distance_regeneration_scheduled(building_virtual_buildings_df, k_means_labels_regen)\n",
    "        distance_regeneration['total_dist_m'] = distance_regeneration['total_dist_m']*365\n",
    "\n",
    "    else:\n",
    "        print (\"Error scheduling was not specified\")\n",
    "        return\n",
    "\n",
    "    distance_collection = find_distance_collection(k_means_cluster_centers_regen)*collection_times_per_year\n",
    "    return distance_regeneration, distance_collection"
   ]
  },
  {
   "cell_type": "code",
   "execution_count": 11,
   "metadata": {
    "collapsed": false
   },
   "outputs": [],
   "source": [
    "distance_regeneration, distance_collection = logistics_distances(building_virtual_buildings_df, k_means_labels_regen, grid_coord, schedule)"
   ]
  },
  {
   "cell_type": "code",
   "execution_count": 12,
   "metadata": {
    "collapsed": false
   },
   "outputs": [
    {
     "data": {
      "text/html": [
       "<div>\n",
       "<table border=\"1\" class=\"dataframe\">\n",
       "  <thead>\n",
       "    <tr style=\"text-align: right;\">\n",
       "      <th></th>\n",
       "      <th>cluster</th>\n",
       "      <th>num_people</th>\n",
       "      <th>trucks_num</th>\n",
       "      <th>total_dist_m</th>\n",
       "    </tr>\n",
       "  </thead>\n",
       "  <tbody>\n",
       "    <tr>\n",
       "      <th>0</th>\n",
       "      <td>0</td>\n",
       "      <td>2.0</td>\n",
       "      <td>0.01</td>\n",
       "      <td>0.000000</td>\n",
       "    </tr>\n",
       "    <tr>\n",
       "      <th>1</th>\n",
       "      <td>1</td>\n",
       "      <td>19736.0</td>\n",
       "      <td>9.62</td>\n",
       "      <td>3199.345434</td>\n",
       "    </tr>\n",
       "    <tr>\n",
       "      <th>2</th>\n",
       "      <td>2</td>\n",
       "      <td>17393.0</td>\n",
       "      <td>9.30</td>\n",
       "      <td>2654.500819</td>\n",
       "    </tr>\n",
       "    <tr>\n",
       "      <th>3</th>\n",
       "      <td>3</td>\n",
       "      <td>23772.0</td>\n",
       "      <td>14.40</td>\n",
       "      <td>3881.245183</td>\n",
       "    </tr>\n",
       "    <tr>\n",
       "      <th>4</th>\n",
       "      <td>4</td>\n",
       "      <td>6365.0</td>\n",
       "      <td>3.54</td>\n",
       "      <td>1058.701992</td>\n",
       "    </tr>\n",
       "    <tr>\n",
       "      <th>5</th>\n",
       "      <td>5</td>\n",
       "      <td>59.0</td>\n",
       "      <td>0.08</td>\n",
       "      <td>27.953131</td>\n",
       "    </tr>\n",
       "    <tr>\n",
       "      <th>6</th>\n",
       "      <td>6</td>\n",
       "      <td>34282.0</td>\n",
       "      <td>13.71</td>\n",
       "      <td>4608.790468</td>\n",
       "    </tr>\n",
       "    <tr>\n",
       "      <th>7</th>\n",
       "      <td>7</td>\n",
       "      <td>21328.0</td>\n",
       "      <td>10.43</td>\n",
       "      <td>3442.702632</td>\n",
       "    </tr>\n",
       "    <tr>\n",
       "      <th>8</th>\n",
       "      <td>8</td>\n",
       "      <td>24768.0</td>\n",
       "      <td>15.56</td>\n",
       "      <td>5185.488502</td>\n",
       "    </tr>\n",
       "    <tr>\n",
       "      <th>9</th>\n",
       "      <td>9</td>\n",
       "      <td>23644.0</td>\n",
       "      <td>9.51</td>\n",
       "      <td>3825.211279</td>\n",
       "    </tr>\n",
       "    <tr>\n",
       "      <th>10</th>\n",
       "      <td>10</td>\n",
       "      <td>6432.0</td>\n",
       "      <td>3.05</td>\n",
       "      <td>1319.846520</td>\n",
       "    </tr>\n",
       "    <tr>\n",
       "      <th>11</th>\n",
       "      <td>11</td>\n",
       "      <td>33518.0</td>\n",
       "      <td>11.31</td>\n",
       "      <td>4322.109458</td>\n",
       "    </tr>\n",
       "    <tr>\n",
       "      <th>12</th>\n",
       "      <td>12</td>\n",
       "      <td>23473.0</td>\n",
       "      <td>9.58</td>\n",
       "      <td>3608.854908</td>\n",
       "    </tr>\n",
       "    <tr>\n",
       "      <th>13</th>\n",
       "      <td>13</td>\n",
       "      <td>14219.0</td>\n",
       "      <td>9.49</td>\n",
       "      <td>3605.526515</td>\n",
       "    </tr>\n",
       "    <tr>\n",
       "      <th>14</th>\n",
       "      <td>14</td>\n",
       "      <td>47385.0</td>\n",
       "      <td>25.19</td>\n",
       "      <td>8642.807892</td>\n",
       "    </tr>\n",
       "    <tr>\n",
       "      <th>15</th>\n",
       "      <td>15</td>\n",
       "      <td>40338.0</td>\n",
       "      <td>11.07</td>\n",
       "      <td>4877.122914</td>\n",
       "    </tr>\n",
       "    <tr>\n",
       "      <th>16</th>\n",
       "      <td>16</td>\n",
       "      <td>48354.0</td>\n",
       "      <td>8.22</td>\n",
       "      <td>4104.808673</td>\n",
       "    </tr>\n",
       "    <tr>\n",
       "      <th>17</th>\n",
       "      <td>17</td>\n",
       "      <td>39289.0</td>\n",
       "      <td>14.41</td>\n",
       "      <td>5421.262323</td>\n",
       "    </tr>\n",
       "    <tr>\n",
       "      <th>18</th>\n",
       "      <td>18</td>\n",
       "      <td>29701.0</td>\n",
       "      <td>15.45</td>\n",
       "      <td>4925.554333</td>\n",
       "    </tr>\n",
       "    <tr>\n",
       "      <th>19</th>\n",
       "      <td>19</td>\n",
       "      <td>55966.0</td>\n",
       "      <td>26.23</td>\n",
       "      <td>8388.190621</td>\n",
       "    </tr>\n",
       "    <tr>\n",
       "      <th>20</th>\n",
       "      <td>20</td>\n",
       "      <td>58245.0</td>\n",
       "      <td>9.80</td>\n",
       "      <td>3686.372698</td>\n",
       "    </tr>\n",
       "    <tr>\n",
       "      <th>21</th>\n",
       "      <td>21</td>\n",
       "      <td>54915.0</td>\n",
       "      <td>2.65</td>\n",
       "      <td>1784.314672</td>\n",
       "    </tr>\n",
       "    <tr>\n",
       "      <th>22</th>\n",
       "      <td>22</td>\n",
       "      <td>27733.0</td>\n",
       "      <td>6.70</td>\n",
       "      <td>2735.545074</td>\n",
       "    </tr>\n",
       "    <tr>\n",
       "      <th>23</th>\n",
       "      <td>23</td>\n",
       "      <td>30309.0</td>\n",
       "      <td>12.64</td>\n",
       "      <td>4023.590184</td>\n",
       "    </tr>\n",
       "    <tr>\n",
       "      <th>24</th>\n",
       "      <td>24</td>\n",
       "      <td>46135.0</td>\n",
       "      <td>21.30</td>\n",
       "      <td>6586.897336</td>\n",
       "    </tr>\n",
       "    <tr>\n",
       "      <th>25</th>\n",
       "      <td>25</td>\n",
       "      <td>4803.0</td>\n",
       "      <td>0.60</td>\n",
       "      <td>673.907922</td>\n",
       "    </tr>\n",
       "    <tr>\n",
       "      <th>26</th>\n",
       "      <td>26</td>\n",
       "      <td>16006.0</td>\n",
       "      <td>0.71</td>\n",
       "      <td>419.730747</td>\n",
       "    </tr>\n",
       "    <tr>\n",
       "      <th>27</th>\n",
       "      <td>27</td>\n",
       "      <td>5923.0</td>\n",
       "      <td>2.25</td>\n",
       "      <td>871.056493</td>\n",
       "    </tr>\n",
       "    <tr>\n",
       "      <th>28</th>\n",
       "      <td>28</td>\n",
       "      <td>3070.0</td>\n",
       "      <td>0.76</td>\n",
       "      <td>369.554378</td>\n",
       "    </tr>\n",
       "  </tbody>\n",
       "</table>\n",
       "</div>"
      ],
      "text/plain": [
       "    cluster  num_people  trucks_num  total_dist_m\n",
       "0         0         2.0        0.01      0.000000\n",
       "1         1     19736.0        9.62   3199.345434\n",
       "2         2     17393.0        9.30   2654.500819\n",
       "3         3     23772.0       14.40   3881.245183\n",
       "4         4      6365.0        3.54   1058.701992\n",
       "5         5        59.0        0.08     27.953131\n",
       "6         6     34282.0       13.71   4608.790468\n",
       "7         7     21328.0       10.43   3442.702632\n",
       "8         8     24768.0       15.56   5185.488502\n",
       "9         9     23644.0        9.51   3825.211279\n",
       "10       10      6432.0        3.05   1319.846520\n",
       "11       11     33518.0       11.31   4322.109458\n",
       "12       12     23473.0        9.58   3608.854908\n",
       "13       13     14219.0        9.49   3605.526515\n",
       "14       14     47385.0       25.19   8642.807892\n",
       "15       15     40338.0       11.07   4877.122914\n",
       "16       16     48354.0        8.22   4104.808673\n",
       "17       17     39289.0       14.41   5421.262323\n",
       "18       18     29701.0       15.45   4925.554333\n",
       "19       19     55966.0       26.23   8388.190621\n",
       "20       20     58245.0        9.80   3686.372698\n",
       "21       21     54915.0        2.65   1784.314672\n",
       "22       22     27733.0        6.70   2735.545074\n",
       "23       23     30309.0       12.64   4023.590184\n",
       "24       24     46135.0       21.30   6586.897336\n",
       "25       25      4803.0        0.60    673.907922\n",
       "26       26     16006.0        0.71    419.730747\n",
       "27       27      5923.0        2.25    871.056493\n",
       "28       28      3070.0        0.76    369.554378"
      ]
     },
     "execution_count": 12,
     "metadata": {},
     "output_type": "execute_result"
    }
   ],
   "source": [
    "distance_regeneration"
   ]
  },
  {
   "cell_type": "code",
   "execution_count": null,
   "metadata": {
    "collapsed": true
   },
   "outputs": [],
   "source": []
  },
  {
   "cell_type": "code",
   "execution_count": null,
   "metadata": {
    "collapsed": true
   },
   "outputs": [],
   "source": []
  }
 ],
 "metadata": {
  "anaconda-cloud": {},
  "kernelspec": {
   "display_name": "Python [Root]",
   "language": "python",
   "name": "Python [Root]"
  },
  "language_info": {
   "codemirror_mode": {
    "name": "ipython",
    "version": 3
   },
   "file_extension": ".py",
   "mimetype": "text/x-python",
   "name": "python",
   "nbconvert_exporter": "python",
   "pygments_lexer": "ipython3",
   "version": "3.5.2"
  }
 },
 "nbformat": 4,
 "nbformat_minor": 0
}
