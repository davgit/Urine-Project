{
 "cells": [
  {
   "cell_type": "code",
   "execution_count": 1,
   "metadata": {
    "collapsed": true
   },
   "outputs": [],
   "source": [
    "from __future__ import division\n",
    "from sklearn.cluster import  MiniBatchKMeans, KMeans, DBSCAN\n",
    "import numpy as np\n",
    "import matplotlib.pyplot as plt\n",
    "import scipy.io\n",
    "import pandas as pd\n",
    "import math\n",
    "from pylab import *\n",
    "from scipy.spatial.distance import cdist\n",
    "from scipy import spatial\n",
    "from mpl_toolkits.mplot3d import Axes3D"
   ]
  },
  {
   "cell_type": "code",
   "execution_count": 2,
   "metadata": {
    "collapsed": false
   },
   "outputs": [],
   "source": [
    "from Parameters import *\n",
    "from logistics_functions import *\n",
    "from logistics_model import *\n",
    "from Parameters import time_between_catridge_regeneration, collection_times_per_year"
   ]
  },
  {
   "cell_type": "code",
   "execution_count": 3,
   "metadata": {
    "collapsed": true
   },
   "outputs": [],
   "source": [
    "n_regen = 2\n",
    "n_collection = 1\n",
    "schedule = 'scheduled'\n",
    "path = '..\\shapefiles\\\\building_block_people_WGS_3_int.csv'\n",
    "logistics = 'optimal'"
   ]
  },
  {
   "cell_type": "code",
   "execution_count": 4,
   "metadata": {
    "collapsed": false
   },
   "outputs": [
    {
     "name": "stdout",
     "output_type": "stream",
     "text": [
      "Start calculating distances for scheduled...\n",
      "calc distances took time 17.89389681816101\n"
     ]
    }
   ],
   "source": [
    "Logistics = logistics_model(path, n_regen, n_collection, logistics)\n",
    "distance_regeneration, distance_collection = Logistics.logistics_distances()"
   ]
  },
  {
   "cell_type": "code",
   "execution_count": 5,
   "metadata": {
    "collapsed": false
   },
   "outputs": [],
   "source": [
    "peop = distance_regeneration['num_people'].sum()"
   ]
  },
  {
   "cell_type": "code",
   "execution_count": 12,
   "metadata": {
    "collapsed": false
   },
   "outputs": [
    {
     "data": {
      "text/plain": [
       "781329.0"
      ]
     },
     "execution_count": 12,
     "metadata": {},
     "output_type": "execute_result"
    }
   ],
   "source": [
    "peop"
   ]
  },
  {
   "cell_type": "code",
   "execution_count": 6,
   "metadata": {
    "collapsed": false
   },
   "outputs": [],
   "source": [
    "from LCA_urine_model import LCA_urine_model"
   ]
  },
  {
   "cell_type": "code",
   "execution_count": 7,
   "metadata": {
    "collapsed": false
   },
   "outputs": [],
   "source": [
    "Total_Energy = pd.DataFrame()\n",
    "Total_GHG = pd.DataFrame()\n",
    "Total_COST = pd.DataFrame()\n",
    "for index, row in distance_regeneration.iterrows():\n",
    "    number_of_people_per_facility= row['num_people']\n",
    "    distance_regen = row['total_dist_m']\n",
    "    truck_num = int(row['trucks_num'])\n",
    "    ENERGY, GHG, COST= LCA_urine_model(number_of_people_per_facility, distance_regen, truck_num)\n",
    "    Total_Energy=Total_Energy.append(ENERGY)\n",
    "    Total_GHG=Total_GHG.append(GHG)\n",
    "    Total_COST=Total_COST.append(COST)"
   ]
  },
  {
   "cell_type": "code",
   "execution_count": 10,
   "metadata": {
    "collapsed": false
   },
   "outputs": [
    {
     "data": {
      "text/html": [
       "<div>\n",
       "<table border=\"1\" class=\"dataframe\">\n",
       "  <thead>\n",
       "    <tr style=\"text-align: right;\">\n",
       "      <th></th>\n",
       "      <th>Resin manufacturing</th>\n",
       "      <th>Resin transport</th>\n",
       "      <th>Catridge manufacturing</th>\n",
       "      <th>Catridge transport</th>\n",
       "      <th>Tank manufacturing</th>\n",
       "      <th>Tank transport</th>\n",
       "      <th>Pump operation</th>\n",
       "      <th>Pump manufacturing</th>\n",
       "      <th>Pump transport</th>\n",
       "      <th>Acid manufacturing</th>\n",
       "      <th>Acid transport</th>\n",
       "      <th>Logistics_regen</th>\n",
       "      <th>trucks manufacturing</th>\n",
       "      <th>facility space</th>\n",
       "    </tr>\n",
       "  </thead>\n",
       "  <tbody>\n",
       "    <tr>\n",
       "      <th>0</th>\n",
       "      <td>1.913459e+06</td>\n",
       "      <td>8.8</td>\n",
       "      <td>19510.63347</td>\n",
       "      <td>0.33</td>\n",
       "      <td>38.674755</td>\n",
       "      <td>0.33</td>\n",
       "      <td>19.45629</td>\n",
       "      <td>249.78</td>\n",
       "      <td>1.65</td>\n",
       "      <td>1.558956e+06</td>\n",
       "      <td>16.5</td>\n",
       "      <td>176204.673957</td>\n",
       "      <td>432000.0</td>\n",
       "      <td>20000.0</td>\n",
       "    </tr>\n",
       "  </tbody>\n",
       "</table>\n",
       "</div>"
      ],
      "text/plain": [
       "   Resin manufacturing  Resin transport  Catridge manufacturing  \\\n",
       "0         1.913459e+06              8.8             19510.63347   \n",
       "\n",
       "   Catridge transport  Tank manufacturing  Tank transport  Pump operation  \\\n",
       "0                0.33           38.674755            0.33        19.45629   \n",
       "\n",
       "   Pump manufacturing  Pump transport  Acid manufacturing  Acid transport  \\\n",
       "0              249.78            1.65        1.558956e+06            16.5   \n",
       "\n",
       "   Logistics_regen  trucks manufacturing  facility space  \n",
       "0    176204.673957              432000.0         20000.0  "
      ]
     },
     "execution_count": 10,
     "metadata": {},
     "output_type": "execute_result"
    }
   ],
   "source": [
    "Total_COST_regen"
   ]
  },
  {
   "cell_type": "code",
   "execution_count": 11,
   "metadata": {
    "collapsed": true
   },
   "outputs": [],
   "source": [
    "Total_COST_total = Total_COST_regen"
   ]
  },
  {
   "cell_type": "code",
   "execution_count": 12,
   "metadata": {
    "collapsed": true
   },
   "outputs": [],
   "source": [
    "Total_COST_m3 = Total_COST_total/(1*365*peop/1000)"
   ]
  },
  {
   "cell_type": "code",
   "execution_count": 13,
   "metadata": {
    "collapsed": false
   },
   "outputs": [
    {
     "data": {
      "text/html": [
       "<div>\n",
       "<table border=\"1\" class=\"dataframe\">\n",
       "  <thead>\n",
       "    <tr style=\"text-align: right;\">\n",
       "      <th></th>\n",
       "      <th>Resin manufacturing</th>\n",
       "      <th>Resin transport</th>\n",
       "      <th>Catridge manufacturing</th>\n",
       "      <th>Catridge transport</th>\n",
       "      <th>Tank manufacturing</th>\n",
       "      <th>Tank transport</th>\n",
       "      <th>Pump operation</th>\n",
       "      <th>Pump manufacturing</th>\n",
       "      <th>Pump transport</th>\n",
       "      <th>Acid manufacturing</th>\n",
       "      <th>Acid transport</th>\n",
       "      <th>Logistics_regen</th>\n",
       "      <th>trucks manufacturing</th>\n",
       "      <th>facility space</th>\n",
       "    </tr>\n",
       "  </thead>\n",
       "  <tbody>\n",
       "    <tr>\n",
       "      <th>0</th>\n",
       "      <td>6.709533</td>\n",
       "      <td>0.000031</td>\n",
       "      <td>0.068414</td>\n",
       "      <td>0.000001</td>\n",
       "      <td>0.000136</td>\n",
       "      <td>0.000001</td>\n",
       "      <td>0.000068</td>\n",
       "      <td>0.000876</td>\n",
       "      <td>0.000006</td>\n",
       "      <td>5.466472</td>\n",
       "      <td>0.000058</td>\n",
       "      <td>0.617861</td>\n",
       "      <td>1.514806</td>\n",
       "      <td>0.07013</td>\n",
       "    </tr>\n",
       "  </tbody>\n",
       "</table>\n",
       "</div>"
      ],
      "text/plain": [
       "   Resin manufacturing  Resin transport  Catridge manufacturing  \\\n",
       "0             6.709533         0.000031                0.068414   \n",
       "\n",
       "   Catridge transport  Tank manufacturing  Tank transport  Pump operation  \\\n",
       "0            0.000001            0.000136        0.000001        0.000068   \n",
       "\n",
       "   Pump manufacturing  Pump transport  Acid manufacturing  Acid transport  \\\n",
       "0            0.000876        0.000006            5.466472        0.000058   \n",
       "\n",
       "   Logistics_regen  trucks manufacturing  facility space  \n",
       "0         0.617861              1.514806         0.07013  "
      ]
     },
     "execution_count": 13,
     "metadata": {},
     "output_type": "execute_result"
    }
   ],
   "source": [
    "Total_COST_m3"
   ]
  },
  {
   "cell_type": "code",
   "execution_count": null,
   "metadata": {
    "collapsed": true
   },
   "outputs": [],
   "source": []
  }
 ],
 "metadata": {
  "kernelspec": {
   "display_name": "Python [Root]",
   "language": "python",
   "name": "Python [Root]"
  },
  "language_info": {
   "codemirror_mode": {
    "name": "ipython",
    "version": 3
   },
   "file_extension": ".py",
   "mimetype": "text/x-python",
   "name": "python",
   "nbconvert_exporter": "python",
   "pygments_lexer": "ipython3",
   "version": "3.5.2"
  }
 },
 "nbformat": 4,
 "nbformat_minor": 0
}
