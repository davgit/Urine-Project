{
 "cells": [
  {
   "cell_type": "code",
   "execution_count": 1,
   "metadata": {
    "collapsed": true
   },
   "outputs": [],
   "source": [
    "from __future__ import division\n",
    "from sklearn.cluster import  MiniBatchKMeans, KMeans, DBSCAN\n",
    "import numpy as np\n",
    "import matplotlib.pyplot as plt\n",
    "import scipy.io\n",
    "import pandas as pd\n",
    "import math\n",
    "from pylab import *\n",
    "from scipy.spatial.distance import cdist\n",
    "from scipy import spatial\n",
    "from mpl_toolkits.mplot3d import Axes3D"
   ]
  },
  {
   "cell_type": "code",
   "execution_count": 2,
   "metadata": {
    "collapsed": false
   },
   "outputs": [],
   "source": [
    "from Parameters import *\n",
    "from logistics_functions import *\n",
    "from logistics_model import *\n",
    "from Parameters import time_between_catridge_regeneration, collection_times_per_year"
   ]
  },
  {
   "cell_type": "code",
   "execution_count": 3,
   "metadata": {
    "collapsed": true
   },
   "outputs": [],
   "source": [
    "n_regen = 30\n",
    "n_collection = 1\n",
    "schedule = 'scheduled'\n",
    "path = '..\\shapefiles\\\\building_block_people_WGS_3_int.csv'\n",
    "logistics = 'optimal'"
   ]
  },
  {
   "cell_type": "code",
   "execution_count": 4,
   "metadata": {
    "collapsed": false
   },
   "outputs": [
    {
     "name": "stdout",
     "output_type": "stream",
     "text": [
      "Start calculating distances for scheduled...\n",
      "calc distances took time 23.895989656448364\n"
     ]
    }
   ],
   "source": [
    "Logistics = logistics_model(path, n_regen, n_collection, schedule, logistics)\n",
    "distance_regeneration, distance_collection = Logistics.logistics_distances()"
   ]
  },
  {
   "cell_type": "code",
   "execution_count": 10,
   "metadata": {
    "collapsed": false
   },
   "outputs": [
    {
     "data": {
      "text/html": [
       "<div>\n",
       "<table border=\"1\" class=\"dataframe\">\n",
       "  <thead>\n",
       "    <tr style=\"text-align: right;\">\n",
       "      <th></th>\n",
       "      <th>cluster</th>\n",
       "      <th>num_people</th>\n",
       "      <th>trucks_num</th>\n",
       "      <th>total_dist_m</th>\n",
       "    </tr>\n",
       "  </thead>\n",
       "  <tbody>\n",
       "    <tr>\n",
       "      <th>0</th>\n",
       "      <td>0</td>\n",
       "      <td>22207</td>\n",
       "      <td>12</td>\n",
       "      <td>5409.185011</td>\n",
       "    </tr>\n",
       "    <tr>\n",
       "      <th>1</th>\n",
       "      <td>1</td>\n",
       "      <td>19646</td>\n",
       "      <td>10</td>\n",
       "      <td>3581.412615</td>\n",
       "    </tr>\n",
       "    <tr>\n",
       "      <th>2</th>\n",
       "      <td>2</td>\n",
       "      <td>18132</td>\n",
       "      <td>11</td>\n",
       "      <td>4594.745428</td>\n",
       "    </tr>\n",
       "    <tr>\n",
       "      <th>3</th>\n",
       "      <td>3</td>\n",
       "      <td>35091</td>\n",
       "      <td>6</td>\n",
       "      <td>4723.967803</td>\n",
       "    </tr>\n",
       "    <tr>\n",
       "      <th>4</th>\n",
       "      <td>4</td>\n",
       "      <td>28495</td>\n",
       "      <td>13</td>\n",
       "      <td>6338.369646</td>\n",
       "    </tr>\n",
       "    <tr>\n",
       "      <th>5</th>\n",
       "      <td>5</td>\n",
       "      <td>22793</td>\n",
       "      <td>11</td>\n",
       "      <td>7610.364211</td>\n",
       "    </tr>\n",
       "    <tr>\n",
       "      <th>6</th>\n",
       "      <td>6</td>\n",
       "      <td>13162</td>\n",
       "      <td>10</td>\n",
       "      <td>4639.287356</td>\n",
       "    </tr>\n",
       "    <tr>\n",
       "      <th>7</th>\n",
       "      <td>7</td>\n",
       "      <td>38049</td>\n",
       "      <td>15</td>\n",
       "      <td>8813.336238</td>\n",
       "    </tr>\n",
       "    <tr>\n",
       "      <th>8</th>\n",
       "      <td>8</td>\n",
       "      <td>17923</td>\n",
       "      <td>9</td>\n",
       "      <td>3491.433274</td>\n",
       "    </tr>\n",
       "    <tr>\n",
       "      <th>9</th>\n",
       "      <td>9</td>\n",
       "      <td>38342</td>\n",
       "      <td>12</td>\n",
       "      <td>5745.307949</td>\n",
       "    </tr>\n",
       "    <tr>\n",
       "      <th>10</th>\n",
       "      <td>10</td>\n",
       "      <td>21844</td>\n",
       "      <td>11</td>\n",
       "      <td>5092.906789</td>\n",
       "    </tr>\n",
       "    <tr>\n",
       "      <th>11</th>\n",
       "      <td>11</td>\n",
       "      <td>27760</td>\n",
       "      <td>12</td>\n",
       "      <td>6072.120419</td>\n",
       "    </tr>\n",
       "    <tr>\n",
       "      <th>12</th>\n",
       "      <td>12</td>\n",
       "      <td>24546</td>\n",
       "      <td>11</td>\n",
       "      <td>4513.798783</td>\n",
       "    </tr>\n",
       "    <tr>\n",
       "      <th>13</th>\n",
       "      <td>13</td>\n",
       "      <td>9837</td>\n",
       "      <td>5</td>\n",
       "      <td>2952.612764</td>\n",
       "    </tr>\n",
       "    <tr>\n",
       "      <th>14</th>\n",
       "      <td>14</td>\n",
       "      <td>26240</td>\n",
       "      <td>11</td>\n",
       "      <td>4439.431124</td>\n",
       "    </tr>\n",
       "    <tr>\n",
       "      <th>15</th>\n",
       "      <td>15</td>\n",
       "      <td>17077</td>\n",
       "      <td>10</td>\n",
       "      <td>4310.296540</td>\n",
       "    </tr>\n",
       "    <tr>\n",
       "      <th>16</th>\n",
       "      <td>16</td>\n",
       "      <td>18306</td>\n",
       "      <td>9</td>\n",
       "      <td>3901.797278</td>\n",
       "    </tr>\n",
       "    <tr>\n",
       "      <th>17</th>\n",
       "      <td>17</td>\n",
       "      <td>73840</td>\n",
       "      <td>13</td>\n",
       "      <td>7615.549786</td>\n",
       "    </tr>\n",
       "    <tr>\n",
       "      <th>18</th>\n",
       "      <td>18</td>\n",
       "      <td>30643</td>\n",
       "      <td>16</td>\n",
       "      <td>6143.103498</td>\n",
       "    </tr>\n",
       "    <tr>\n",
       "      <th>19</th>\n",
       "      <td>19</td>\n",
       "      <td>17004</td>\n",
       "      <td>8</td>\n",
       "      <td>5196.279716</td>\n",
       "    </tr>\n",
       "    <tr>\n",
       "      <th>20</th>\n",
       "      <td>20</td>\n",
       "      <td>42925</td>\n",
       "      <td>9</td>\n",
       "      <td>5047.256993</td>\n",
       "    </tr>\n",
       "    <tr>\n",
       "      <th>21</th>\n",
       "      <td>21</td>\n",
       "      <td>12159</td>\n",
       "      <td>4</td>\n",
       "      <td>1958.566482</td>\n",
       "    </tr>\n",
       "    <tr>\n",
       "      <th>22</th>\n",
       "      <td>22</td>\n",
       "      <td>22023</td>\n",
       "      <td>12</td>\n",
       "      <td>5314.845970</td>\n",
       "    </tr>\n",
       "    <tr>\n",
       "      <th>23</th>\n",
       "      <td>23</td>\n",
       "      <td>45311</td>\n",
       "      <td>5</td>\n",
       "      <td>4148.782379</td>\n",
       "    </tr>\n",
       "    <tr>\n",
       "      <th>24</th>\n",
       "      <td>24</td>\n",
       "      <td>17180</td>\n",
       "      <td>12</td>\n",
       "      <td>5663.485062</td>\n",
       "    </tr>\n",
       "    <tr>\n",
       "      <th>25</th>\n",
       "      <td>25</td>\n",
       "      <td>15516</td>\n",
       "      <td>10</td>\n",
       "      <td>3538.770510</td>\n",
       "    </tr>\n",
       "    <tr>\n",
       "      <th>26</th>\n",
       "      <td>26</td>\n",
       "      <td>34929</td>\n",
       "      <td>9</td>\n",
       "      <td>5006.219972</td>\n",
       "    </tr>\n",
       "    <tr>\n",
       "      <th>27</th>\n",
       "      <td>27</td>\n",
       "      <td>17442</td>\n",
       "      <td>10</td>\n",
       "      <td>4209.227604</td>\n",
       "    </tr>\n",
       "    <tr>\n",
       "      <th>28</th>\n",
       "      <td>28</td>\n",
       "      <td>23149</td>\n",
       "      <td>9</td>\n",
       "      <td>4670.275715</td>\n",
       "    </tr>\n",
       "  </tbody>\n",
       "</table>\n",
       "</div>"
      ],
      "text/plain": [
       "    cluster  num_people  trucks_num  total_dist_m\n",
       "0         0       22207          12   5409.185011\n",
       "1         1       19646          10   3581.412615\n",
       "2         2       18132          11   4594.745428\n",
       "3         3       35091           6   4723.967803\n",
       "4         4       28495          13   6338.369646\n",
       "5         5       22793          11   7610.364211\n",
       "6         6       13162          10   4639.287356\n",
       "7         7       38049          15   8813.336238\n",
       "8         8       17923           9   3491.433274\n",
       "9         9       38342          12   5745.307949\n",
       "10       10       21844          11   5092.906789\n",
       "11       11       27760          12   6072.120419\n",
       "12       12       24546          11   4513.798783\n",
       "13       13        9837           5   2952.612764\n",
       "14       14       26240          11   4439.431124\n",
       "15       15       17077          10   4310.296540\n",
       "16       16       18306           9   3901.797278\n",
       "17       17       73840          13   7615.549786\n",
       "18       18       30643          16   6143.103498\n",
       "19       19       17004           8   5196.279716\n",
       "20       20       42925           9   5047.256993\n",
       "21       21       12159           4   1958.566482\n",
       "22       22       22023          12   5314.845970\n",
       "23       23       45311           5   4148.782379\n",
       "24       24       17180          12   5663.485062\n",
       "25       25       15516          10   3538.770510\n",
       "26       26       34929           9   5006.219972\n",
       "27       27       17442          10   4209.227604\n",
       "28       28       23149           9   4670.275715"
      ]
     },
     "execution_count": 10,
     "metadata": {},
     "output_type": "execute_result"
    }
   ],
   "source": [
    "distance_regeneration"
   ]
  },
  {
   "cell_type": "code",
   "execution_count": 15,
   "metadata": {
    "collapsed": false
   },
   "outputs": [],
   "source": [
    "tr = int(distance_regeneration['trucks_num'].sum())"
   ]
  },
  {
   "cell_type": "code",
   "execution_count": 17,
   "metadata": {
    "collapsed": false
   },
   "outputs": [
    {
     "data": {
      "text/plain": [
       "295"
      ]
     },
     "execution_count": 17,
     "metadata": {},
     "output_type": "execute_result"
    }
   ],
   "source": [
    "tr"
   ]
  },
  {
   "cell_type": "code",
   "execution_count": null,
   "metadata": {
    "collapsed": true
   },
   "outputs": [],
   "source": []
  }
 ],
 "metadata": {
  "kernelspec": {
   "display_name": "Python [Root]",
   "language": "python",
   "name": "Python [Root]"
  },
  "language_info": {
   "codemirror_mode": {
    "name": "ipython",
    "version": 3
   },
   "file_extension": ".py",
   "mimetype": "text/x-python",
   "name": "python",
   "nbconvert_exporter": "python",
   "pygments_lexer": "ipython3",
   "version": "3.5.2"
  }
 },
 "nbformat": 4,
 "nbformat_minor": 0
}
