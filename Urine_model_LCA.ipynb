{
 "cells": [
  {
   "cell_type": "code",
   "execution_count": 1,
   "metadata": {
    "collapsed": true
   },
   "outputs": [],
   "source": [
    "from __future__ import division\n",
    "import pandas as pd\n",
    "import numpy as np\n",
    "import matplotlib.pyplot as plt\n",
    "import math\n",
    "%matplotlib inline"
   ]
  },
  {
   "cell_type": "code",
   "execution_count": 188,
   "metadata": {
    "collapsed": false
   },
   "outputs": [
    {
     "data": {
      "text/plain": [
       "<module 'Parameters' from 'Parameters.py'>"
      ]
     },
     "execution_count": 188,
     "metadata": {},
     "output_type": "execute_result"
    }
   ],
   "source": [
    "import Parameters as p\n",
    "reload(p)"
   ]
  },
  {
   "cell_type": "code",
   "execution_count": 189,
   "metadata": {
    "collapsed": true
   },
   "outputs": [],
   "source": [
    "pipe_construction_data = pd.read_csv('C:\\Users\\Olga\\Documents\\RENUWIT\\Urine_separation\\python_model\\\\pipe_construction_data.csv')\n",
    "pump_construction_data = pd.read_csv('C:\\Users\\Olga\\Documents\\RENUWIT\\Urine_separation\\python_model\\\\pump_construction_data.csv')"
   ]
  },
  {
   "cell_type": "code",
   "execution_count": 190,
   "metadata": {
    "collapsed": false
   },
   "outputs": [],
   "source": [
    "scaling_factor = 1\n",
    "electricity_EF=p.electricity_EF\n",
    "motor_efficiency = p.motor_efficiency\n",
    "specific_weight = p.specific_weight #kN/m3\n",
    "catridge_diameter = p.catridge_diameter #mm\n",
    "PVC_density = p.PVC_density #g/cm3\n",
    "PVC_lifetime=p.PVC_lifetime\n",
    "resin_density = p.resin_density #g/L\n",
    "resin_cost = p.resin_cost #$/kg\n",
    "resin_energy_ef = p.resin_energy #MJ/kg ion exchange resin WEST\n",
    "resin_GHG_ef = p.resin_GHG #kg/kg ion exchange resin WEST\n",
    "resin_energy_MJ_kg=resin_energy_ef #MJ/kg\n",
    "resin_GHG_kg_kg = resin_GHG_ef #kg/kg\n",
    "hydraulic_conductivity = p.hydraulic_conductivity #m/s\n",
    "resin_lifetime = p.resin_lifetime\n",
    "\n",
    "N_urine = p.N_urine #gN/L\n",
    "adsorption_density = p.adsorption_density #mmolN/g resin\n",
    "molar_mass_N = p.molar_mass_N #g/mol\n",
    "\n",
    "time_between_catridge_regeneration = p.time_between_catridge_regeneration #days\n",
    "urine_production = p.urine_production #L/day-person\n",
    "urine_production_scaled = urine_production/scaling_factor\n",
    "household_size = p.household_size\n",
    "\n",
    "flow_equalization_retention_time=p.flow_equalization_retention_time\n",
    "steel_GHG_kg_kg=p.steel_GHG #kgCO2/kg\n",
    "steel_energy_MJ_kg=p.steel_energy #MJ/kg\n",
    "steel_sheet_mass=p.steel_sheet_mass #kg\n",
    "steel_sheet_area = p.steel_sheet_area #m2\n",
    "tank_height = p.tank_height #m\n",
    "tank_thickness=p.tank_thickness #m\n",
    "steel_lifetime=p.steel_lifetime\n",
    "\n",
    "transport_energy_MJ_tonmile=p.transport_energy #MJ/ton-mile\n",
    "transport_GHG_kg_tonmile=p.transport_GHG #kgCo2/ton-mile\n",
    "miles=p.transport_miles\n",
    "\n",
    "plastic_energy=p.plastic_energy #MJ/$  EIOLCA plastics manufacturing\n",
    "plastic_GHG=p.plastic_GHG #kg/$ EIOLCA plastics manufacturing\n",
    "plastic_cost = p.plastic_cost  #$/m3 alibaba\n",
    "plastic_density = p.plastic_density #kg/m3\n",
    "plastic_energy_MJ_kg = plastic_energy*plastic_cost/plastic_density\n",
    "plastic_GHG_kg_kg = plastic_GHG*plastic_cost/plastic_density\n",
    "plastic_lifetime = p.plastic_lifetime #years\n",
    "\n",
    "pump_lifetime=p.pump_lifetime\n",
    "\n",
    "sulfiric_acid_energy = p.sulfiric_acid_energy #MJ/kg Ecoinvent\n",
    "sulfiric_acid_GHG = p.sulfiric_acid_GHG #kg/kg Ecoinvent"
   ]
  },
  {
   "cell_type": "code",
   "execution_count": 191,
   "metadata": {
    "collapsed": false
   },
   "outputs": [],
   "source": [
    "pipe_construction_data=pipe_construction_data[pipe_construction_data['Material']=='PVC']\n",
    "nominal_diameter_list=np.array(pipe_construction_data['size_mm'])\n",
    "pump_size_list=np.array(pump_construction_data['Rating_hp'])"
   ]
  },
  {
   "cell_type": "code",
   "execution_count": 192,
   "metadata": {
    "collapsed": true
   },
   "outputs": [],
   "source": [
    "def find_transport_energy(mass, lifetime):\n",
    "    transport_energy = transport_energy_MJ_tonmile*miles*mass/(1000*lifetime)\n",
    "    return transport_energy #MJ_y\n",
    "    \n",
    "def find_transport_GHG(mass,lifetime):\n",
    "    transport_GHG = transport_GHG_kg_tonmile*miles*mass/(1000*lifetime)\n",
    "    return transport_GHG #kg_y\n",
    "\n",
    "def find_nearest(array,value):\n",
    "    idx = (np.abs(array-value)).argmin()\n",
    "    return array[idx]"
   ]
  },
  {
   "cell_type": "code",
   "execution_count": 193,
   "metadata": {
    "collapsed": false
   },
   "outputs": [],
   "source": [
    "class resin():\n",
    "    def __init__(self,household_size):\n",
    "        self.household_size=household_size\n",
    "        \n",
    "    def mass_resin_household(self):\n",
    "        daily_urine_household = self.household_size*urine_production_scaled #L/day\n",
    "        volume_urine_treated_before_replacement = time_between_catridge_regeneration*daily_urine_household #L\n",
    "        mass_resin_household=volume_urine_treated_before_replacement*N_urine/(adsorption_density*molar_mass_N) #kg\n",
    "        return mass_resin_household #kg\n",
    "    \n",
    "    def resin_energy(self):\n",
    "        resin_energy = self.mass_resin_household()*resin_energy_MJ_kg/resin_lifetime\n",
    "        return resin_energy #MJ_y\n",
    "    \n",
    "    def resin_GHG(self):\n",
    "        resin_GHG = self.mass_resin_household()*resin_GHG_kg_kg/resin_lifetime\n",
    "        return resin_GHG #kg_y\n",
    "    \n",
    "    def transportation_energy(self):\n",
    "        mass_resin_household = self.mass_resin_household()\n",
    "        resin_transport_energy=find_transport_energy(mass_resin_household, resin_lifetime)\n",
    "        return resin_transport_energy #MJ_y\n",
    "    \n",
    "    def transportation_GHG(self):\n",
    "        mass_resin_household = self.mass_resin_household()\n",
    "        resin_transport_GHG=find_transport_GHG(mass_resin_household, resin_lifetime)\n",
    "        return resin_transport_GHG #kg_y\n",
    "    \n",
    "    def total_energy(self):\n",
    "        total_energy = self.resin_energy()+self.transportation_energy()\n",
    "        return total_energy #MJ_y\n",
    "    \n",
    "    def total_GHG(self):\n",
    "        total_GHG = self.resin_GHG()+self.transportation_GHG()\n",
    "        return total_GHG #kg_y"
   ]
  },
  {
   "cell_type": "code",
   "execution_count": 194,
   "metadata": {
    "collapsed": true
   },
   "outputs": [],
   "source": [
    "class catridge():\n",
    "    def __init__(self, diameter, mass_resin_household):\n",
    "        self.diameter = diameter\n",
    "        self.mass_resin_household = mass_resin_household\n",
    "        \n",
    "    def catridge_volume(self):\n",
    "        catridge_volume = self.mass_resin_household/resin_density*1000 #L\n",
    "        return catridge_volume\n",
    "    \n",
    "    def catridge_length(self):\n",
    "        catridge_length = self.catridge_volume()*1000/(math.pi*((self.diameter/10)/2)**2)/100 #m\n",
    "        return catridge_length\n",
    "    \n",
    "    def mass_PVC(self):\n",
    "        diameter_mm=self.diameter\n",
    "        diameter=find_nearest(nominal_diameter_list,diameter_mm)\n",
    "        pipe_index=pipe_construction_data.set_index('size_mm')\n",
    "        pipe_weight_kg=pipe_index.Wt_kg_m[diameter]*self.catridge_length()\n",
    "        return pipe_weight_kg\n",
    "\n",
    "    def PVC_energy(self):\n",
    "        pipe_index=pipe_construction_data.set_index('size_mm')\n",
    "        diameter_mm=self.diameter\n",
    "        diameter=find_nearest(nominal_diameter_list,diameter_mm)\n",
    "        PVC_energy_MJ=pipe_index.Embodied_Energy_MJ_kg[diameter]*self.mass_PVC()/PVC_lifetime\n",
    "        return PVC_energy_MJ #MJ_y\n",
    "\n",
    "    def PVC_GHG(self):\n",
    "        pipe_index=pipe_construction_data.set_index('size_mm')\n",
    "        diameter_mm=self.diameter\n",
    "        diameter=find_nearest(nominal_diameter_list,diameter_mm)\n",
    "        PVC_GHG_kg=pipe_index.Emissions_kgCO2_eq_m[diameter]*self.catridge_length()/PVC_lifetime\n",
    "        return PVC_GHG_kg #kg_y\n",
    "    \n",
    "    def transportation_energy(self):\n",
    "        mass_PVC = self.mass_PVC()\n",
    "        PVC_transport_energy=find_transport_energy(mass_PVC, PVC_lifetime)\n",
    "        return PVC_transport_energy #MJ_y\n",
    "    \n",
    "    def transportation_GHG(self):\n",
    "        mass_PVC = self.mass_PVC()\n",
    "        PVC_transport_GHG=find_transport_GHG(mass_PVC, PVC_lifetime)\n",
    "        return PVC_transport_GHG #kg_y\n",
    "    \n",
    "    def total_energy(self):\n",
    "        total_energy = self.PVC_energy()+self.transportation_energy()\n",
    "        return total_energy #MJ_y\n",
    "    \n",
    "    def total_GHG(self):\n",
    "        total_GHG = self.PVC_GHG()+self.transportation_GHG()\n",
    "        return total_GHG #kg_y"
   ]
  },
  {
   "cell_type": "code",
   "execution_count": 195,
   "metadata": {
    "collapsed": true
   },
   "outputs": [],
   "source": [
    "class flow_equalization_steel():\n",
    "    def __init__(self, household_size):\n",
    "        self.household_size=household_size\n",
    "        \n",
    "    def volume(self):\n",
    "        daily_urine_household = self.household_size*urine_production_scaled #L/day\n",
    "        volume = daily_urine_household*flow_equalization_retention_time/1000 \n",
    "        return volume #m3\n",
    "    \n",
    "    def area_cylinder(self):\n",
    "        radius = math.sqrt(self.volume()/(math.pi*tank_height))\n",
    "        area = 2*math.pi*radius*tank_height+2*math.pi*radius**2\n",
    "        return area\n",
    "    \n",
    "    def mass_steel(self):\n",
    "        area = self.area_cylinder()       \n",
    "        if area/steel_sheet_area<0:\n",
    "            num_steel_sheets=1\n",
    "            mass_steel_sheets = num_steel_sheets*steel_sheet_mass\n",
    "            mass_steel=mass_steel_sheets*(area/steel_sheet_area)\n",
    "        else:\n",
    "            num_steel_sheets=(area/steel_sheet_area)\n",
    "            mass_steel = num_steel_sheets*steel_sheet_mass\n",
    "        return mass_steel\n",
    "        \n",
    "    def steel_energy(self):\n",
    "        mass_steel = self.mass_steel()\n",
    "        steel_energy = mass_steel*steel_energy_MJ_kg/steel_lifetime\n",
    "        return steel_energy #MJ_y\n",
    "\n",
    "    def steel_GHG(self):\n",
    "        mass_steel = self.mass_steel()\n",
    "        steel_GHG = mass_steel*steel_GHG_kg_kg/steel_lifetime\n",
    "        return steel_GHG #kg_y\n",
    "    \n",
    "    def transportation_energy(self):\n",
    "        mass_steel = self.mass_steel()\n",
    "        steel_transport_energy=find_transport_energy(mass_steel, steel_lifetime)\n",
    "        return steel_transport_energy #MJ_y\n",
    "    \n",
    "    def transportation_GHG(self):\n",
    "        mass_steel = self.mass_steel()\n",
    "        steel_transport_GHG=find_transport_GHG(mass_steel, steel_lifetime)\n",
    "        return steel_transport_GHG #kg_y\n",
    "    \n",
    "    def total_energy(self):\n",
    "        total_energy = self.steel_energy()+self.transportation_energy()\n",
    "        return total_energy #MJ_y\n",
    "    \n",
    "    def total_GHG(self):\n",
    "        total_GHG = self.steel_GHG()+self.transportation_GHG()\n",
    "        return total_GHG #kg_y"
   ]
  },
  {
   "cell_type": "code",
   "execution_count": 196,
   "metadata": {
    "collapsed": true
   },
   "outputs": [],
   "source": [
    "class flow_equalization_plastic():\n",
    "    def __init__(self, household_size):\n",
    "        self.household_size=household_size\n",
    "        \n",
    "    def volume(self):\n",
    "        daily_urine_household = self.household_size*urine_production_scaled #L/day\n",
    "        volume = daily_urine_household*flow_equalization_retention_time/1000 \n",
    "        return volume #m3\n",
    "    \n",
    "    def area_cylinder(self):\n",
    "        radius = math.sqrt(self.volume()/(math.pi*tank_height))\n",
    "        area = 2*math.pi*radius*tank_height+2*math.pi*radius**2\n",
    "        return area\n",
    "    \n",
    "    def mass_plastic(self):\n",
    "        area = self.area_cylinder()       \n",
    "        mass = area*tank_thickness*plastic_density\n",
    "        return mass\n",
    "        \n",
    "    def plastic_energy(self):\n",
    "        mass = self.mass_plastic()\n",
    "        plastic_energy = mass*plastic_energy_MJ_kg/plastic_lifetime\n",
    "        return plastic_energy #MJ_y\n",
    "\n",
    "    def plastic_GHG(self):\n",
    "        mass = self.mass_plastic()\n",
    "        plastic_GHG = mass*plastic_GHG_kg_kg/plastic_lifetime\n",
    "        return plastic_GHG #kg_y\n",
    "    \n",
    "    def transportation_energy(self):\n",
    "        mass = self.mass_plastic()\n",
    "        plastic_transport_energy=find_transport_energy(mass, plastic_lifetime)\n",
    "        return plastic_transport_energy #MJ_y\n",
    "    \n",
    "    def transportation_GHG(self):\n",
    "        mass = self.mass_plastic()\n",
    "        plastic_transport_GHG=find_transport_GHG(mass, plastic_lifetime)\n",
    "        return plastic_transport_GHG #kg_y\n",
    "    \n",
    "    def total_energy(self):\n",
    "        total_energy = self.plastic_energy()+self.transportation_energy()\n",
    "        return total_energy #MJ_y\n",
    "    \n",
    "    def total_GHG(self):\n",
    "        total_GHG = self.plastic_GHG()+self.transportation_GHG()\n",
    "        return total_GHG #kg_y"
   ]
  },
  {
   "cell_type": "code",
   "execution_count": 197,
   "metadata": {
    "collapsed": true
   },
   "outputs": [],
   "source": [
    "class pump_flow():\n",
    "    def __init__(self, household_size, catridge_diameter,catridge_length):\n",
    "        self.household_size=household_size\n",
    "        self.catridge_diameter = catridge_diameter\n",
    "        self.catridge_length = catridge_length\n",
    "\n",
    "    def headloss(self):\n",
    "        daily_urine_household = (self.household_size*urine_production_scaled)/(24*3600*1000) #m3/s\n",
    "        surface_area = math.pi*(self.catridge_diameter/1000/2)**2\n",
    "        headloss = daily_urine_household*self.catridge_length/(surface_area*hydraulic_conductivity)\n",
    "        return headloss\n",
    "    \n",
    "    def pump_power(self):\n",
    "        daily_urine_household = (self.household_size*urine_production_scaled)/(24*3600*1000) #m3/s\n",
    "        p_hp = specific_weight*daily_urine_household*self.headloss()/(0.4*motor_efficiency)*1.34\n",
    "        if p_hp<3:\n",
    "            pump_efficiency=0.4\n",
    "        elif 3<=p_hp<7:\n",
    "            pump_efficiency=0.45\n",
    "        elif 7<=p_hp<15:\n",
    "            pump_efficiency=0.5\n",
    "        elif 15<=p_hp<40:\n",
    "            pump_efficiency=0.55\n",
    "        elif 40<=p_hp<60:\n",
    "            pump_efficiency=0.6\n",
    "        else:\n",
    "            pump_efficiency=0.7\n",
    "        power = specific_weight*daily_urine_household*self.headloss()/(pump_efficiency*motor_efficiency)\n",
    "        return power #KW\n",
    "    \n",
    "    def pump_size(self):\n",
    "        size = self.pump_power()*1.34\n",
    "        pump_index=pump_construction_data.set_index('Rating_hp')\n",
    "        pump_size=find_nearest(pump_size_list,size)\n",
    "        return pump_size\n",
    "    \n",
    "    def mass_pump(self):\n",
    "        pump_index=pump_construction_data.set_index('Rating_hp')\n",
    "        pump_size = self.pump_size()\n",
    "        mass_pump=pump_index.Wt_kg[pump_size]\n",
    "        return mass_pump\n",
    "    \n",
    "    def pump_operating_energy(self):\n",
    "        energy = self.pump_power()*24*365*3.6\n",
    "        return energy #MJ/y\n",
    "    \n",
    "    def pump_operating_GHG(self):\n",
    "        GHG = self.pump_operating_energy()*electricity_EF\n",
    "        return GHG #Kg/y\n",
    "    \n",
    "    def pump_embodied_energy(self):\n",
    "        pump_index=pump_construction_data.set_index('Rating_hp')\n",
    "        pump_size = self.pump_size()\n",
    "        pump_energy_MJ=pump_index.Embodied_Energy_MJ[pump_size]/pump_lifetime\n",
    "        return pump_energy_MJ #MJ/y\n",
    "    \n",
    "    def pump_embodied_GHG(self):\n",
    "        pump_index=pump_construction_data.set_index('Rating_hp')\n",
    "        pump_size = self.pump_size()\n",
    "        pump_GHG_kg=pump_index.Emissions_kgCO_eq[pump_size]/pump_lifetime\n",
    "        return pump_GHG_kg #MJ/y\n",
    "        \n",
    "    def transportation_energy(self):\n",
    "        mass = self.mass_pump()\n",
    "        pump_transport_energy=find_transport_energy(mass, pump_lifetime)\n",
    "        return pump_transport_energy #MJ_y\n",
    "    \n",
    "    def transportation_GHG(self):\n",
    "        mass = self.mass_pump()\n",
    "        pump_transport_GHG=find_transport_GHG(mass, pump_lifetime)\n",
    "        return pump_transport_GHG #kg_y\n",
    "    \n",
    "    def total_energy(self):\n",
    "        total_energy = self.pump_operating_energy()+pump_embodied_energy+self.transportation_energy()\n",
    "        return total_energy #MJ_y\n",
    "    \n",
    "    def total_GHG(self):\n",
    "        total_GHG = self.pump_operating_GHG()+pump_embodied_GHG+self.transportation_GHG()\n",
    "        return total_GHG #kg_y    "
   ]
  },
  {
   "cell_type": "code",
   "execution_count": 198,
   "metadata": {
    "collapsed": false
   },
   "outputs": [
    {
     "ename": "IndentationError",
     "evalue": "expected an indented block (<ipython-input-198-2a72c3ac2781>, line 2)",
     "output_type": "error",
     "traceback": [
      "\u001b[1;36m  File \u001b[1;32m\"<ipython-input-198-2a72c3ac2781>\"\u001b[1;36m, line \u001b[1;32m2\u001b[0m\n\u001b[1;33m    \u001b[0m\n\u001b[1;37m    ^\u001b[0m\n\u001b[1;31mIndentationError\u001b[0m\u001b[1;31m:\u001b[0m expected an indented block\n"
     ]
    }
   ],
   "source": [
    "class regeneration():\n",
    "    sulfiric acid\n",
    "    building"
   ]
  },
  {
   "cell_type": "code",
   "execution_count": null,
   "metadata": {
    "collapsed": true
   },
   "outputs": [],
   "source": [
    "class logistics():\n",
    "    trucking distance"
   ]
  },
  {
   "cell_type": "code",
   "execution_count": 209,
   "metadata": {
    "collapsed": false
   },
   "outputs": [],
   "source": [
    "Resin = resin(household_size)\n",
    "resin_energy = Resin.total_energy()\n",
    "resin_GHG = Resin.total_GHG()"
   ]
  },
  {
   "cell_type": "code",
   "execution_count": 210,
   "metadata": {
    "collapsed": false
   },
   "outputs": [],
   "source": [
    "Catridge=catridge(catridge_diameter,Resin.mass_resin_household())\n",
    "catridge_energy = Catridge.total_energy()\n",
    "catridge_GHG = Catridge.total_GHG()"
   ]
  },
  {
   "cell_type": "code",
   "execution_count": 211,
   "metadata": {
    "collapsed": false
   },
   "outputs": [],
   "source": [
    "Flow_equalization=flow_equalization_plastic(household_size)\n",
    "flow_equalization_energy = Flow_equalization.total_energy()\n",
    "flow_equalization_GHG = Flow_equalization.total_GHG()"
   ]
  },
  {
   "cell_type": "code",
   "execution_count": 212,
   "metadata": {
    "collapsed": false
   },
   "outputs": [],
   "source": [
    "Pump = pump_flow(household_size,Catridge.diameter,Catridge.catridge_length())\n",
    "pump_energy = Resin.total_energy()\n",
    "pump_GHG = Resin.total_GHG()"
   ]
  },
  {
   "cell_type": "code",
   "execution_count": 213,
   "metadata": {
    "collapsed": false
   },
   "outputs": [],
   "source": [
    "Total_ENERGY=[Resin.resin_energy(),Resin.transportation_energy(),Catridge.PVC_energy(),Catridge.transportation_energy(),Flow_equalization.plastic_energy(),Flow_equalization.transportation_energy(),Pump.pump_operating_energy(),Pump.pump_embodied_energy(),Pump.transportation_energy()]\n",
    "Total_GHG=[Resin.resin_GHG(),Resin.transportation_GHG(),Catridge.PVC_GHG(),Catridge.transportation_GHG(),Flow_equalization.plastic_GHG(),Flow_equalization.transportation_GHG(),Pump.pump_operating_GHG(),Pump.pump_embodied_GHG(),Pump.transportation_GHG()]\n"
   ]
  },
  {
   "cell_type": "code",
   "execution_count": 214,
   "metadata": {
    "collapsed": false
   },
   "outputs": [],
   "source": [
    "Total_ENERGY=pd.DataFrame(Total_ENERGY)\n",
    "Total_ENERGY = Total_ENERGY/(household_size*urine_production_scaled*365)\n",
    "Total_ENERGY_plot=Total_ENERGY.transpose()\n",
    "Total_GHG=pd.DataFrame(Total_GHG)\n",
    "Total_GHG=Total_GHG/(household_size*urine_production_scaled*365)\n",
    "Total_GHG_plot=Total_GHG.transpose()\n",
    "Total_ENERGY_plot.columns=['Resin manufacturing','Resin transport', 'Catridge manufacturing', 'Catridge transport', 'Tank manufacturing', 'Tank transport', 'Pump operation', 'Pump manufacturing', 'Pump transport']\n",
    "Total_GHG_plot.columns=['Resin manufacturing','Resin transport', 'Catridge manufacturing', 'Catridge transport', 'Tank manufacturing', 'Tank transport', 'Pump operation', 'Pump manufacturing', 'Pump transport']\n"
   ]
  },
  {
   "cell_type": "code",
   "execution_count": 215,
   "metadata": {
    "collapsed": false
   },
   "outputs": [
    {
     "data": {
      "image/png": "[encoded data removed]",
      "text/plain": [
       "<matplotlib.figure.Figure at 0xbacdf98>"
      ]
     },
     "metadata": {},
     "output_type": "display_data"
    }
   ],
   "source": [
    "fig = plt.figure(figsize=(8, 5))\n",
    "ax = fig.add_subplot(1,2, 1)\n",
    "a=Total_ENERGY_plot.plot(kind='bar', stacked = True, ax=ax, legend=False,colormap='PRGn')\n",
    "plt.xticks(fontsize=14)\n",
    "plt.yticks(fontsize=14)\n",
    "plt.ylabel('Unit Energy (kWh/L)',fontsize=18)\n",
    "ax = fig.add_subplot(1,2, 2)\n",
    "b=Total_GHG_plot.plot(kind='bar', stacked = True, secondary_y=True, ax=ax, legend=False,colormap='PRGn')\n",
    "plt.xticks(fontsize=14)\n",
    "plt.yticks(fontsize=14)\n",
    "plt.ylabel('Unit GHG emissions (kgCO$_2(eq)$/L)',fontsize=18)\n",
    "b.legend(loc='lower center', bbox_to_anchor=(-0.1, 1.05),ncol=2, fancybox=True, shadow=True,fontsize=16)\n",
    "fig.tight_layout()"
   ]
  },
  {
   "cell_type": "code",
   "execution_count": null,
   "metadata": {
    "collapsed": true
   },
   "outputs": [],
   "source": []
  },
  {
   "cell_type": "code",
   "execution_count": null,
   "metadata": {
    "collapsed": true
   },
   "outputs": [],
   "source": []
  }
 ],
 "metadata": {
  "kernelspec": {
   "display_name": "Python 2",
   "language": "python",
   "name": "python2"
  },
  "language_info": {
   "codemirror_mode": {
    "name": "ipython",
    "version": 2
   },
   "file_extension": ".py",
   "mimetype": "text/x-python",
   "name": "python",
   "nbconvert_exporter": "python",
   "pygments_lexer": "ipython2",
   "version": "2.7.11"
  }
 },
 "nbformat": 4,
 "nbformat_minor": 0
}
